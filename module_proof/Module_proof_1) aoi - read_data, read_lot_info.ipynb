{
 "cells": [
  {
   "cell_type": "code",
   "execution_count": null,
   "metadata": {
    "collapsed": true
   },
   "outputs": [],
   "source": [
    "import pyodbc\n",
    "import pandas as pd\n",
    "import query_state as qs\n",
    "import aoi\n",
    "db1 = pyodbc.connect(\n",
    "    r'DRIVER={SQL Server};'\n",
    "    r'SERVER=165.244.114.87;'\n",
    "    r'DATABASE=LGCOPTMP;'\n",
    "    r'UID=sa;'\n",
    "    r'PWD=@admin123'\n",
    "    )\n",
    "\n",
    "db3 = pyodbc.connect(\n",
    "    r'DRIVER={Oracle in OraClient11g_home1};'\n",
    "    r'DBQ=iegosp;'\n",
    "    r'UID=iegos_view;'\n",
    "    r'PWD=viewdb7388;'               \n",
    "    )\n",
    "\n",
    "db2 = pyodbc.connect(\n",
    "    r'DRIVER={Oracle in OraClient11g_home1};'\n",
    "    r'DBQ=iepcs;'\n",
    "    r'UID=iepcs_view;'\n",
    "    r'PWD=viewdb7388;'   \n",
    "    )"
   ]
  },
  {
   "cell_type": "code",
   "execution_count": null,
   "metadata": {
    "collapsed": true
   },
   "outputs": [],
   "source": [
    "lot = '20170601CC01001'"
   ]
  },
  {
   "cell_type": "code",
   "execution_count": null,
   "metadata": {
    "collapsed": true
   },
   "outputs": [],
   "source": [
    "qs.find_das(lot)"
   ]
  },
  {
   "cell_type": "code",
   "execution_count": null,
   "metadata": {
    "collapsed": true
   },
   "outputs": [],
   "source": [
    "lot = '20170601CC01001'\n",
    "data = pd.read_sql_query(qs.find_das(lot), db1)"
   ]
  },
  {
   "cell_type": "code",
   "execution_count": null,
   "metadata": {
    "collapsed": true
   },
   "outputs": [],
   "source": [
    "data = data.rename(columns = {'REMARK':'광학계','UNIQUE_LOT_NO':'lot','CAMERA_NO':'카메라 번호','MAX_SIZE':'size(max)',\n",
    "                                  'MIN_SIZE':'size(min)','V_VLAUE':'value','DEFECT_TYPE_CODE':'불량번호','FAULT_XPOS':'x',\n",
    "                                  'FAULT_YPOS':'y','DEFECT_MARK_NAME':'불량명'})"
   ]
  },
  {
   "cell_type": "code",
   "execution_count": null,
   "metadata": {
    "collapsed": true
   },
   "outputs": [],
   "source": [
    "data['size'] = (data['size(max)'] + data['size(min)'])/2\n",
    "data['y'] /= 1000"
   ]
  },
  {
   "cell_type": "code",
   "execution_count": null,
   "metadata": {
    "collapsed": true
   },
   "outputs": [],
   "source": [
    "data.drop(['size(max)','size(min)'], axis = 1, inplace = True)"
   ]
  },
  {
   "cell_type": "code",
   "execution_count": null,
   "metadata": {
    "collapsed": true
   },
   "outputs": [],
   "source": [
    "rotate = True\n",
    "if rotate:\n",
    "    after_coating_info = pd.read_sql_query(qs.after_coating(lot), db3)"
   ]
  },
  {
   "cell_type": "code",
   "execution_count": null,
   "metadata": {
    "collapsed": true
   },
   "outputs": [],
   "source": [
    "if len(after_coating_info)%2 != 0:            \n",
    "    width, length = aoi.read_lot_info(lot)\n",
    "    data['x'] = width - data['x']\n",
    "    data['y'] = length - data['y']"
   ]
  },
  {
   "cell_type": "code",
   "execution_count": null,
   "metadata": {
    "collapsed": true
   },
   "outputs": [],
   "source": [
    "width = pd.read_sql_query(qs.find_width(lot), db2).iloc[0][0][:2]"
   ]
  },
  {
   "cell_type": "code",
   "execution_count": null,
   "metadata": {
    "collapsed": true
   },
   "outputs": [],
   "source": [
    "pd.read_sql_query(qs.find_width(lot), db2)"
   ]
  },
  {
   "cell_type": "code",
   "execution_count": null,
   "metadata": {
    "collapsed": true
   },
   "outputs": [],
   "source": [
    "pd.read_sql_query(qs.find_width('20170517DD03047'), db2).iloc[0].str.extract('[(](\\d*)[)]')[0]"
   ]
  }
 ],
 "metadata": {
  "kernelspec": {
   "display_name": "Python 3",
   "language": "python",
   "name": "python3"
  },
  "language_info": {
   "codemirror_mode": {
    "name": "ipython",
    "version": 3
   },
   "file_extension": ".py",
   "mimetype": "text/x-python",
   "name": "python",
   "nbconvert_exporter": "python",
   "pygments_lexer": "ipython3",
   "version": "3.5.2"
  }
 },
 "nbformat": 4,
 "nbformat_minor": 0
}
