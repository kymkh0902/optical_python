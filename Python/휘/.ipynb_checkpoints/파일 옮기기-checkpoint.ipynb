{
 "cells": [
  {
   "cell_type": "code",
   "execution_count": null,
   "metadata": {
    "collapsed": true
   },
   "outputs": [],
   "source": [
    "# -*- coding: utf-8 -*-\n",
    "\"\"\"\n",
    "Created on Fri Mar 17 18:16:26 2017\n",
    "\n",
    "@author: whikwon\n",
    "\"\"\"\n",
    "\n",
    "import os\n",
    "\n",
    "for i in [6,7,8,9]:\n",
    "    Folder = 'D:/이미지/20170315CN0300' + str(i)\n",
    "    os.chdir(Folder)    \n",
    "    dirlist = os.listdir()   \n",
    "    dirlist = [i for i in dirlist if len(i)>14]\n",
    "               \n",
    "    for i in dirlist:\n",
    "            os.rename(Folder+'/'+i, 'D:/이미지/1번 카메라' + '/' + i)        "
   ]
  }
 ],
 "metadata": {
  "kernelspec": {
   "display_name": "Python 3",
   "language": "python",
   "name": "python3"
  },
  "language_info": {
   "codemirror_mode": {
    "name": "ipython",
    "version": 3
   },
   "file_extension": ".py",
   "mimetype": "text/x-python",
   "name": "python",
   "nbconvert_exporter": "python",
   "pygments_lexer": "ipython3",
   "version": "3.5.2"
  }
 },
 "nbformat": 4,
 "nbformat_minor": 0
}
