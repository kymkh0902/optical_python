{
 "cells": [
  {
   "cell_type": "code",
   "execution_count": null,
   "metadata": {
    "collapsed": true
   },
   "outputs": [],
   "source": [
    "# -*- coding: utf-8 -*-\n",
    "\"\"\"\n",
    "Created on Wed Jan 11 12:01:26 2017\n",
    "\n",
    "@author: whikwon\n",
    "\"\"\"\n",
    "\n",
    "import cx_Oracle\n",
    "import pandas as pd\n",
    "import os\n",
    "import QUERY_STATE as qs\n",
    "\n",
    "dsn_tns = cx_Oracle.makedsn('165.244.121.4', 1521, 'IEPCS1')\n",
    "db = cx_Oracle.connect('iepcs_view', 'viewdb7388', dsn_tns)\n",
    "\n",
    "dsn_tns = cx_Oracle.makedsn('165.244.121.64', 3001, 'IEGOS')\n",
    "db1 = cx_Oracle.connect('iegos_view', 'viewdb7388', dsn_tns)"
   ]
  },
  {
   "cell_type": "code",
   "execution_count": null,
   "metadata": {
    "collapsed": true
   },
   "outputs": [],
   "source": [
    "#%% 구미 투입실적 정리\n",
    "os.chdir('//Client/D$/#.Secure Work Folder/2.투입실적/17년 투입 실적/')\n",
    "\n",
    "for i in range(1,4):\n",
    "    data = pd.read_excel('17년{}월 LGD구미 투입실적현황_(송부용).xls'.format(i), sheetname = 'raw-data', encoding = 'euc-kr', \n",
    "                         skiprows = [0] + [i for i in range(2,2296)], parse_cols = ('B:BQ'))\n",
    "    data = data[data['Maker'] == 'LGC']\n",
    "    data.reset_index(drop = True, inplace = True)\n",
    "    \n",
    "    data['연신'], data['코팅'] = 'Lot','Lot'\n",
    "    lot = data['Lot No.']\n",
    "    \n",
    "    for i in range(len(lot)):\n",
    "        findlot = pd.read_sql_query(qs.find_lot(lot.ix[i]), db)\n",
    "        try : \n",
    "            data.set_value(i, '연신', findlot['연신LOT'][0])\n",
    "            data.set_value(i, '코팅', findlot['코팅LOT'][0])\n",
    "            print('working')\n",
    "            \n",
    "        except : \n",
    "            data.set_value(i, '연신', '확인 불가')\n",
    "            data.set_value(i, '코팅', '확인 불가')\n",
    "    \n",
    "    \n",
    "data['이물계불량'] = data['(TAB)\\n내부이물_실오라기'] + data['(TAB)\\n내부이물_액정계'] + data['(TAB)\\n내부이물_비액정계'] + data['(TAB)\\n실오라기.내부']\n",
    "        \n",
    "data.to_excel('{}월(구미).xlsx'.format(i), index = False)"
   ]
  },
  {
   "cell_type": "code",
   "execution_count": null,
   "metadata": {
    "collapsed": true
   },
   "outputs": [],
   "source": [
    "#%% 연태 투입실적 정리\n",
    "Folder = '//Client/D$/#.Secure Work Folder/2.투입실적/17년 투입 실적/연태'\n",
    "\n",
    "os.chdir(Folder)\n",
    "\n",
    "input_data = pd.read_excel('//Client/D$/#.Secure Work Folder/2.투입실적/17년 투입 실적/연태/2017-04-18 Daily Report.xlsx', sheetname = '投入数量', parse_cols = ('B:L'))\n",
    "#%%\n",
    "input_data['연신'], input_data['코팅'], input_data['코드'] = 'Lot', 'Lot', '코드'\n",
    "lot = input_data['LOT NO'] \n",
    "#%%\n",
    "for i in range(len(lot)):\n",
    "    findlot = pd.read_sql_query(qs.lottracer(qs.lotchanger(lot.ix[i])), db1).drop_duplicates(subset = 'PROD_WC_CD').sort_values(by = 'PROD_WC_CD', ascending = False).reset_index(drop = True)\n",
    "    try:\n",
    "        input_data.set_value(i, '연신', findlot['UNIQUE_LOT_NO'][0])\n",
    "        input_data.set_value(i, '코팅', findlot['UNIQUE_LOT_NO'][1])\n",
    "        input_data.set_value(i, '코드', findlot['PROD_CD'][1])\n",
    "        print('working')\n",
    "    except :\n",
    "        input_data.set_value(i, '연신', '확인 불가')\n",
    "        input_data.set_value(i, '코팅', '확인 불가')\n",
    "        input_data.set_value(i, '코드', '확인 불가')\n",
    "\n",
    "input_data['Date'] = input_data['Date'].apply(lambda x: pd.Timestamp('1899-12-30') + pd.Timedelta(days = x))\n",
    "\n",
    "input_data.to_excel('hello.xlsx', index = False)"
   ]
  }
 ],
 "metadata": {
  "kernelspec": {
   "display_name": "Python 3",
   "language": "python",
   "name": "python3"
  },
  "language_info": {
   "codemirror_mode": {
    "name": "ipython",
    "version": 3
   },
   "file_extension": ".py",
   "mimetype": "text/x-python",
   "name": "python",
   "nbconvert_exporter": "python",
   "pygments_lexer": "ipython3",
   "version": "3.5.2"
  }
 },
 "nbformat": 4,
 "nbformat_minor": 0
}
