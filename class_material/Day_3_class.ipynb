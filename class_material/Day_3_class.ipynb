{
 "cells": [
  {
   "cell_type": "markdown",
   "metadata": {},
   "source": [
    "# Day 3\n",
    "***\n",
    "###  학습 목표 \n",
    "\n",
    "#### 1) 기초 문법 학습\n",
    "\n",
    "  - 데이터 구조\n",
    "      + 내장 : list, tuple, dictionary 등\n",
    "      + 외장 : array, dataframe 등 \n",
    "      \n",
    "      \n",
    "  - 내장 함수\n",
    "      + lambda\n",
    "      + apply\n",
    "      + len\n",
    "      + int/float\n",
    "      + str\n",
    "      + max\n",
    "      + min \n",
    "      + range\n",
    "      + type\n",
    "      + enumerate\n",
    "      + zip\n",
    "      "
   ]
  },
  {
   "cell_type": "markdown",
   "metadata": {},
   "source": [
    "***\n",
    "### 기초 문법\n",
    "\n",
    "- **데이터 구조** \n",
    "    1. 내장 : 파이썬은 list, tuple, dictionary 등의 데이터 구조를 갖습니다. 데이터를 담는 용기의 종류가 여러가지 있구나 라고 생각하세요.\n",
    "        - list : [] 안에 데이터를 입력합니다. 변수를 선언한 후에 추가 데이터를 입력하실 경우 append함수를 사용해줍니다. 데이터 범위 설정의 경우 data[a:b]의 형식으로 선택합니다.\n",
    "        ```python\n",
    "        num = [1,2,3,4]\n",
    "        num.append(5)\n",
    "        num[1:4]\n",
    "        ```\n",
    "        - dict : {} 안에 데이터를 입력합니다. 안에 들어가는 데이터는 key, value의 쌍으로 이루어지며 key:value의 형태로 입력됩니다.\n",
    "        추가 데이터를 입력하실 경우 update함수를 사용해줍니다. 데이터 범위 설정의 경우 data['key']의 형식으로 선택합니다. \n",
    "        ```python\n",
    "        num = {'one' : 1, 'two' : 2, 'three' : 3}\n",
    "        num.update({'four' : 4})\n",
    "        num['one']\n",
    "        ```\n",
    "    2. 외장 : Package들 중에 필요성에 따라 데이터 구조를 추가적으로 지원하는 형식들이 있습니다. numpy의 array, pandas의 dataframe 이 대표적인 예입니다. (이 후 pandas 학습 시에 학습 예정입니다.)    "
   ]
  },
  {
   "cell_type": "code",
   "execution_count": 18,
   "metadata": {
    "collapsed": true
   },
   "outputs": [],
   "source": [
    "# 예제1) list를 만들어봅시다.\n",
    "\n",
    "#1. 3개의 grade를 가진 grades라는 이름의 list를 생성합니다. \n",
    "\n",
    "#2. grades(list)에 1개 grade를 추가합니다. \n",
    "\n",
    "#3. grades(list) 내의 값 중 1, 2번째 값만 print합니다. "
   ]
  },
  {
   "cell_type": "code",
   "execution_count": 19,
   "metadata": {
    "collapsed": true
   },
   "outputs": [],
   "source": [
    "# 예제 2) dict를 만들어봅시다.\n",
    "\n",
    "#1. 3개의 grade(key)와 그에 해당되는 재고(value)를 가진 stock이라는 dict를 생성합니다.\n",
    "\n",
    "#2. stock(dict)에 1개 grade, 그에 해당되는 재고를 추가합니다.\n",
    "\n",
    "#3. stock(dict) 내의 값 중 원하는 grade의 재고를 print해봅니다."
   ]
  },
  {
   "cell_type": "markdown",
   "metadata": {},
   "source": [
    "- **내장 함수**\n",
    "\n",
    "    1. lambda : 함수를 축약해서 사용 한다고 보면 됩니다. def ~ 를 입력하지 않아도 간편하게 함수 역할을 할 수 있습니다.\n",
    "    ```python\n",
    "    sum = lambda a, b : a + b   # sum을 a,b가 주어졌을 때 a+b를 return하는 함수라고 한다.\n",
    "    sum(1,3)                    # sum에 1,3을 넣어준다. \n",
    "    ```        \n",
    "\n",
    "    2. apply : 함수, 데이터를 받으며 데이터를 함수에 맞게 가공해서 새로운 데이터로 변환합니다. (예제는 이 후에)\n",
    "    \n",
    "    3. len : 데이터 구조 안에 있는 데이터의 수를 반환해줍니다. (단일 문자의 경우 단위 문자 개수를 반환합니다.)\n",
    "```python \n",
    "alp = ['a','b','c']        \n",
    "len(alp)                   # alp 데이터의 개수를 반환한다.\n",
    "len(alp[0])                # alp[0] 데이터의 길이를 반환한다. \n",
    "```    \n",
    "\n",
    "    4. int/float : 정수형/소수형으로 데이터를 변환합니다. 숫자 모양을 띈 문자('1', '2')도 해당 데이터 형태로 변환됩니다. \n",
    "    ```python\n",
    "    one = '1'\n",
    "    int(one)                   # one이라는 데이터의 type을 정수형으로 변환한다.\n",
    "    float(one)                 # one이라는 데이터의 type을 소수형으로 변환한다. \n",
    "    ```\n",
    "\n",
    "    5. str : 문자형으로 데이터를 변환합니다. \n",
    "    ```python\n",
    "    one = 1           \n",
    "    str(one)                   # one이라는 데이터의 type을 문자형으로 변환한다. \n",
    "    ``` \n",
    "\n",
    "    6. max/min : 데이터 내 최대/최소값을 반환합니다.\n",
    "    ```python\n",
    "    num = [1, 2, 3]\n",
    "    max(num)                   # num의 최대값을 반환한다.\n",
    "    min(num)                   # num의 최소값을 반환한다. \n",
    "    ```\n",
    "\n",
    "    7. range : 숫자 a ~ b(설정 필요)까지의 범위의 데이터를 가집니다.\n",
    "    ```python\n",
    "    num = []\n",
    "    for i in range(0,10):      # 0부터 9까지 값을 num에 추가한다.\n",
    "            num.append(i)\n",
    "    \n",
    "    [i for i in range(0,10)]   # 위와 같은 내용 \n",
    "    [i for i in range(10)]     # 위와 같은 내용 \n",
    "    [i for i in range(0,10,2)] # 0부터 9까지 값을 2씩 건너뛰면서 추가한다.\n",
    "    ```\n",
    "\n",
    "    8. type : 데이터 type을 반환합니다.\n",
    "    ```python\n",
    "    a = 1\n",
    "    b = '1'\n",
    "    type(a), type(b)           # a의 type, b의 type을 반환한다.\n",
    "    ```\n",
    "\n",
    "    9. enumerate : list, tuple 등의 데이터를 열거할 때(iteration) 데이터 번호를 매겨주는 역할을 해줍니다.  \n",
    "    ```python\n",
    "    a = [1,2,3,4]\n",
    "    for i, j in enumerate(a):  # a의 순서, 값을 순서대로 출력한다. \n",
    "            print(i, j)\n",
    "    ```\n",
    "\n",
    "    10. zip : 2개 이상의 데이터 구조를 묶어줍니다. 구조들을 열거할 때 사용합니다.\n",
    "    ```python\n",
    "    a = [1,2,3,4]\n",
    "    b = range(len(a))\n",
    "    for i, j in zip(a,b):      # a와 b에 대해 순서대로 1개의 값씩 출력한다. (a, b의 len이 다를 경우 데이터 수가 적은 양만큼만 출력한다.) \n",
    "            print(i,j)\n",
    "    ```"
   ]
  },
  {
   "cell_type": "code",
   "execution_count": 20,
   "metadata": {
    "collapsed": true
   },
   "outputs": [],
   "source": [
    "# 예제3) lambda를 사용해서 grade와 수량을 입력해주면 \"xx grade는 재고가 00만큼 있습니다.\" 라는 함수를 만들어보세요"
   ]
  },
  {
   "cell_type": "code",
   "execution_count": 21,
   "metadata": {
    "collapsed": true
   },
   "outputs": [],
   "source": [
    "# 예제4) len, max, min의 활용\n",
    "\n",
    "#1. key로 grade, value로 생산량을 갖는 stock이라는 이름의 dict를 만들어보세요. (key, value : 3개)\n",
    "\n",
    "#2. stock(dict)의 data 개수를 세어보세요. \n",
    "\n",
    "#3. stock 내에 첫 번째 grade의 글자 수를 세어보세요 (list와 keys라는 함수를 쓰세요)\n",
    "\n",
    "#4. stock 내 가장 재고가 많은/적은 grade는 무엇인가요?"
   ]
  },
  {
   "cell_type": "code",
   "execution_count": 22,
   "metadata": {
    "collapsed": false
   },
   "outputs": [],
   "source": [
    "# 예제5) type 변경\n",
    "\n",
    "date, prod_cd, prod_num = 20170511, 'CC01', '005'  \n",
    "\n",
    "#1. 위 내용은 20170511 날짜에 CC01에서 생산된 005번째 Lot의 내용입니다. 세 변수를 합쳐서 Lot로 만들어보세요 \n",
    "\n",
    "#2. Lot 전체 내용에서 생산 날짜만 가져옵니다. 그리고 형식을 '%Y-%m-%d'의 형식으로 출력해봅니다. ('2017-05-11')"
   ]
  },
  {
   "cell_type": "code",
   "execution_count": 23,
   "metadata": {
    "collapsed": false
   },
   "outputs": [],
   "source": [
    "# 예제6) \n",
    "\n",
    "#1. data라는 빈 dict를 만들어줍니다.\n",
    "\n",
    "#2. keys에 list형식으로 grade를 3개 입력해줍니다.\n",
    "\n",
    "#3. values에 list형식으로 재고를 3개 입력해줍니다. \n",
    "\n",
    "#4. zip을 사용해서 key, value에 대해 for문을 쓰고, data(빈 dict)에 keys, values로 추가합니다.(update)"
   ]
  },
  {
   "cell_type": "markdown",
   "metadata": {},
   "source": [
    "- **정규식 간단 소개** : 정규식은 복잡한 문자를 처리할 때 사용하는 기법이다. 이를 사용해서 특정 규칙 만들고 이를 바탕으로 문자를 처리할 수 있습니다. 이 후 pandas data 처리하는 예제에서 다뤄 볼 예정입니다. "
   ]
  },
  {
   "cell_type": "code",
   "execution_count": 24,
   "metadata": {
    "collapsed": true
   },
   "outputs": [],
   "source": [
    "# 정규식 예제\n",
    "import pandas as pd\n",
    "data = pd.read_excel('C:/Users/Whi kwon/Documents/GitHub/optical_python/dataset/정규식 예제.xlsx')"
   ]
  },
  {
   "cell_type": "code",
   "execution_count": 25,
   "metadata": {
    "collapsed": false
   },
   "outputs": [
    {
     "data": {
      "text/html": [
       "<div>\n",
       "<table border=\"1\" class=\"dataframe\">\n",
       "  <thead>\n",
       "    <tr style=\"text-align: right;\">\n",
       "      <th></th>\n",
       "      <th>검사Lot</th>\n",
       "    </tr>\n",
       "  </thead>\n",
       "  <tbody>\n",
       "    <tr>\n",
       "      <th>0</th>\n",
       "      <td>20170515CS01001</td>\n",
       "    </tr>\n",
       "    <tr>\n",
       "      <th>1</th>\n",
       "      <td>20170515CS01002</td>\n",
       "    </tr>\n",
       "    <tr>\n",
       "      <th>2</th>\n",
       "      <td>20170515CS01003</td>\n",
       "    </tr>\n",
       "    <tr>\n",
       "      <th>3</th>\n",
       "      <td>20170515CS01004</td>\n",
       "    </tr>\n",
       "    <tr>\n",
       "      <th>4</th>\n",
       "      <td>20170515CS01005</td>\n",
       "    </tr>\n",
       "    <tr>\n",
       "      <th>5</th>\n",
       "      <td>20170515CS01006</td>\n",
       "    </tr>\n",
       "    <tr>\n",
       "      <th>6</th>\n",
       "      <td>20170515CS01007</td>\n",
       "    </tr>\n",
       "    <tr>\n",
       "      <th>7</th>\n",
       "      <td>20170515FS01001</td>\n",
       "    </tr>\n",
       "    <tr>\n",
       "      <th>8</th>\n",
       "      <td>20170515FS01002</td>\n",
       "    </tr>\n",
       "    <tr>\n",
       "      <th>9</th>\n",
       "      <td>20170515FS01003</td>\n",
       "    </tr>\n",
       "    <tr>\n",
       "      <th>10</th>\n",
       "      <td>20170515FS01004</td>\n",
       "    </tr>\n",
       "    <tr>\n",
       "      <th>11</th>\n",
       "      <td>20170515FS01005</td>\n",
       "    </tr>\n",
       "    <tr>\n",
       "      <th>12</th>\n",
       "      <td>20170515FS01006</td>\n",
       "    </tr>\n",
       "    <tr>\n",
       "      <th>13</th>\n",
       "      <td>20170515FS01007</td>\n",
       "    </tr>\n",
       "  </tbody>\n",
       "</table>\n",
       "</div>"
      ],
      "text/plain": [
       "              검사Lot\n",
       "0   20170515CS01001\n",
       "1   20170515CS01002\n",
       "2   20170515CS01003\n",
       "3   20170515CS01004\n",
       "4   20170515CS01005\n",
       "5   20170515CS01006\n",
       "6   20170515CS01007\n",
       "7   20170515FS01001\n",
       "8   20170515FS01002\n",
       "9   20170515FS01003\n",
       "10  20170515FS01004\n",
       "11  20170515FS01005\n",
       "12  20170515FS01006\n",
       "13  20170515FS01007"
      ]
     },
     "execution_count": 25,
     "metadata": {},
     "output_type": "execute_result"
    }
   ],
   "source": [
    "data"
   ]
  },
  {
   "cell_type": "code",
   "execution_count": 26,
   "metadata": {
    "collapsed": false
   },
   "outputs": [
    {
     "data": {
      "text/plain": [
       "0      True\n",
       "1      True\n",
       "2      True\n",
       "3      True\n",
       "4      True\n",
       "5      True\n",
       "6      True\n",
       "7     False\n",
       "8     False\n",
       "9     False\n",
       "10    False\n",
       "11    False\n",
       "12    False\n",
       "13    False\n",
       "Name: 검사Lot, dtype: bool"
      ]
     },
     "execution_count": 26,
     "metadata": {},
     "output_type": "execute_result"
    }
   ],
   "source": [
    "data.검사Lot.str.contains(r'CS')"
   ]
  },
  {
   "cell_type": "code",
   "execution_count": null,
   "metadata": {
    "collapsed": true
   },
   "outputs": [],
   "source": []
  }
 ],
 "metadata": {
  "anaconda-cloud": {},
  "kernelspec": {
   "display_name": "Python [default]",
   "language": "python",
   "name": "python3"
  },
  "language_info": {
   "codemirror_mode": {
    "name": "ipython",
    "version": 3
   },
   "file_extension": ".py",
   "mimetype": "text/x-python",
   "name": "python",
   "nbconvert_exporter": "python",
   "pygments_lexer": "ipython3",
   "version": "3.5.2"
  }
 },
 "nbformat": 4,
 "nbformat_minor": 0
}
