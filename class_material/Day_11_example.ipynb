{
 "cells": [
  {
   "cell_type": "markdown",
   "metadata": {},
   "source": [
    "# Day 11\n",
    "***\n",
    "###  학습 목표 \n",
    "\n",
    "#### 반복문과 조건문을 활용한 자동화\n",
    " \n",
    "  1) 1개 예제로 코드를 짜본다.\n",
    "  \n",
    "  2) 동일한 방법으로 많은 값을 구한다면, 1번 예제에서 변수가 될 수 있는 값을 지정한다.\n",
    "  \n",
    "  3) 많은 변수들 중 특정 조건에 걸리거나, 에러가 발생할 수 있는 경우에 대해 조건문을 걸어준다.\n",
    "  \n",
    "  → 위 3가지 방법을 통해서 코딩을 통한 자동화를 연습할 예정입니다. 이런 사고 방식이 익숙해지시면 \n",
    "  \n",
    "  더욱더 많은 데이터를 한번에 다루실 수 있게 될 것이고 큰 방향을 그리고 멀리 생각하실 수 있을겁니다."
   ]
  },
  {
   "cell_type": "code",
   "execution_count": null,
   "metadata": {
    "collapsed": true
   },
   "outputs": [],
   "source": [
    "# aoi, mes, qms, pandas 모두 import"
   ]
  },
  {
   "cell_type": "code",
   "execution_count": null,
   "metadata": {
    "collapsed": true
   },
   "outputs": [],
   "source": [
    "# 예제1) 자동검사기 데이터 불러와서 재단 모델 별로 수율 계산, 비교하기\n",
    "\n",
    "# 대상 : SF40 ASG5\n",
    "\n",
    "# 모델 정보 1: \n",
    "  # 슬리팅 1(43인치) : 폭(1125), 장변(956.90), 단변(541.95), 흡수축(0)\n",
    "  # 슬리팅 2(55인치) : 폭(750), 장변(1229.20), 단변(695.5), 흡수축(0)\n",
    "# 모델 정보 2:\n",
    "  # 슬리팅 1(43인치) : 폭(990), 장변(956.90), 단변(541.95), 흡수축(90)\n",
    "  # 슬리팅 1(43인치) : 폭(990), 장변(956.90), 단변(541.95), 흡수축(90)\n",
    "\n",
    "# 기간 : 3~5월 (3/1 ~ 5/31)\n",
    "\n",
    "# 불량 정보 : 전 불량, 마킹 별 수율 + 전체 수율\n",
    "\n",
    "# 출력 : xlsx 파일"
   ]
  },
  {
   "cell_type": "code",
   "execution_count": null,
   "metadata": {
    "collapsed": true
   },
   "outputs": [],
   "source": [
    "# 예제2) Cpk Trend 구하기 \n",
    "\n",
    "# 대상 : RC40 HC \n",
    "\n",
    "# 기간 : 17년 월 별 Cpk Trend\n",
    "\n",
    "# 물성 : USL, LSL 있는 모든 물성 값\n",
    "\n",
    "# 출력 : xlsx 파일"
   ]
  }
 ],
 "metadata": {
  "anaconda-cloud": {},
  "kernelspec": {
   "display_name": "Python [default]",
   "language": "python",
   "name": "python3"
  },
  "language_info": {
   "codemirror_mode": {
    "name": "ipython",
    "version": 3
   },
   "file_extension": ".py",
   "mimetype": "text/x-python",
   "name": "python",
   "nbconvert_exporter": "python",
   "pygments_lexer": "ipython3",
   "version": "3.5.2"
  }
 },
 "nbformat": 4,
 "nbformat_minor": 1
}
