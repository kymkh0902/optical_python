{
 "cells": [
  {
   "cell_type": "markdown",
   "metadata": {
    "nbpresent": {
     "id": "5da43dae-4c10-4d77-93cc-4c20bcf468d1"
    }
   },
   "source": [
    "# Day 5 - 7\n",
    "***\n",
    "###  학습 목표 \n",
    "\n",
    "#### 1) Pandas package 학습 \n",
    "  - Pandas 데이터 구조      \n",
    "    1. DataFrame\n",
    "    2. Series\n",
    "  \n",
    "  \n",
    "  - Pandas 데이터 불러오기\n",
    "    1. read_csv\n",
    "    2. read_excel\n",
    "    3. read_sql_query\n",
    "  \n",
    "  \n",
    "  - Pandas 데이터 내용 확인\n",
    "    1. head\n",
    "    2. describe\n",
    "    3. iloc \n",
    "    \n",
    "    \n",
    "  - Pandas 데이터 가공\n",
    "    1. groupby\n",
    "    2. apply\n",
    "    3. merge\n",
    "    4. concat  \n",
    "    5. cut\n",
    "    6. drop\n",
    "    7. dropna \n",
    "    8. fillna \n",
    "    9. mean/std/min/max/corr \n",
    "    \n",
    "    \n",
    "  - Pandas 데이터 내보내기\n",
    "    1. to_excel\n",
    "      \n",
    "      \n",
    "(Pandas API documentation : http://pandas.pydata.org/pandas-docs/stable/index.html)\n",
    "     \n",
    "\n"
   ]
  },
  {
   "cell_type": "markdown",
   "metadata": {
    "nbpresent": {
     "id": "95f04221-bffc-4dcd-839b-3c79e63768f2"
    }
   },
   "source": [
    "***\n",
    "### Pandas 학습\n",
    "\n",
    "- **Pandas 데이터 구조**\n",
    "\n",
    "    1. DataFrame : 행, 열으로 이루어진 excel 데이터 형식이라고 생각하시면 됩니다.\n",
    "    ```python\n",
    "    import pandas as pd\n",
    "    data_frame = pd.DataFrame(data = [[1,2], [2,3]], columns = ['A','B'], index = ['a','b'])\n",
    "    ```\n",
    "    2. Series : 행 또는 열로 이루어진 데이터 형식으로 series가 모여서 dataframe이 됩니다.\n",
    "    ```python\n",
    "    import pandas as pd\n",
    "    data_series = pd.Series(data = [1,2], name = 'a')\n",
    "    ```"
   ]
  },
  {
   "cell_type": "code",
   "execution_count": null,
   "metadata": {
    "collapsed": true,
    "nbpresent": {
     "id": "e73d9f6e-5dbf-4905-96ec-89df9dd9e1d3"
    }
   },
   "outputs": [],
   "source": [
    "# 예제1) Dataframe를 생성해봅시다.\n",
    "\n",
    "#1. pandas를 import합니다.\n",
    "\n",
    "#2. 3*2(row*column) 형태의 dataframe 을 만들겠습니다.\n",
    "\n",
    "#3. column명은 grade, qty로 명명해주고 index는 따로 추가하지 않습니다. 내용은 각자 채워주세요"
   ]
  },
  {
   "cell_type": "markdown",
   "metadata": {
    "nbpresent": {
     "id": "6e183b77-0e9f-4b49-8b34-d267ef96e4bc"
    }
   },
   "source": [
    "- **Pandas 데이터 불러오기**\n",
    "    \n",
    "    1. read_csv : txt, csv, xls 형식의 파일을 불러올 때 사용하는 함수입니다. \n",
    "    ```python \n",
    "    names = ['날짜','Lot','Frame수'...]                    # Column명을 names이라는 변수에 저장한다.\n",
    "    data = pd.read_csv('20160715DC02017.txt', sep = '\\t',names = names)  # read_csv 함수를 이용해 20160715DC02017.txt 파일을 읽어 data 변수에 저장한다.  \n",
    "    ```\n",
    "    2. read_excel : xlsx 형식의 파일을 불러올 때 사용하는 함수입니다. \n",
    "    ```python\n",
    "    names = ['날짜','Lot','Frame수'...]                                 # Column명을 names이라는 변수에 저장한다.\n",
    "    data = pd.read_excel('20160715DC02017.xlsx', sheetname = 'Sheet1')  # read_excel 함수를 이용해 20160715DC02017.xlsx 파일을 읽어 data 변수에 저장한다.\n",
    "    ```\n",
    "    3. read_sql_query : 데이터베이스에서 Query문을 통해 데이터를 가져올 때 사용하는 함수입니다.\n",
    "    ```python\n",
    "    # db1 데이터베이스에서 Lot가 20160715DC02017인 정보를 모두 가져와서 data라는 변수에 저장한다. \n",
    "    data = pd.read_sql_query(\"SELECT * FROM tb_iem120 WHERE unique_lot_no = '20160715DC02017'\", db1)\n",
    "    ```"
   ]
  },
  {
   "cell_type": "code",
   "execution_count": null,
   "metadata": {
    "collapsed": false
   },
   "outputs": [],
   "source": [
    "import os\n",
    "os.getcwd()\n",
    "os.chdir('../dataset')"
   ]
  },
  {
   "cell_type": "code",
   "execution_count": null,
   "metadata": {
    "collapsed": false,
    "nbpresent": {
     "id": "d199653f-3ef1-43d0-aec9-da4c55f383d3"
    }
   },
   "outputs": [],
   "source": [
    "# 예제2) 자동검사기 파일을 불러옵니다.\n",
    "\n",
    "names = ['날짜','Lot','Frame수', '카메라 번호', '사용안함', 'INDEX', '불량유형','X','y', \n",
    "         'X-Size','Y-Size', '불량이미지','사용안함','사용안함','Value','흑점','조명밝기']\n",
    "\n",
    "#0. 현재 작업 폴더를 확인하고 optical_python 내 dataset이라는 폴더를 작업 폴더로 만들어주세요. \n",
    "\n",
    "#1. dataset라는 폴더 내에 20160715DC02017.txt 파일을 read_csv 함수를 이용해서 불러와보세요. (변수 : data_1)\n",
    "\n",
    "#2. dataset라는 폴더 내에 20160715DC02017.xlsx 파일을 read_excel 함수를 이용해서 불러와보세요. (변수 : data)\n",
    "\n",
    "import pandas as pd\n",
    "data = pd.read_csv('20160715DC02017.txt', sep = '\\t', names = names)"
   ]
  },
  {
   "cell_type": "markdown",
   "metadata": {
    "nbpresent": {
     "id": "e6e2f7c6-f26e-49df-81a2-50fbcd14698b"
    }
   },
   "source": [
    "- **Pandas 데이터 내용 확인**\n",
    "    1. head : 데이터 가장 상단의 몇 줄만 확인할 때 사용합니다. (주로 데이터가 잘 불러졌는 지 확인할 때 사용.) \n",
    "    ```python\n",
    "    data.head(5)     # data row 5개 줄을 확인합니다. \n",
    "    ```\n",
    "    \n",
    "    2. describe : 데이터의 기본적인 통계 수치를 확인할 때 사용합니다. (max, min, mean, std 등)\n",
    "    \n",
    "    ```python\n",
    "    data.describe()  \n",
    "    ```\n",
    "    \n",
    "    3. iloc : 데이터의 행, 열을 지정하여 불러오거나 특정 범위만큼 선택할 때 사용합니다.\n",
    "    \n",
    "    ```python\n",
    "    data.iloc[1,1]   # data의 2열 2행의 값을 확인합니다. \n",
    "    data.iloc[1:, 1] # data의 2~열 2행의 값을 확인합니다.\n",
    "    ```\n",
    "    \n",
    "    4. columns, index : column과 index로 지정된 값을 확인합니다.\n",
    "    ```python\n",
    "    data.columns  # data의 column을 확인합니다.\n",
    "    data.index    # data의 index를 확인합니다. \n",
    "    ```"
   ]
  },
  {
   "cell_type": "code",
   "execution_count": null,
   "metadata": {
    "collapsed": false,
    "nbpresent": {
     "id": "66788a5f-9531-47b8-8de2-9f9bcf22d0e3"
    }
   },
   "outputs": [],
   "source": [
    "# 예제3) 위에서 불러온 data라는 변수의 기본적인 내용 확인 과정입니다.\n",
    "\n",
    "#1. data의 상단 10줄을 head라는 함수를 사용해서 출력해보세요 \n",
    "\n",
    "#2. data의 기본 통계 수치를 describe 함수를 사용해서 출력해보세요 \n",
    "\n",
    "#3. data의 전체 열, 3~c행을 iloc을 사용해서 출력해보세요. \n",
    "\n",
    "#4. data의 1열 1행의 값에 숫자 3을 대입해보세요. 값이 바뀌나요? "
   ]
  },
  {
   "cell_type": "markdown",
   "metadata": {
    "nbpresent": {
     "id": "771f652e-a406-456a-9f5a-b3ab13c53c23"
    }
   },
   "source": [
    "- **Pandas 데이터 선택**\n",
    "\n",
    "    1. 기본 내용 :     \n",
    "    \n",
    "        - 기본적으로 행/열 선택 시 [ ] (**Series**), [[ ]] (**DataFrame**) 방식으로 선택할 수 있습니다. 물론 Series는 1개 행/열만 해당합니다.  \n",
    "    \n",
    "        - 1개 행/열 선택 시에는 data[행이름/열이름] (**Series**) 혹은 data[[행이름/열이름]] (**DataFrame**) 형식으로 선택할 수 있습니다.  \n",
    "    \n",
    "        - 다수 행/열 선택 시에는 data[['행이름1, 행이름2, ...']] 의 형식으로 선택할 수 있습니다. (**DataFrame**)\n",
    "    \n",
    "        - 특정 조건을 가진 데이터를 선택하실 때는 원하는 행에 조건을 걸어 boolean으로 만들어 준 후 data내에서 True값만 반환합니다. \n",
    "        ```python\n",
    "        data[data['col1'] > 5] # col1행 값 중 5보다 큰 값의 index에 해당되는 data를 가져옵니다. \n",
    "        data[(data['col1'] > 5) & (data['col1'] < 10)]  # col1행 값 중 5보다 크고 10보다 작은 값의 index에 해당되는 data를 가져옵니다.\n",
    "        ```            \n",
    "        \n",
    "    2. 행 선택 : 아래와 같은 방법으로 행을 선택해서 가져올 수 있습니다.(DataFrame, Series 둘 중에 아무거나 쓰셔도 됩니다.)\n",
    "    ```python\n",
    "    data['col1']           # col1행만 가져옵니다. \n",
    "    data[data['col1'] >5]  # col1행 값 중 5보다 큰 값의 index에 해당되는 data를 가져옵니다. \n",
    "    ```\n",
    "    \n",
    "    3. 열 선택 : 아래와 같은 방법으로 열을 선택해서 가져올 수 있습니다.(자주 안 씁니다. 주로 iloc만 아시면 되요)\n",
    "    ```python\n",
    "    data.iloc[0]           # 0번째 index의 값을 가져옵니다. \n",
    "    data.loc[0]            # 0이라는 index의 값을 가져옵니다.\n",
    "    data.T[0]              # 0이라는 index의 값을 가져옵니다.\n",
    "    ```\n",
    "    \n",
    "    4. 행/열 변환 : 행, 열의 배열을 뒤집어서 나타내줍니다. (엑셀에 붙여넣기에 존재하는 기능이죠.) \n",
    "    ```python\n",
    "    data.T                 # data의 행, 열의 배열을 뒤집어서 나타내줍니다. \n",
    "    ```"
   ]
  },
  {
   "cell_type": "code",
   "execution_count": null,
   "metadata": {
    "collapsed": true,
    "nbpresent": {
     "id": "2676003a-1518-475e-9de6-cfa16aa787f2"
    }
   },
   "outputs": [],
   "source": [
    "# 예제4) 행, 열 선택을 통한 원하는 데이터만 가져오기\n",
    "\n",
    "#1. 위에서 불러온 data 변수에서 '불량유형' 행만 선택해서 나타내봅니다.\n",
    "\n",
    "#2. '불량유형' 행의 값이 2305인 조건을 걸어보고, data 내 해당 조건을 만족하는 값들만 나타내보고 변수 data_2305에 저장합니다. \n",
    "data_2305 = data[data['불량유형'] == 2305]"
   ]
  },
  {
   "cell_type": "markdown",
   "metadata": {
    "nbpresent": {
     "id": "e3127f80-25c5-453d-bf5c-2b826a37538b"
    }
   },
   "source": [
    "- **Pandas 데이터 가공**\n",
    "    \n",
    "    1. drop : 데이터를 삭제합니다. 삭제하는 방향에 따라 다르게 적용할 수 있습니다. (열, 행 방향)\n",
    "    ```python\n",
    "    data.drop('col1', axis = 1, inplace = True)         # data의 col1행을 1(행 방향으로) 삭제하고 변수에 저장합니다.  \n",
    "    data = data.drop('col1', axis = 1, inplace = False) # 위와 같은 내용입니다.\n",
    "    ```\n",
    "    2. dropna : na값의 데이터를 삭제합니다. na에는 NaN, None 등의 값(데이터 없음)들이 포함됩니다. \n",
    "    ```python\n",
    "    data = pd.DataFrame(data = [[None, 1], [2, 0], [1, 2], [3, 4]], columns = ['num1','num2'])  # 2*4 형태의 data를 만듭니다. \n",
    "    data.dropna()   # 설정을 default 값으로 한 후에 실행합니다. \n",
    "    data.dropna(axis = 0, how = 'any', subset = ['num1'])  # 열 방향으로, num1행에 대해서 모든(any)na에 대해 drop합니다. \n",
    "    ```  \n",
    "    3. fillna : na값의 데이터를 원하는 값으로 채워줍니다. \n",
    "    ```python \n",
    "    data = pd.DataFrame(data = [[None, 1], [2, 0], [1, 2], [3, 4]], columns = ['num1','num2'])  # 2*4 형태의 data를 만듭니다. \n",
    "    data.fillna(0, inplace = True)  # na값을 0이라는 숫자로 채우고 적용하고 변수에 저장합니다.  \n",
    "    data = data.fillna(0)           # 위와 같은 내용입니다. \n",
    "    ```\n",
    "    \n",
    "    4. cut : Series의 숫자 data를 원하는 범위만큼 잘라서 구분해줍니다. 그리고 해당 범위에 label을 붙여줍니다. \n",
    "    ```python\n",
    "    data = pd.DataFrame(data = [i for i in range(0,20)], columns = ['num1'])\n",
    "    # 값을 0, 5, 10, 20 으로 구분하고 그룹화합니다. 그리고 그룹에 순서대로 매칭되는 label을 붙여줍니다.  \n",
    "    pd.cut(data['num1'], bins = [0, 5, 10, 20], labels = ['0~5','5~10','10~20'], include_lowest = True)\n",
    "    ```\n",
    "    \n",
    "    5. mean/std/min/max/corr : 주요 기초 통계 값들을 불러올 때 사용합니다. DataFrame, Series 모두에 사용해도 무방하며 숫자로 이루어진 행만 출력될 것입니다. \n",
    "    ```python\n",
    "    data = pd.DataFrame(data = [['a',1, 3],['b',2, 4],['c',3, 6]], columns = ['alp','num1','num2'])\n",
    "    data.mean()  # 평균 값을 가져옵니다.\n",
    "    data.std()   # 표준편차 값을 가져옵니다.\n",
    "    data.min()   # 최대값을 가져옵니다.\n",
    "    data.max()   # 최소값을 가져옵니다.\n",
    "    data.corr()  # 상관관계 나타냅니다. \n",
    "    ```\n",
    "   \n",
    "    6. apply : 한 행 또는 열에 대해서 함수를 적용시켜 값을 변환합니다. lambda와 함께 사용 시 제어문, 함수를 동시에 사용하여 apply 내에 복잡한 값 변환을 할 수 있습니다. Series 형태의 데이터만 apply가 적용 가능합니다.\n",
    "    ```python\n",
    "    data['col1'].apply(lambda x: x+1)  # col1 행에 대해 함수를 적용해서 내용을 바꿔줍니다.(x → x+1)\n",
    "    ```\n",
    "    \n",
    "    7. groupby : 엑셀의 pivot의 행 레이블에 들어가는 값이 groupby 내에 들어가고 값 레이블에 들어가는 값이 이후 [[ ]] (dataframe) 안에 들어가게 됩니다. 그 다음에 행하려는 함수를 입력해줍니다.\n",
    "    ```python\n",
    "    data.groupby(['col1','col2'])[['col3', 'col4']].sum()  # data를 col1, col2로 묶고 col3, col4에 대해 sum()함수를 적용합니다.\n",
    "    ```\n",
    "        \n",
    "    8. merge : 하나 이상의 공통된 행을 가진 다른 데이터를 공통된 행을 기준으로 매칭시켜줍니다. 매칭하는 방법에 따라 inner, outer, left, right 로 나뉩니다.\n",
    "    ```python\n",
    "    # data_1, data2 데이터를 col1이라는 공통행에 대해 outer 방법으로 merge 합니다.\n",
    "    pd.merge(data_1, data_2, on = ['col1'], how = 'outer')\n",
    "    ```\n",
    "    \n",
    "    9. concat : DataFrame 또는 Series를 합칠 때 사용합니다. 합치는 방향에 따라 다르게 적용할 수 있습니다. (열, 행 방향) \n",
    "    ```python\n",
    "    data_1 = pd.DataFrame(data = [1,2])\n",
    "    data_2 = pd_DataFrame(data = [2,3])\n",
    "    data_concat_0 = pd.merge([data_1, data_2], axis = 0)  # 아래로 쌓습니다.(열 개수 증가.)\n",
    "    data_concat_1 = pd.merge([data_1, data_2], axis = 1)  # 옆으로 쌓습니다.(행 개수 증가.)\n",
    "    ```\n",
    "    10. melt : \n",
    "    ```python\n",
    "    # data 데이터의 col1을 id로 갖고 col2, col3을 value로 갖습니다.\n",
    "    # value의 행들을 한 군데 id에 맞게 합치고, 합친 변수(var) 이름을 'VARIABLE', \n",
    "    # 합친 값(value) 이름을 'VALUE'라고 합니다.\n",
    "    pd.melt(data, id_vars = ['col1'], value_vars = ['col2','col3'], \n",
    "    var_name = ['VARIABLE'], value_name = ['VALUE'])\n",
    "    ```"
   ]
  },
  {
   "cell_type": "code",
   "execution_count": null,
   "metadata": {
    "collapsed": false,
    "nbpresent": {
     "id": "ddc3d55f-2e02-4a30-bacd-95c91a7a784b"
    }
   },
   "outputs": [],
   "source": [
    "names = ['날짜','Lot','Frame수', '카메라 번호', '사용안함', 'INDEX', '불량유형','X','y', \n",
    "         'X-Size','Y-Size', '불량이미지','사용안함','사용안함','Value','흑점','조명밝기']\n",
    "\n",
    "# 예제5) 데이터 가공 (drop, dropna, fillna, mean/std/min/max/corr, cut)\n",
    "\n",
    "#1. 위에서 불러온 검사기 data_2305에서 필요한 행만 남기고 지울 예정입니다. \n",
    "  # 행 이름(names)을 참고하셔서 '불량유형','X','y','X-Size','Y-Size','Value'를 제외한 행을 다 삭제하고 저장해주세요\n",
    "    \n",
    "#2. data_2305에 na값들을 넣어놨습니다. 아래 코드를 실행해서 값을 확인하고 다 지워보고(dropna) 원하시는 값으로 채워보세요 (fillna)\n",
    "\n",
    "data_2305[data_2305.isnull().any(axis=1)] # null 값이 있는 열을 나타내줍니다. \n",
    "\n",
    "#3. data_2305의 mean/std/min/max/corr을 확인해보세요 \n",
    "\n",
    "#4. data_2305의 'Value' 행을 값의 범위 별로 나눈 후에 새로운 'cut'이라는 행에 저장하겠습니다. \n",
    "  # max로 최대값을 확인하신 후에 0부터 최대값까지 원하시는 만큼 쪼개보세요. 매칭할 label은 '0~30', '30~60'와 같은 범위로 나타내주세요.\n",
    "    \n",
    "\n",
    "data_2305['Value'].mean()"
   ]
  },
  {
   "cell_type": "code",
   "execution_count": null,
   "metadata": {
    "collapsed": false
   },
   "outputs": [],
   "source": [
    "# 예제6) 데이터 가공(apply, groupby)\n",
    "\n",
    "#1. data_2305의 '불량유형' 행에 apply를 사용해서 숫자 60000보다 큰 값은 '약' 으로, 작은 값은 '강' 값을 반환하여 '강/약' 행에 저장합니다. \n",
    "\n",
    "#2. data_2305에 groupby 함수를 사용합니다. group을 묶을 행은 ['강/약, 'cut']이고, 적용 대상 행은 아무거나 고른 후에 count 함수를 써보세요.."
   ]
  },
  {
   "cell_type": "code",
   "execution_count": null,
   "metadata": {
    "collapsed": true
   },
   "outputs": [],
   "source": [
    "# 에제7) 데이터 합치기(merge)\n",
    "\n",
    "#1. day_5_예제.xlsx 파일의 Sheet2 에서 A,B행을 불러옵니다.(변수 : prod_1)\n",
    "\n",
    "#2. day_5_예제.xlsx 파일의 Sheet2 에서 D,E행을 불러오고 6,7번 열을 불러오지 않습니다. (변수 : prod_2\n",
    "\n",
    "#3. prod_1, prod_2를 '연신' 행에 대해서 merge합니다. (inner, outer, left, right) \n",
    "\n",
    "#4. 3의 결과를 보고 어떤 식으로 작동하는 지 확인합니다. "
   ]
  },
  {
   "cell_type": "code",
   "execution_count": null,
   "metadata": {
    "collapsed": true
   },
   "outputs": [],
   "source": [
    "# 예제8) 데이터 합치기(concat)\n",
    "\n",
    "#1. data_5_예제.xlsx 파일의 Sheet3에서 A,B / D, E/ G, H/ J, K 행을 각각 불러옵니다. \n",
    "   # 변수 : coat_1, coat_2, coat_3, coat_4\n",
    "\n",
    "#2. coat_1 과 coat_2를 concat을 사용해서 합쳐보세요. 어떤 방향으로 합치는게 보기 좋나요? \n",
    "    \n",
    "#3. for 문을 이용해서 coat_1부터 4까지 합쳐줍니다. \n",
    "   # 데이터를 다른 변수(바구니)에 담아야 loop를 돌릴 수 있습니다. \n",
    "   # 그리고 concat을 해서 어디에 저장해야 될 지 생각해보세요\n"
   ]
  },
  {
   "cell_type": "code",
   "execution_count": null,
   "metadata": {
    "collapsed": true
   },
   "outputs": [],
   "source": [
    "# 예제9) 유용한 데이터 가공(melt) \n",
    "\n",
    "#1. data_5_예제.xlsx 파일의 Sheet4 데이터를 가져옵니다. (변수 : curl)\n",
    "\n",
    "#2. melt를 사용해서 외부컬, 내부컬 행을 하나의 행으로 합쳐줍니다. 합쳤을 때 변수, 값의 행 이름은 각자 지정해주세요"
   ]
  }
 ],
 "metadata": {
  "anaconda-cloud": {},
  "kernelspec": {
   "display_name": "Python [default]",
   "language": "python",
   "name": "python3"
  },
  "language_info": {
   "codemirror_mode": {
    "name": "ipython",
    "version": 3
   },
   "file_extension": ".py",
   "mimetype": "text/x-python",
   "name": "python",
   "nbconvert_exporter": "python",
   "pygments_lexer": "ipython3",
   "version": "3.5.2"
  },
  "nbpresent": {
   "slides": {
    "3e5b09a4-e059-4f97-a407-f4e264b4482e": {
     "id": "3e5b09a4-e059-4f97-a407-f4e264b4482e",
     "prev": "74a8e47b-923b-4b9a-959d-d7e5a19945b7",
     "regions": {
      "bc03c1ce-b2fb-4122-b5fe-d217f65fb770": {
       "attrs": {
        "height": 0.8,
        "width": 0.8,
        "x": 0.1,
        "y": 0.1
       },
       "content": {
        "cell": "95f04221-bffc-4dcd-839b-3c79e63768f2",
        "part": "whole"
       },
       "id": "bc03c1ce-b2fb-4122-b5fe-d217f65fb770"
      }
     }
    },
    "487de121-7d79-499a-a169-189bba1a19ef": {
     "id": "487de121-7d79-499a-a169-189bba1a19ef",
     "prev": "d6da010e-329e-4ab5-8d49-283b29ca41cb",
     "regions": {
      "2089718c-f87d-4dd9-a347-4c24aa9da544": {
       "attrs": {
        "height": 0.8,
        "width": 0.8,
        "x": 0.1,
        "y": 0.1
       },
       "content": {
        "cell": "d199653f-3ef1-43d0-aec9-da4c55f383d3",
        "part": "whole"
       },
       "id": "2089718c-f87d-4dd9-a347-4c24aa9da544"
      }
     }
    },
    "4f775b6f-b408-49f3-ab27-de570e328ea3": {
     "id": "4f775b6f-b408-49f3-ab27-de570e328ea3",
     "prev": "e9aefc96-ae2d-4983-a50a-5a25f8e987f1",
     "regions": {
      "61362c37-7957-443b-b9f7-24d08f77303f": {
       "attrs": {
        "height": 0.8,
        "width": 0.8,
        "x": 0.1,
        "y": 0.1
       },
       "content": {
        "cell": "2676003a-1518-475e-9de6-cfa16aa787f2",
        "part": "whole"
       },
       "id": "61362c37-7957-443b-b9f7-24d08f77303f"
      }
     }
    },
    "74a8e47b-923b-4b9a-959d-d7e5a19945b7": {
     "id": "74a8e47b-923b-4b9a-959d-d7e5a19945b7",
     "prev": "dc1439d6-88c7-4d71-8eda-e9cf8648a5ad",
     "regions": {
      "16d707a1-218c-43fa-a4cf-81e9b7ebadfd": {
       "attrs": {
        "height": 0.8,
        "width": 0.45,
        "x": 0.5,
        "y": 0.1
       },
       "id": "16d707a1-218c-43fa-a4cf-81e9b7ebadfd"
      },
      "809e66ea-32df-4af5-95da-c9b2cc154161": {
       "attrs": {
        "height": 0.8,
        "width": 0.45,
        "x": 0.05,
        "y": 0.1
       },
       "id": "809e66ea-32df-4af5-95da-c9b2cc154161"
      }
     }
    },
    "9d122bba-bd3d-460f-8559-a315e13c4dcb": {
     "id": "9d122bba-bd3d-460f-8559-a315e13c4dcb",
     "prev": "3e5b09a4-e059-4f97-a407-f4e264b4482e",
     "regions": {
      "534990d6-0e5f-41b2-a014-8d65561bd71d": {
       "attrs": {
        "height": 0.8,
        "width": 0.8,
        "x": 0.1,
        "y": 0.1
       },
       "content": {
        "cell": "e73d9f6e-5dbf-4905-96ec-89df9dd9e1d3",
        "part": "whole"
       },
       "id": "534990d6-0e5f-41b2-a014-8d65561bd71d"
      }
     }
    },
    "a27c7c97-0345-4a5e-9c86-6aa0d3c35574": {
     "id": "a27c7c97-0345-4a5e-9c86-6aa0d3c35574",
     "prev": "4f775b6f-b408-49f3-ab27-de570e328ea3",
     "regions": {
      "81b4cfc2-3982-47bd-8e65-6bbb3fd8a9e2": {
       "attrs": {
        "height": 0.8,
        "width": 0.8,
        "x": 0.1,
        "y": 0.1
       },
       "content": {
        "cell": "e3127f80-25c5-453d-bf5c-2b826a37538b",
        "part": "whole"
       },
       "id": "81b4cfc2-3982-47bd-8e65-6bbb3fd8a9e2"
      }
     }
    },
    "d1f562cd-3808-455e-99c0-c6ebb35c3a30": {
     "id": "d1f562cd-3808-455e-99c0-c6ebb35c3a30",
     "prev": "a27c7c97-0345-4a5e-9c86-6aa0d3c35574",
     "regions": {
      "6ab7c891-fd5e-4af3-b292-669034d5fb2b": {
       "attrs": {
        "height": 0.8,
        "width": 0.8,
        "x": 0.1,
        "y": 0.1
       },
       "content": {
        "cell": "ddc3d55f-2e02-4a30-bacd-95c91a7a784b",
        "part": "whole"
       },
       "id": "6ab7c891-fd5e-4af3-b292-669034d5fb2b"
      }
     }
    },
    "d6da010e-329e-4ab5-8d49-283b29ca41cb": {
     "id": "d6da010e-329e-4ab5-8d49-283b29ca41cb",
     "prev": "9d122bba-bd3d-460f-8559-a315e13c4dcb",
     "regions": {
      "7e49b059-0054-493b-aec5-41cdd9efbc2c": {
       "attrs": {
        "height": 0.8,
        "width": 0.8,
        "x": 0.1,
        "y": 0.1
       },
       "content": {
        "cell": "6e183b77-0e9f-4b49-8b34-d267ef96e4bc",
        "part": "whole"
       },
       "id": "7e49b059-0054-493b-aec5-41cdd9efbc2c"
      }
     }
    },
    "dc1439d6-88c7-4d71-8eda-e9cf8648a5ad": {
     "id": "dc1439d6-88c7-4d71-8eda-e9cf8648a5ad",
     "prev": null,
     "regions": {}
    },
    "e9aefc96-ae2d-4983-a50a-5a25f8e987f1": {
     "id": "e9aefc96-ae2d-4983-a50a-5a25f8e987f1",
     "prev": "fef28986-915e-4e6d-afdc-791ec37c9095",
     "regions": {
      "64423e83-77bd-47b4-85b2-9a9debbb91f6": {
       "attrs": {
        "height": 0.8,
        "width": 0.8,
        "x": 0.1,
        "y": 0.1
       },
       "content": {
        "cell": "771f652e-a406-456a-9f5a-b3ab13c53c23",
        "part": "whole"
       },
       "id": "64423e83-77bd-47b4-85b2-9a9debbb91f6"
      }
     }
    },
    "fa3163f8-ef49-413e-aad6-c3c8e438f0ae": {
     "id": "fa3163f8-ef49-413e-aad6-c3c8e438f0ae",
     "prev": "487de121-7d79-499a-a169-189bba1a19ef",
     "regions": {
      "2505702f-eade-4c1a-a606-c427b59b1658": {
       "attrs": {
        "height": 0.8,
        "width": 0.8,
        "x": 0.1,
        "y": 0.1
       },
       "content": {
        "cell": "e6e2f7c6-f26e-49df-81a2-50fbcd14698b",
        "part": "whole"
       },
       "id": "2505702f-eade-4c1a-a606-c427b59b1658"
      }
     }
    },
    "fef28986-915e-4e6d-afdc-791ec37c9095": {
     "id": "fef28986-915e-4e6d-afdc-791ec37c9095",
     "prev": "fa3163f8-ef49-413e-aad6-c3c8e438f0ae",
     "regions": {
      "60329eac-6087-4ade-822a-05a01f054bd1": {
       "attrs": {
        "height": 0.8,
        "width": 0.8,
        "x": 0.1,
        "y": 0.1
       },
       "content": {
        "cell": "66788a5f-9531-47b8-8de2-9f9bcf22d0e3",
        "part": "whole"
       },
       "id": "60329eac-6087-4ade-822a-05a01f054bd1"
      }
     }
    }
   },
   "themes": {}
  }
 },
 "nbformat": 4,
 "nbformat_minor": 1
}
