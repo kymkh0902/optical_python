{
 "cells": [
  {
   "cell_type": "code",
   "execution_count": null,
   "metadata": {
    "collapsed": true
   },
   "outputs": [],
   "source": [
    "# aoi 모듈 활용법\n",
    "\n",
    "# 0) aoi 모듈 불러오기\n",
    "import aoi\n",
    "import pandas as pd"
   ]
  },
  {
   "cell_type": "code",
   "execution_count": null,
   "metadata": {
    "collapsed": true
   },
   "outputs": [],
   "source": [
    "# 1) 검사기 데이터 불러오기 \n",
    "  # 함수 : read_data\n",
    "lot = '20170517DC01014'\n",
    "data = aoi.read_data(lot)"
   ]
  },
  {
   "cell_type": "code",
   "execution_count": null,
   "metadata": {
    "collapsed": true
   },
   "outputs": [],
   "source": [
    "# 2) 원단 정보 불러오기\n",
    "  # 함수 : read_lot_info\n",
    "width, length = aoi.read_lot_info(lot) "
   ]
  },
  {
   "cell_type": "code",
   "execution_count": null,
   "metadata": {
    "collapsed": true
   },
   "outputs": [],
   "source": [
    "# 3) 원하는 불량 유형만 가져와보기\n",
    "  # 클래스 : preprocess\n",
    "    # 함수 : base   \n",
    "cross1 = aoi.preprocessing.base(data, '257', '65793')    "
   ]
  },
  {
   "cell_type": "code",
   "execution_count": null,
   "metadata": {
    "collapsed": true
   },
   "outputs": [],
   "source": [
    "# 4) 슬리팅 쳐보기 \n",
    "  # 클래스 : preprocess\n",
    "    # 함수 : slitting\n",
    "slit1, slit2 = aoi.preprocessing.slitting(cross1, 1125)"
   ]
  },
  {
   "cell_type": "code",
   "execution_count": null,
   "metadata": {
    "collapsed": true
   },
   "outputs": [],
   "source": [
    "# 5) 불량율 계산하기 \n",
    "  # 클래스 : output\n",
    "    # 함수 : ratio\n",
    "slit1_ratio = aoi.output.ratio(slit1, 1125, length, 956.90, 541.95, 0)\n",
    "slit2_ratio = aoi.output.ratio(slit2, 750, length, 1229.20, 695.50, 0)"
   ]
  },
  {
   "cell_type": "code",
   "execution_count": null,
   "metadata": {
    "collapsed": true
   },
   "outputs": [],
   "source": [
    "# 6) 원하는 조건 마킹 개수 계산하기\n",
    "  # 클래스 : output\n",
    "    # 함수 : counting\n",
    "slit1_counting = aoi.output.counting(slit1, 0.05, 0.50, 50, 300)\n",
    "slit2_counting = aoi.output.counting(slit2, 0.05, 0.50, 50, 300)"
   ]
  },
  {
   "cell_type": "code",
   "execution_count": null,
   "metadata": {
    "collapsed": true
   },
   "outputs": [],
   "source": [
    "# 7) 칩 별 마킹된 정보 확인하기 \n",
    "  # 클래스 : output\n",
    "    # 함수 : markinginfo\n",
    "slit1_markinginfo = aoi.output.markinginfo(slit1, 1125, length, 956.90, 541.95, 0)"
   ]
  },
  {
   "cell_type": "code",
   "execution_count": null,
   "metadata": {
    "collapsed": true
   },
   "outputs": [],
   "source": [
    "# 8) 2)의 원단 정보를 이용해서 자동검사기 맵 그려보기 (plot)\n",
    "  # 클래스 : plot\n",
    "    # 함수 : scatter\n",
    "aoi.plot.scatter(lot, data, width, length)"
   ]
  },
  {
   "cell_type": "code",
   "execution_count": null,
   "metadata": {
    "collapsed": true
   },
   "outputs": [],
   "source": [
    "# 9) 3)의 원하는 불량 유형의 정보를 가지고 heatmap 그려보기 \n",
    "  # 클래스 : plot\n",
    "    # 함수 : heatmap\n",
    "\n",
    "aoi.plot.heatmap(cross1, bins_size = [0,0.1,0.2,0.3,0.4,0.5], bins_value = [0,50,100,150,200],\n",
    "                labels_size = ['0~0.1','0.1~0.2','0.2~0.3','0.3~0.4','0.4~0.5'], labels_value = ['0~50','50~100','100~150','150~200'])"
   ]
  },
  {
   "cell_type": "code",
   "execution_count": null,
   "metadata": {
    "collapsed": true
   },
   "outputs": [],
   "source": [
    "# 10) 2의 원단 정보를 이용해서 interactive plot 그려보기\n",
    "  # 클래스 : i_plot\n",
    "    # 함수 : scatter\n",
    "aoi.i_plot.scatter(lot, data, width, length, criteria = '광학계')        "
   ]
  },
  {
   "cell_type": "code",
   "execution_count": null,
   "metadata": {
    "collapsed": true
   },
   "outputs": [],
   "source": [
    "# 예제1) 자동검사기 데이터 불러와서 수율 계산하기 \n",
    "\n",
    "# 대상 : RC40 HC \n",
    "\n",
    "# 기간 : 5월 한 달 (5/1 ~ 5/31)\n",
    "\n",
    "# 불량 정보 : 크로스2 강, 약 전 불량에 대함 "
   ]
  }
 ],
 "metadata": {
  "kernelspec": {
   "display_name": "Python [default]",
   "language": "python",
   "name": "python3"
  },
  "language_info": {
   "codemirror_mode": {
    "name": "ipython",
    "version": 3
   },
   "file_extension": ".py",
   "mimetype": "text/x-python",
   "name": "python",
   "nbconvert_exporter": "python",
   "pygments_lexer": "ipython3",
   "version": "3.5.2"
  }
 },
 "nbformat": 4,
 "nbformat_minor": 1
}
