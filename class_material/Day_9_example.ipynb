{
 "cells": [
  {
   "cell_type": "code",
   "execution_count": null,
   "metadata": {
    "collapsed": true
   },
   "outputs": [],
   "source": [
    "# aoi 모듈 활용법\n",
    "\n",
    "# 1) 검사기 데이터 불러오기 \n",
    "  # 함수 : read_data\n",
    "\n",
    "# 2) 원단 정보 불러오기\n",
    "  # 함수 : read_lot_info\n",
    "    \n",
    "# 3) 원하는 불량 유형만 가져와보기\n",
    "  # 클래스 : preprocess\n",
    "    # 함수 : base   \n",
    "    \n",
    "    \n",
    "# 4) 슬리팅 쳐보기 \n",
    "  # 클래스 : preprocess\n",
    "    # 함수 : slitting\n",
    "\n",
    "# 5) 불량율 계산하기 \n",
    "  # 클래스 : output\n",
    "    # 함수 : ratio\n",
    "        \n",
    "# 6) 원하는 조건 마킹 개수 계산하기\n",
    "  # 클래스 : output\n",
    "    # 함수 : counting\n",
    "\n",
    "# 7) 칩 별 마킹된 정보 확인하기 \n",
    "  # 클래스 : output\n",
    "    # 함수 : markinginfo\n",
    "        \n",
    "# 8) 2)의 원단 정보를 이용해서 자동검사기 맵 그려보기 (plot)\n",
    "  # 클래스 : plot\n",
    "    # 함수 : scatter\n",
    "\n",
    "# 9) 3)의 원하는 불량 유형의 정보를 가지고 heatmap 그려보기 \n",
    "  # 클래스 : plot\n",
    "    # 함수 : heatmap\n",
    "\n",
    "# 10) 2의 원단 정보를 이용해서 interactive plot 그려보기\n",
    "  # 클래스 : i_plot\n",
    "    # 함수 : scatter\n",
    "        \n",
    "    "
   ]
  },
  {
   "cell_type": "code",
   "execution_count": null,
   "metadata": {
    "collapsed": true
   },
   "outputs": [],
   "source": [
    "# 예제1) 자동검사기 데이터 불러와서 수율 계산하기 \n",
    "\n",
    "# 대상 : RC40 HC \n",
    "\n",
    "# 기간 : 5월 한 달 (5/1 ~ 5/31)\n",
    "\n",
    "# 불량 정보 : 크로스2 강, 약 전 불량에 대함 \n"
   ]
  }
 ],
 "metadata": {
  "kernelspec": {
   "display_name": "Python [default]",
   "language": "python",
   "name": "python3"
  },
  "language_info": {
   "codemirror_mode": {
    "name": "ipython",
    "version": 3
   },
   "file_extension": ".py",
   "mimetype": "text/x-python",
   "name": "python",
   "nbconvert_exporter": "python",
   "pygments_lexer": "ipython3",
   "version": "3.5.2"
  }
 },
 "nbformat": 4,
 "nbformat_minor": 1
}
