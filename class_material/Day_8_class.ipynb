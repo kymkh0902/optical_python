{
 "cells": [
  {
   "cell_type": "markdown",
   "metadata": {
    "nbpresent": {
     "id": "1a969a16-5fe8-451b-be09-f28598a0b4b9"
    }
   },
   "source": [
    "# Day 8\n",
    "\n",
    "***\n",
    "###  학습 목표 \n",
    "\n",
    "#### 1) 데이터 시각화 학습 (주 : Matplotlib, 보조 : Seaborn)\n",
    "  - plot 내보내기\n",
    "      1. Jupyter\n",
    "      2. Spyder\n",
    "  \n",
    "  \n",
    "  - plot 종류\n",
    "      1. plot\n",
    "      2. hist\n",
    "      3. scatter\n",
    "      4. heatmap(seaborn)\n",
    "      \n",
    "      \n",
    "  - plot 개수 및 크기 설정\n",
    "      1. subplots\n",
    "      \n",
    "      \n",
    "  - 기타 설정 \n",
    "      1. title\n",
    "      2. xlabel/ylabel\n",
    "      3. xticks/yticks\n",
    "      4. xlim/ylim\n",
    "      5. legend\n",
    "      6. annotate"
   ]
  },
  {
   "cell_type": "markdown",
   "metadata": {
    "nbpresent": {
     "id": "4e1a43e2-4f55-4d5b-8971-404b3495841e"
    }
   },
   "source": [
    "***\n",
    "### 데이터 시각화\n",
    "- **plot 내보내기**\n",
    "    1. Jupyter : Jupyter 내에 창을 띄울 수 있습니다. 아래 코드 참조하세요. 새로운 창을 띄우는 방법은 찾아봤는데 정확하게 모르겠어요 \n",
    "    ```python\n",
    "    import matplotlib.pyplot as plt  # matplotlib package를 plt라는 이름으로 import합니다.\n",
    "    %matplotlib inline    # Jupyter 내부에 그래프를 띄울 수 있게 설정합니다.\n",
    "    #... (그래프1)\n",
    "    #... (그래프2)\n",
    "    plt.show()            # 그래프를 나타냅니다. (띄울 그래프 아래에 쓰면 자동으로 인식.)\n",
    "    ```\n",
    "    2. Spyder : 다른 설정 필요없이 plt.show()하시면 console 창에 그래프를 띄울 수 있습니다. 마지막에 쓰시면 모든 그래프가 다 출력됩니다.\n",
    "    ```python\n",
    "    import matplotlib.pyplot as plt\n",
    "    #... (그래프)\n",
    "    #... (그래프)\n",
    "    plt.show()            # 그래프를 나타냅니다. (띄울 그래프 아래에 쓰면 자동으로 인식.)\n",
    "    ```\n",
    "    3. fig.savefig : 이미지 파일로 저장합니다."
   ]
  },
  {
   "cell_type": "markdown",
   "metadata": {
    "nbpresent": {
     "id": "f488d88a-894c-4fc4-9e05-892227e98f44"
    }
   },
   "source": [
    "- **plot 종류**\n",
    "    1. plot : 많은 그래프 기능을 수행할 수 있는 함수입니다. kind = 'hist', 'bar', 'box' 등 그래프의 종류를 입력하고 원하는 기타 설정 값들을 입력하시면 원하는 그래프를 그릴 수 있습니다. 하지만 입력 가능한 값들이 Shift+Tab으로 보이지 않아서 뭘 입력해야 되는지 모릅니다. 그래서 사용을 추천드리지 않고 line 그래프 그리실 때만 쓰시는 걸 추천드립니다.\n",
    "    ```python\n",
    "    plt.plot([1,2], [2,4]) # x = [1,2], y = [2,4] 인 그래프를 그립니다. \n",
    "    plt.show()\n",
    "    ```\n",
    "    \n",
    "    2. hist : 히스토그램을 그릴 수 있는 함수입니다. 주로 어떤 값들이 어떻게 분포되어 있는지 볼 때 사용하시게 될 겁니다.\n",
    "    \n",
    "    ```python\n",
    "    import numpy as np\n",
    "    data = np.random.randn(1000)  # 평균 0, 표준편차 1인 정규분포식으로부터 표본을 1000개 샘플링합니다. \n",
    "    plt.hist(x = data, bins = 10) # data를 활용하여 bin이 10개로 이루어진 히스토그램을 그립니다.\n",
    "    plt.show()\n",
    "    ```\n",
    "    \n",
    "    3. scatter : 산점도를 그릴 수 있는 함수입니다. 검사기 value, size 분포를 확인할 때 많이 사용하시게 될 겁니다. \n",
    "    ```python\n",
    "    plt.scatter(x = data['Value'], y = data['Size']) # x, y 에 왼쪽 해당 값을 갖는 산점도를 그립니다. \n",
    "    plt.show()                 \n",
    "    ```\n",
    "    \n",
    "    4. heatmap : heatmap을 그릴 수 있는 함수입니다. 검사기 value, size 분포를 확인할 때 많이 사용하시게 될 겁니다. \n",
    "    heatmap은 data를 조금 처리해줘야 하는데, pivot 형태로 바꿔주셔야 합니다. \n",
    "    ```python\n",
    "    import seaborn as sns\n",
    "    data_heat = data.groupby(['col1','col2'])['col3'].count().unstack() # col1이 행 레이블, col2가 열 레이블에 위치하고 해당되는 개수를 출력하는 pivot 으로 만들어주어 data_heat에 저장합니다.\n",
    "    sns.heatmap(data = data_heat) # 'col1'이 x축, 'col2'가 y축이고 해당되는 개수가 숫자로 나타나며 그에 따른 색깔 변화가 있는 heatmap을 출력합니다.\n",
    "    ```\n",
    "  "
   ]
  },
  {
   "cell_type": "code",
   "execution_count": 2,
   "metadata": {
    "collapsed": true
   },
   "outputs": [],
   "source": [
    "import matplotlib.pyplot as plt"
   ]
  },
  {
   "cell_type": "markdown",
   "metadata": {
    "nbpresent": {
     "id": "25697210-04c8-4063-a6ec-379277ad05fc"
    }
   },
   "source": [
    "- **plot 개수 및 크기 설정**\n",
    "    1. subplots : 한 그래프 안에 행,열의 그림 배열을 만듭니다. 여러개 만들면 다루기 어려우니 주로 1,1로 만들어서 크기 조절만 해서 씁시다.\n",
    "    subplots로 그래프를 만들면 fig, ax라는 값을 반환 하고 해당 변수들로 이미지, 그래프 관련 사항들을 다룰 수 있습니다.\n",
    "\n",
    "        - fig : 그래프를 이미지로 저장하거나 내보낼 때 사용하는 변수입니다. \n",
    "        \n",
    "        - ax : 그래프의 x축, y축, 제목 등 그래프 전반 설정 변경 및 수정할 때 사용하는 변수입니다.\n",
    "    \n",
    "    ```python \n",
    "    fig1, ax1 = plt.subplots(figsize = (8,6)) # 8*6 크기의 1*1 형태의 그래프를 생성하고 변수 fig1, ax1에 반환합니다.\n",
    "    ax1.hist(x = data, bins = 10)  # 위 그래프에 히스토그램을 그립니다. \n",
    "    \n",
    "    fig2, ax2 = plt.subplots(figsize = (8,6)) # 8*6 크기의 1*1 형태의 그래프를 생성하고 변수 fig1, ax1에 반환합니다.  \n",
    "    ax2.plot([1,2],[2,4])  # 위 그래프에 선 그래프를 그립니다.\n",
    "    ```"
   ]
  },
  {
   "cell_type": "code",
   "execution_count": null,
   "metadata": {
    "collapsed": false
   },
   "outputs": [],
   "source": [
    "fig2, ax2 = plt.subplots(figsize = (8,6)) # 8*6 크기의 1*1 형태의 그래프를 생성하고 변수 fig1, ax1에 반환합니다.  \n",
    "ax2.plot([1,2],[2,4])  # 위 그래프에 선 그래프를 그립니다."
   ]
  },
  {
   "cell_type": "markdown",
   "metadata": {
    "nbpresent": {
     "id": "841fbc35-8da4-420a-b5b3-b80d48c1d4f4"
    }
   },
   "source": [
    "- **기타 설정**\n",
    "    1. title : 제목을 설정합니다.\n",
    "    ```python\n",
    "    ax.set_title('title')\n",
    "    ```\n",
    "    2. xlabel/ylabel : x축, y축 라벨을 기입합니다.\n",
    "    ```python\n",
    "    ax.set_xlabel('xlabel')\n",
    "    ax.set_ylabel('ylabel')\n",
    "    ```\n",
    "    3. xticks/yticks : x축, y축 값을 지정해줍니다.\n",
    "    ```python\n",
    "    ax.set_xticks([0,2,4,6])   # x축 값을 0, 2, 4, 6 으로 설정합니다. \n",
    "    ax.set_yticks([0,3,7,10])  # y축 값을 0, 3, 7, 10 으로 설정합니다. \n",
    "    ```\n",
    "    4. xlim/ylim : x축 최소/최대값, y축 최소/최대값 범위를 지정해 줍니다. \n",
    "    ```python\n",
    "    ax.set_xlim(0,6)          # x축의 그래프 출력 값을 0부터 6까지로 제한합니다.\n",
    "    ax.set_ylim(0,10)         # y축의 그래프 출력 값을 0부터 10까지로 제한합니다. \n",
    "    ```\n",
    "    5. legend : 데이터에 범례를 추가해줍니다. \n",
    "    ```python\n",
    "    ax.legend(['Blue'])  # 그래프에 'Blue'라는 범례 이름을 달아줍니다. \n",
    "    ```\n",
    "\n",
    "    6. annotate : 그래프 내에 주석을 달아줍니다. (기호, 텍스트, 수식 등)  \n",
    "    ```python\n",
    "    ax.annotate('here', xy = (1,2))  # 그래프 x = 1, y = 2 위치에 'here'라는 text를 삽입해줍니다. \n",
    "    ``` "
   ]
  },
  {
   "cell_type": "markdown",
   "metadata": {
    "nbpresent": {
     "id": "80abd633-b819-4b44-875c-2fc00b99109d"
    }
   },
   "source": [
    "### 시각화 조언 : default 환경 설정\n",
    "\n",
    "- 처음 시각화를 하실 때는 입력해야 할 변수도 많고 헷갈려서 어려우실 겁니다. 사용하시다보면 어느 정도 본인 default 설정을 찾게 될 겁니다.\n",
    "    \n",
    "    제가 지금까지 아는 내용을 바탕으로 default 설정을 공유해드릴테니 시각화가 편해지실 때까지 따라하셔도 됩니다. \n",
    "\n",
    "    (익숙해지시면 이것 저것 바꿔보세요)\n",
    "\n",
    "\n",
    "- 추가로 나중에 그래프 크기, 선 두께, 폰트 등 관련 변수들을 전부 상세하게 원하는 사용자 설정으로 바꿔놓고 싶으신 경우 \n",
    "\n",
    "    (./Anaconda3/pkgs/matplotlib-2.0.0-np111py35_0/Lib/site-packages/matplotlib/mpl-data/matplotlibrc) 파일을 수정해주시면 됩니다. \n",
    "\n",
    "    수업 시간에는 폰트 바꾸는 것만 알려드리도록 할게요 \n",
    "    \n",
    "    \n",
    "- **경험 상 패키지 특징** :\n",
    "\n",
    "    1) matplotlib \n",
    "      \n",
    "     - 장점 : 모든 설정을 지정할 수가 있어서 세분화되게 조정하기 좋다. 그래프의 종류가 매우 다양해서 조합만 잘하면 다 나타낼 수 있다.\n",
    "      \n",
    "     - 단점 : 처음에 일단 어렵고, 설정을 지정해주기가 귀찮다. default 설정이 별로 안 이뻐서 손이 많이 간다.\n",
    "       \n",
    "  2) seaborn \n",
    "     \n",
    "     - 장점 : pandas를 활용해서 그래프를 쉽게 나타낼 수 있도록 해놓았다. matplotlib처럼 많은 설정을 하지 않더라도 비교적 예쁜 그래프가 나오며 통계적인 내용을 쉽게 그래프를 나타내도록 만들어놨다. \n",
    "     - 단점 : matplotlib를 기반으로 하지만 설정을 까다롭게 지정하기 어려우며 통계 그래프에 집중되어 나타낼 수 없는 그래프들이 많다. \n",
    "        \n",
    "  3) 추천 : pandas 내용 기반으로 빠르게 통계적인 내용(histogram, boxplot, violinplot, jointplot, heatmap) 등을 보여줄 때에는 seaborn이 월등한 효율성을 보이므로 seaborn을 추천합니다.\n",
    "  여러 그래프를 한 그래프에 나타내고, 설정들을 구체적으로 나타내주어야 할 경우에는 matplotlib에서 주로 진행하는 것을 추천합니다. \n",
    "    \n",
    "\n",
    "#### 1) matplotlib"
   ]
  },
  {
   "cell_type": "code",
   "execution_count": 2,
   "metadata": {
    "collapsed": false,
    "nbpresent": {
     "id": "58590a0b-bfa4-44d9-ba23-e4e6422717c7"
    },
    "scrolled": false
   },
   "outputs": [
    {
     "ename": "KeyError",
     "evalue": "'불량유형'",
     "output_type": "error",
     "traceback": [
      "\u001b[1;31m---------------------------------------------------------------------------\u001b[0m",
      "\u001b[1;31mKeyError\u001b[0m                                  Traceback (most recent call last)",
      "\u001b[1;32mC:\\anaconda\\lib\\site-packages\\pandas\\indexes\\base.py\u001b[0m in \u001b[0;36mget_loc\u001b[1;34m(self, key, method, tolerance)\u001b[0m\n\u001b[0;32m   1875\u001b[0m             \u001b[1;32mtry\u001b[0m\u001b[1;33m:\u001b[0m\u001b[1;33m\u001b[0m\u001b[0m\n\u001b[1;32m-> 1876\u001b[1;33m                 \u001b[1;32mreturn\u001b[0m \u001b[0mself\u001b[0m\u001b[1;33m.\u001b[0m\u001b[0m_engine\u001b[0m\u001b[1;33m.\u001b[0m\u001b[0mget_loc\u001b[0m\u001b[1;33m(\u001b[0m\u001b[0mkey\u001b[0m\u001b[1;33m)\u001b[0m\u001b[1;33m\u001b[0m\u001b[0m\n\u001b[0m\u001b[0;32m   1877\u001b[0m             \u001b[1;32mexcept\u001b[0m \u001b[0mKeyError\u001b[0m\u001b[1;33m:\u001b[0m\u001b[1;33m\u001b[0m\u001b[0m\n",
      "\u001b[1;32mpandas\\index.pyx\u001b[0m in \u001b[0;36mpandas.index.IndexEngine.get_loc (pandas\\index.c:4027)\u001b[1;34m()\u001b[0m\n",
      "\u001b[1;32mpandas\\index.pyx\u001b[0m in \u001b[0;36mpandas.index.IndexEngine.get_loc (pandas\\index.c:3891)\u001b[1;34m()\u001b[0m\n",
      "\u001b[1;32mpandas\\hashtable.pyx\u001b[0m in \u001b[0;36mpandas.hashtable.PyObjectHashTable.get_item (pandas\\hashtable.c:12408)\u001b[1;34m()\u001b[0m\n",
      "\u001b[1;32mpandas\\hashtable.pyx\u001b[0m in \u001b[0;36mpandas.hashtable.PyObjectHashTable.get_item (pandas\\hashtable.c:12359)\u001b[1;34m()\u001b[0m\n",
      "\u001b[1;31mKeyError\u001b[0m: '불량유형'",
      "\nDuring handling of the above exception, another exception occurred:\n",
      "\u001b[1;31mKeyError\u001b[0m                                  Traceback (most recent call last)",
      "\u001b[1;32m<ipython-input-2-8134f527dcde>\u001b[0m in \u001b[0;36m<module>\u001b[1;34m()\u001b[0m\n\u001b[0;32m     10\u001b[0m \u001b[1;33m\u001b[0m\u001b[0m\n\u001b[0;32m     11\u001b[0m \u001b[0mdata\u001b[0m \u001b[1;33m=\u001b[0m \u001b[0mpd\u001b[0m\u001b[1;33m.\u001b[0m\u001b[0mread_excel\u001b[0m\u001b[1;33m(\u001b[0m\u001b[1;34m'20160715DC02017.xlsx'\u001b[0m\u001b[1;33m,\u001b[0m \u001b[0mnames\u001b[0m \u001b[1;33m=\u001b[0m \u001b[0mnames\u001b[0m\u001b[1;33m)\u001b[0m\u001b[1;33m\u001b[0m\u001b[0m\n\u001b[1;32m---> 12\u001b[1;33m \u001b[0mdata_2305\u001b[0m \u001b[1;33m=\u001b[0m \u001b[0mdata\u001b[0m\u001b[1;33m[\u001b[0m\u001b[0mdata\u001b[0m\u001b[1;33m[\u001b[0m\u001b[1;34m'불량유형'\u001b[0m\u001b[1;33m]\u001b[0m \u001b[1;33m==\u001b[0m \u001b[1;36m2305\u001b[0m\u001b[1;33m]\u001b[0m\u001b[1;33m.\u001b[0m\u001b[0mdropna\u001b[0m\u001b[1;33m(\u001b[0m\u001b[1;33m)\u001b[0m\u001b[1;33m\u001b[0m\u001b[0m\n\u001b[0m\u001b[0;32m     13\u001b[0m \u001b[0mdata_2305\u001b[0m\u001b[1;33m[\u001b[0m\u001b[1;34m'Size'\u001b[0m\u001b[1;33m]\u001b[0m \u001b[1;33m=\u001b[0m \u001b[1;33m(\u001b[0m\u001b[0mdata_2305\u001b[0m\u001b[1;33m[\u001b[0m\u001b[1;34m'X-Size'\u001b[0m\u001b[1;33m]\u001b[0m \u001b[1;33m+\u001b[0m \u001b[0mdata_2305\u001b[0m\u001b[1;33m[\u001b[0m\u001b[1;34m'Y-Size'\u001b[0m\u001b[1;33m]\u001b[0m\u001b[1;33m)\u001b[0m\u001b[1;33m/\u001b[0m\u001b[1;36m2\u001b[0m\u001b[1;33m\u001b[0m\u001b[0m\n\u001b[0;32m     14\u001b[0m \u001b[1;33m\u001b[0m\u001b[0m\n",
      "\u001b[1;32mC:\\anaconda\\lib\\site-packages\\pandas\\core\\frame.py\u001b[0m in \u001b[0;36m__getitem__\u001b[1;34m(self, key)\u001b[0m\n\u001b[0;32m   1990\u001b[0m             \u001b[1;32mreturn\u001b[0m \u001b[0mself\u001b[0m\u001b[1;33m.\u001b[0m\u001b[0m_getitem_multilevel\u001b[0m\u001b[1;33m(\u001b[0m\u001b[0mkey\u001b[0m\u001b[1;33m)\u001b[0m\u001b[1;33m\u001b[0m\u001b[0m\n\u001b[0;32m   1991\u001b[0m         \u001b[1;32melse\u001b[0m\u001b[1;33m:\u001b[0m\u001b[1;33m\u001b[0m\u001b[0m\n\u001b[1;32m-> 1992\u001b[1;33m             \u001b[1;32mreturn\u001b[0m \u001b[0mself\u001b[0m\u001b[1;33m.\u001b[0m\u001b[0m_getitem_column\u001b[0m\u001b[1;33m(\u001b[0m\u001b[0mkey\u001b[0m\u001b[1;33m)\u001b[0m\u001b[1;33m\u001b[0m\u001b[0m\n\u001b[0m\u001b[0;32m   1993\u001b[0m \u001b[1;33m\u001b[0m\u001b[0m\n\u001b[0;32m   1994\u001b[0m     \u001b[1;32mdef\u001b[0m \u001b[0m_getitem_column\u001b[0m\u001b[1;33m(\u001b[0m\u001b[0mself\u001b[0m\u001b[1;33m,\u001b[0m \u001b[0mkey\u001b[0m\u001b[1;33m)\u001b[0m\u001b[1;33m:\u001b[0m\u001b[1;33m\u001b[0m\u001b[0m\n",
      "\u001b[1;32mC:\\anaconda\\lib\\site-packages\\pandas\\core\\frame.py\u001b[0m in \u001b[0;36m_getitem_column\u001b[1;34m(self, key)\u001b[0m\n\u001b[0;32m   1997\u001b[0m         \u001b[1;31m# get column\u001b[0m\u001b[1;33m\u001b[0m\u001b[1;33m\u001b[0m\u001b[0m\n\u001b[0;32m   1998\u001b[0m         \u001b[1;32mif\u001b[0m \u001b[0mself\u001b[0m\u001b[1;33m.\u001b[0m\u001b[0mcolumns\u001b[0m\u001b[1;33m.\u001b[0m\u001b[0mis_unique\u001b[0m\u001b[1;33m:\u001b[0m\u001b[1;33m\u001b[0m\u001b[0m\n\u001b[1;32m-> 1999\u001b[1;33m             \u001b[1;32mreturn\u001b[0m \u001b[0mself\u001b[0m\u001b[1;33m.\u001b[0m\u001b[0m_get_item_cache\u001b[0m\u001b[1;33m(\u001b[0m\u001b[0mkey\u001b[0m\u001b[1;33m)\u001b[0m\u001b[1;33m\u001b[0m\u001b[0m\n\u001b[0m\u001b[0;32m   2000\u001b[0m \u001b[1;33m\u001b[0m\u001b[0m\n\u001b[0;32m   2001\u001b[0m         \u001b[1;31m# duplicate columns & possible reduce dimensionality\u001b[0m\u001b[1;33m\u001b[0m\u001b[1;33m\u001b[0m\u001b[0m\n",
      "\u001b[1;32mC:\\anaconda\\lib\\site-packages\\pandas\\core\\generic.py\u001b[0m in \u001b[0;36m_get_item_cache\u001b[1;34m(self, item)\u001b[0m\n\u001b[0;32m   1343\u001b[0m         \u001b[0mres\u001b[0m \u001b[1;33m=\u001b[0m \u001b[0mcache\u001b[0m\u001b[1;33m.\u001b[0m\u001b[0mget\u001b[0m\u001b[1;33m(\u001b[0m\u001b[0mitem\u001b[0m\u001b[1;33m)\u001b[0m\u001b[1;33m\u001b[0m\u001b[0m\n\u001b[0;32m   1344\u001b[0m         \u001b[1;32mif\u001b[0m \u001b[0mres\u001b[0m \u001b[1;32mis\u001b[0m \u001b[1;32mNone\u001b[0m\u001b[1;33m:\u001b[0m\u001b[1;33m\u001b[0m\u001b[0m\n\u001b[1;32m-> 1345\u001b[1;33m             \u001b[0mvalues\u001b[0m \u001b[1;33m=\u001b[0m \u001b[0mself\u001b[0m\u001b[1;33m.\u001b[0m\u001b[0m_data\u001b[0m\u001b[1;33m.\u001b[0m\u001b[0mget\u001b[0m\u001b[1;33m(\u001b[0m\u001b[0mitem\u001b[0m\u001b[1;33m)\u001b[0m\u001b[1;33m\u001b[0m\u001b[0m\n\u001b[0m\u001b[0;32m   1346\u001b[0m             \u001b[0mres\u001b[0m \u001b[1;33m=\u001b[0m \u001b[0mself\u001b[0m\u001b[1;33m.\u001b[0m\u001b[0m_box_item_values\u001b[0m\u001b[1;33m(\u001b[0m\u001b[0mitem\u001b[0m\u001b[1;33m,\u001b[0m \u001b[0mvalues\u001b[0m\u001b[1;33m)\u001b[0m\u001b[1;33m\u001b[0m\u001b[0m\n\u001b[0;32m   1347\u001b[0m             \u001b[0mcache\u001b[0m\u001b[1;33m[\u001b[0m\u001b[0mitem\u001b[0m\u001b[1;33m]\u001b[0m \u001b[1;33m=\u001b[0m \u001b[0mres\u001b[0m\u001b[1;33m\u001b[0m\u001b[0m\n",
      "\u001b[1;32mC:\\anaconda\\lib\\site-packages\\pandas\\core\\internals.py\u001b[0m in \u001b[0;36mget\u001b[1;34m(self, item, fastpath)\u001b[0m\n\u001b[0;32m   3223\u001b[0m \u001b[1;33m\u001b[0m\u001b[0m\n\u001b[0;32m   3224\u001b[0m             \u001b[1;32mif\u001b[0m \u001b[1;32mnot\u001b[0m \u001b[0misnull\u001b[0m\u001b[1;33m(\u001b[0m\u001b[0mitem\u001b[0m\u001b[1;33m)\u001b[0m\u001b[1;33m:\u001b[0m\u001b[1;33m\u001b[0m\u001b[0m\n\u001b[1;32m-> 3225\u001b[1;33m                 \u001b[0mloc\u001b[0m \u001b[1;33m=\u001b[0m \u001b[0mself\u001b[0m\u001b[1;33m.\u001b[0m\u001b[0mitems\u001b[0m\u001b[1;33m.\u001b[0m\u001b[0mget_loc\u001b[0m\u001b[1;33m(\u001b[0m\u001b[0mitem\u001b[0m\u001b[1;33m)\u001b[0m\u001b[1;33m\u001b[0m\u001b[0m\n\u001b[0m\u001b[0;32m   3226\u001b[0m             \u001b[1;32melse\u001b[0m\u001b[1;33m:\u001b[0m\u001b[1;33m\u001b[0m\u001b[0m\n\u001b[0;32m   3227\u001b[0m                 \u001b[0mindexer\u001b[0m \u001b[1;33m=\u001b[0m \u001b[0mnp\u001b[0m\u001b[1;33m.\u001b[0m\u001b[0marange\u001b[0m\u001b[1;33m(\u001b[0m\u001b[0mlen\u001b[0m\u001b[1;33m(\u001b[0m\u001b[0mself\u001b[0m\u001b[1;33m.\u001b[0m\u001b[0mitems\u001b[0m\u001b[1;33m)\u001b[0m\u001b[1;33m)\u001b[0m\u001b[1;33m[\u001b[0m\u001b[0misnull\u001b[0m\u001b[1;33m(\u001b[0m\u001b[0mself\u001b[0m\u001b[1;33m.\u001b[0m\u001b[0mitems\u001b[0m\u001b[1;33m)\u001b[0m\u001b[1;33m]\u001b[0m\u001b[1;33m\u001b[0m\u001b[0m\n",
      "\u001b[1;32mC:\\anaconda\\lib\\site-packages\\pandas\\indexes\\base.py\u001b[0m in \u001b[0;36mget_loc\u001b[1;34m(self, key, method, tolerance)\u001b[0m\n\u001b[0;32m   1876\u001b[0m                 \u001b[1;32mreturn\u001b[0m \u001b[0mself\u001b[0m\u001b[1;33m.\u001b[0m\u001b[0m_engine\u001b[0m\u001b[1;33m.\u001b[0m\u001b[0mget_loc\u001b[0m\u001b[1;33m(\u001b[0m\u001b[0mkey\u001b[0m\u001b[1;33m)\u001b[0m\u001b[1;33m\u001b[0m\u001b[0m\n\u001b[0;32m   1877\u001b[0m             \u001b[1;32mexcept\u001b[0m \u001b[0mKeyError\u001b[0m\u001b[1;33m:\u001b[0m\u001b[1;33m\u001b[0m\u001b[0m\n\u001b[1;32m-> 1878\u001b[1;33m                 \u001b[1;32mreturn\u001b[0m \u001b[0mself\u001b[0m\u001b[1;33m.\u001b[0m\u001b[0m_engine\u001b[0m\u001b[1;33m.\u001b[0m\u001b[0mget_loc\u001b[0m\u001b[1;33m(\u001b[0m\u001b[0mself\u001b[0m\u001b[1;33m.\u001b[0m\u001b[0m_maybe_cast_indexer\u001b[0m\u001b[1;33m(\u001b[0m\u001b[0mkey\u001b[0m\u001b[1;33m)\u001b[0m\u001b[1;33m)\u001b[0m\u001b[1;33m\u001b[0m\u001b[0m\n\u001b[0m\u001b[0;32m   1879\u001b[0m \u001b[1;33m\u001b[0m\u001b[0m\n\u001b[0;32m   1880\u001b[0m         \u001b[0mindexer\u001b[0m \u001b[1;33m=\u001b[0m \u001b[0mself\u001b[0m\u001b[1;33m.\u001b[0m\u001b[0mget_indexer\u001b[0m\u001b[1;33m(\u001b[0m\u001b[1;33m[\u001b[0m\u001b[0mkey\u001b[0m\u001b[1;33m]\u001b[0m\u001b[1;33m,\u001b[0m \u001b[0mmethod\u001b[0m\u001b[1;33m=\u001b[0m\u001b[0mmethod\u001b[0m\u001b[1;33m,\u001b[0m \u001b[0mtolerance\u001b[0m\u001b[1;33m=\u001b[0m\u001b[0mtolerance\u001b[0m\u001b[1;33m)\u001b[0m\u001b[1;33m\u001b[0m\u001b[0m\n",
      "\u001b[1;32mpandas\\index.pyx\u001b[0m in \u001b[0;36mpandas.index.IndexEngine.get_loc (pandas\\index.c:4027)\u001b[1;34m()\u001b[0m\n",
      "\u001b[1;32mpandas\\index.pyx\u001b[0m in \u001b[0;36mpandas.index.IndexEngine.get_loc (pandas\\index.c:3891)\u001b[1;34m()\u001b[0m\n",
      "\u001b[1;32mpandas\\hashtable.pyx\u001b[0m in \u001b[0;36mpandas.hashtable.PyObjectHashTable.get_item (pandas\\hashtable.c:12408)\u001b[1;34m()\u001b[0m\n",
      "\u001b[1;32mpandas\\hashtable.pyx\u001b[0m in \u001b[0;36mpandas.hashtable.PyObjectHashTable.get_item (pandas\\hashtable.c:12359)\u001b[1;34m()\u001b[0m\n",
      "\u001b[1;31mKeyError\u001b[0m: '불량유형'"
     ]
    }
   ],
   "source": [
    "#0. data 불러오기\n",
    "import os\n",
    "os.chdir('../dataset')\n",
    "import pandas as pd\n",
    "import matplotlib.pyplot as plt\n",
    "%matplotlib inline\n",
    "\n",
    "names = ['날짜','Lot','Frame수', '카메라 번호', '사용안함', 'INDEX', '불량유형','X','y', \n",
    "         'X-Size','Y-Size', '불량이미지','사용안함','사용안함','Value','흑점','조명밝기']\n",
    "\n",
    "data = pd.read_excel('20160715DC02017.xlsx', names = names)\n",
    "data_2305 = data[data['불량유형'] == 2305].dropna()\n",
    "data_2305['Size'] = (data_2305['X-Size'] + data_2305['Y-Size'])/2\n",
    "\n",
    "#1. subplots 불러오기 \n",
    "fig, ax = plt.subplots(figsize = (8,6)) # figsize: 크기\n",
    "\n",
    "#2. Graph 그리기 \n",
    "ax.scatter(x = data_2305['X'], y = data_2305['y'], s = 15, linewidths = 1, # x: x축 값, y: y축 값, s: 점 크기, linewidth: 점 테두리 두께 \n",
    "           facecolors = 'none', edgecolors = 'r', alpha = 0.5) # facecolors: 점 색, edgecolors: 테두리 색, alpha: 투명도\n",
    "\n",
    "#3. 축 설정\n",
    "ax.set_xlim(0,data_2305['X'].max()) # x축 출력 범위 입력\n",
    "ax.set_ylim(0,data_2305['y'].max()) # y축 출력 범위 입력\n",
    "ax.set_xticks([i for i in range(0, 2500, 500)]+[int(data_2305['X'].max())])  # x축 label 설정\n",
    "ax.set_yticks([i for i in range(0, int(data_2305['y'].max()), 20)]+[int(data_2305['y'].max())]) # y축 label 설정\n",
    "ax.legend(['marking']) # 범례 추가\n",
    "ax.tick_params(axis = 'both', which = 'both', length = 0) # 축 표시해주는 tick 설정. axis : 축, which : tick 종류, length : tick 길이 \n",
    "ax.spines['top'].set_visible(False) # 그래프 둘러싼 선에 대한 설정. top, bottom, left, right로 가능. \n",
    "ax.grid('off') # grid on/off \n",
    "#4. 주석 입력 (자주 사용하진 않아요)\n",
    "ax.annotate('Lots of markings', xy = (2050, 20), xytext = (1500, 20), arrowprops=dict(facecolor='black', shrink=0.05, headlength = 7,\n",
    "                                                                                       width = 1, headwidth = 4))\n",
    "\n",
    "fmt = '%.0f%%' # Format you want the ticks, e.g. '40%'\n",
    "xticks = mtick.FormatStrFormatter(fmt)\n",
    "ax.xaxis.set_major_formatter(xticks)\n",
    "\n",
    "#5. 그래프 출력/ 그림 파일로 저장 \n",
    "plt.show()\n",
    "fig.savefig('marking_map')"
   ]
  },
  {
   "cell_type": "code",
   "execution_count": 3,
   "metadata": {
    "collapsed": false
   },
   "outputs": [
    {
     "ename": "KeyError",
     "evalue": "'불량유형'",
     "output_type": "error",
     "traceback": [
      "\u001b[1;31m---------------------------------------------------------------------------\u001b[0m",
      "\u001b[1;31mKeyError\u001b[0m                                  Traceback (most recent call last)",
      "\u001b[1;32mC:\\anaconda\\lib\\site-packages\\pandas\\indexes\\base.py\u001b[0m in \u001b[0;36mget_loc\u001b[1;34m(self, key, method, tolerance)\u001b[0m\n\u001b[0;32m   1875\u001b[0m             \u001b[1;32mtry\u001b[0m\u001b[1;33m:\u001b[0m\u001b[1;33m\u001b[0m\u001b[0m\n\u001b[1;32m-> 1876\u001b[1;33m                 \u001b[1;32mreturn\u001b[0m \u001b[0mself\u001b[0m\u001b[1;33m.\u001b[0m\u001b[0m_engine\u001b[0m\u001b[1;33m.\u001b[0m\u001b[0mget_loc\u001b[0m\u001b[1;33m(\u001b[0m\u001b[0mkey\u001b[0m\u001b[1;33m)\u001b[0m\u001b[1;33m\u001b[0m\u001b[0m\n\u001b[0m\u001b[0;32m   1877\u001b[0m             \u001b[1;32mexcept\u001b[0m \u001b[0mKeyError\u001b[0m\u001b[1;33m:\u001b[0m\u001b[1;33m\u001b[0m\u001b[0m\n",
      "\u001b[1;32mpandas\\index.pyx\u001b[0m in \u001b[0;36mpandas.index.IndexEngine.get_loc (pandas\\index.c:4027)\u001b[1;34m()\u001b[0m\n",
      "\u001b[1;32mpandas\\index.pyx\u001b[0m in \u001b[0;36mpandas.index.IndexEngine.get_loc (pandas\\index.c:3891)\u001b[1;34m()\u001b[0m\n",
      "\u001b[1;32mpandas\\hashtable.pyx\u001b[0m in \u001b[0;36mpandas.hashtable.PyObjectHashTable.get_item (pandas\\hashtable.c:12408)\u001b[1;34m()\u001b[0m\n",
      "\u001b[1;32mpandas\\hashtable.pyx\u001b[0m in \u001b[0;36mpandas.hashtable.PyObjectHashTable.get_item (pandas\\hashtable.c:12359)\u001b[1;34m()\u001b[0m\n",
      "\u001b[1;31mKeyError\u001b[0m: '불량유형'",
      "\nDuring handling of the above exception, another exception occurred:\n",
      "\u001b[1;31mKeyError\u001b[0m                                  Traceback (most recent call last)",
      "\u001b[1;32m<ipython-input-3-635e240e846b>\u001b[0m in \u001b[0;36m<module>\u001b[1;34m()\u001b[0m\n\u001b[1;32m----> 1\u001b[1;33m \u001b[0mdata\u001b[0m\u001b[1;33m[\u001b[0m\u001b[1;34m'불량유형'\u001b[0m\u001b[1;33m]\u001b[0m\u001b[1;33m\u001b[0m\u001b[0m\n\u001b[0m",
      "\u001b[1;32mC:\\anaconda\\lib\\site-packages\\pandas\\core\\frame.py\u001b[0m in \u001b[0;36m__getitem__\u001b[1;34m(self, key)\u001b[0m\n\u001b[0;32m   1990\u001b[0m             \u001b[1;32mreturn\u001b[0m \u001b[0mself\u001b[0m\u001b[1;33m.\u001b[0m\u001b[0m_getitem_multilevel\u001b[0m\u001b[1;33m(\u001b[0m\u001b[0mkey\u001b[0m\u001b[1;33m)\u001b[0m\u001b[1;33m\u001b[0m\u001b[0m\n\u001b[0;32m   1991\u001b[0m         \u001b[1;32melse\u001b[0m\u001b[1;33m:\u001b[0m\u001b[1;33m\u001b[0m\u001b[0m\n\u001b[1;32m-> 1992\u001b[1;33m             \u001b[1;32mreturn\u001b[0m \u001b[0mself\u001b[0m\u001b[1;33m.\u001b[0m\u001b[0m_getitem_column\u001b[0m\u001b[1;33m(\u001b[0m\u001b[0mkey\u001b[0m\u001b[1;33m)\u001b[0m\u001b[1;33m\u001b[0m\u001b[0m\n\u001b[0m\u001b[0;32m   1993\u001b[0m \u001b[1;33m\u001b[0m\u001b[0m\n\u001b[0;32m   1994\u001b[0m     \u001b[1;32mdef\u001b[0m \u001b[0m_getitem_column\u001b[0m\u001b[1;33m(\u001b[0m\u001b[0mself\u001b[0m\u001b[1;33m,\u001b[0m \u001b[0mkey\u001b[0m\u001b[1;33m)\u001b[0m\u001b[1;33m:\u001b[0m\u001b[1;33m\u001b[0m\u001b[0m\n",
      "\u001b[1;32mC:\\anaconda\\lib\\site-packages\\pandas\\core\\frame.py\u001b[0m in \u001b[0;36m_getitem_column\u001b[1;34m(self, key)\u001b[0m\n\u001b[0;32m   1997\u001b[0m         \u001b[1;31m# get column\u001b[0m\u001b[1;33m\u001b[0m\u001b[1;33m\u001b[0m\u001b[0m\n\u001b[0;32m   1998\u001b[0m         \u001b[1;32mif\u001b[0m \u001b[0mself\u001b[0m\u001b[1;33m.\u001b[0m\u001b[0mcolumns\u001b[0m\u001b[1;33m.\u001b[0m\u001b[0mis_unique\u001b[0m\u001b[1;33m:\u001b[0m\u001b[1;33m\u001b[0m\u001b[0m\n\u001b[1;32m-> 1999\u001b[1;33m             \u001b[1;32mreturn\u001b[0m \u001b[0mself\u001b[0m\u001b[1;33m.\u001b[0m\u001b[0m_get_item_cache\u001b[0m\u001b[1;33m(\u001b[0m\u001b[0mkey\u001b[0m\u001b[1;33m)\u001b[0m\u001b[1;33m\u001b[0m\u001b[0m\n\u001b[0m\u001b[0;32m   2000\u001b[0m \u001b[1;33m\u001b[0m\u001b[0m\n\u001b[0;32m   2001\u001b[0m         \u001b[1;31m# duplicate columns & possible reduce dimensionality\u001b[0m\u001b[1;33m\u001b[0m\u001b[1;33m\u001b[0m\u001b[0m\n",
      "\u001b[1;32mC:\\anaconda\\lib\\site-packages\\pandas\\core\\generic.py\u001b[0m in \u001b[0;36m_get_item_cache\u001b[1;34m(self, item)\u001b[0m\n\u001b[0;32m   1343\u001b[0m         \u001b[0mres\u001b[0m \u001b[1;33m=\u001b[0m \u001b[0mcache\u001b[0m\u001b[1;33m.\u001b[0m\u001b[0mget\u001b[0m\u001b[1;33m(\u001b[0m\u001b[0mitem\u001b[0m\u001b[1;33m)\u001b[0m\u001b[1;33m\u001b[0m\u001b[0m\n\u001b[0;32m   1344\u001b[0m         \u001b[1;32mif\u001b[0m \u001b[0mres\u001b[0m \u001b[1;32mis\u001b[0m \u001b[1;32mNone\u001b[0m\u001b[1;33m:\u001b[0m\u001b[1;33m\u001b[0m\u001b[0m\n\u001b[1;32m-> 1345\u001b[1;33m             \u001b[0mvalues\u001b[0m \u001b[1;33m=\u001b[0m \u001b[0mself\u001b[0m\u001b[1;33m.\u001b[0m\u001b[0m_data\u001b[0m\u001b[1;33m.\u001b[0m\u001b[0mget\u001b[0m\u001b[1;33m(\u001b[0m\u001b[0mitem\u001b[0m\u001b[1;33m)\u001b[0m\u001b[1;33m\u001b[0m\u001b[0m\n\u001b[0m\u001b[0;32m   1346\u001b[0m             \u001b[0mres\u001b[0m \u001b[1;33m=\u001b[0m \u001b[0mself\u001b[0m\u001b[1;33m.\u001b[0m\u001b[0m_box_item_values\u001b[0m\u001b[1;33m(\u001b[0m\u001b[0mitem\u001b[0m\u001b[1;33m,\u001b[0m \u001b[0mvalues\u001b[0m\u001b[1;33m)\u001b[0m\u001b[1;33m\u001b[0m\u001b[0m\n\u001b[0;32m   1347\u001b[0m             \u001b[0mcache\u001b[0m\u001b[1;33m[\u001b[0m\u001b[0mitem\u001b[0m\u001b[1;33m]\u001b[0m \u001b[1;33m=\u001b[0m \u001b[0mres\u001b[0m\u001b[1;33m\u001b[0m\u001b[0m\n",
      "\u001b[1;32mC:\\anaconda\\lib\\site-packages\\pandas\\core\\internals.py\u001b[0m in \u001b[0;36mget\u001b[1;34m(self, item, fastpath)\u001b[0m\n\u001b[0;32m   3223\u001b[0m \u001b[1;33m\u001b[0m\u001b[0m\n\u001b[0;32m   3224\u001b[0m             \u001b[1;32mif\u001b[0m \u001b[1;32mnot\u001b[0m \u001b[0misnull\u001b[0m\u001b[1;33m(\u001b[0m\u001b[0mitem\u001b[0m\u001b[1;33m)\u001b[0m\u001b[1;33m:\u001b[0m\u001b[1;33m\u001b[0m\u001b[0m\n\u001b[1;32m-> 3225\u001b[1;33m                 \u001b[0mloc\u001b[0m \u001b[1;33m=\u001b[0m \u001b[0mself\u001b[0m\u001b[1;33m.\u001b[0m\u001b[0mitems\u001b[0m\u001b[1;33m.\u001b[0m\u001b[0mget_loc\u001b[0m\u001b[1;33m(\u001b[0m\u001b[0mitem\u001b[0m\u001b[1;33m)\u001b[0m\u001b[1;33m\u001b[0m\u001b[0m\n\u001b[0m\u001b[0;32m   3226\u001b[0m             \u001b[1;32melse\u001b[0m\u001b[1;33m:\u001b[0m\u001b[1;33m\u001b[0m\u001b[0m\n\u001b[0;32m   3227\u001b[0m                 \u001b[0mindexer\u001b[0m \u001b[1;33m=\u001b[0m \u001b[0mnp\u001b[0m\u001b[1;33m.\u001b[0m\u001b[0marange\u001b[0m\u001b[1;33m(\u001b[0m\u001b[0mlen\u001b[0m\u001b[1;33m(\u001b[0m\u001b[0mself\u001b[0m\u001b[1;33m.\u001b[0m\u001b[0mitems\u001b[0m\u001b[1;33m)\u001b[0m\u001b[1;33m)\u001b[0m\u001b[1;33m[\u001b[0m\u001b[0misnull\u001b[0m\u001b[1;33m(\u001b[0m\u001b[0mself\u001b[0m\u001b[1;33m.\u001b[0m\u001b[0mitems\u001b[0m\u001b[1;33m)\u001b[0m\u001b[1;33m]\u001b[0m\u001b[1;33m\u001b[0m\u001b[0m\n",
      "\u001b[1;32mC:\\anaconda\\lib\\site-packages\\pandas\\indexes\\base.py\u001b[0m in \u001b[0;36mget_loc\u001b[1;34m(self, key, method, tolerance)\u001b[0m\n\u001b[0;32m   1876\u001b[0m                 \u001b[1;32mreturn\u001b[0m \u001b[0mself\u001b[0m\u001b[1;33m.\u001b[0m\u001b[0m_engine\u001b[0m\u001b[1;33m.\u001b[0m\u001b[0mget_loc\u001b[0m\u001b[1;33m(\u001b[0m\u001b[0mkey\u001b[0m\u001b[1;33m)\u001b[0m\u001b[1;33m\u001b[0m\u001b[0m\n\u001b[0;32m   1877\u001b[0m             \u001b[1;32mexcept\u001b[0m \u001b[0mKeyError\u001b[0m\u001b[1;33m:\u001b[0m\u001b[1;33m\u001b[0m\u001b[0m\n\u001b[1;32m-> 1878\u001b[1;33m                 \u001b[1;32mreturn\u001b[0m \u001b[0mself\u001b[0m\u001b[1;33m.\u001b[0m\u001b[0m_engine\u001b[0m\u001b[1;33m.\u001b[0m\u001b[0mget_loc\u001b[0m\u001b[1;33m(\u001b[0m\u001b[0mself\u001b[0m\u001b[1;33m.\u001b[0m\u001b[0m_maybe_cast_indexer\u001b[0m\u001b[1;33m(\u001b[0m\u001b[0mkey\u001b[0m\u001b[1;33m)\u001b[0m\u001b[1;33m)\u001b[0m\u001b[1;33m\u001b[0m\u001b[0m\n\u001b[0m\u001b[0;32m   1879\u001b[0m \u001b[1;33m\u001b[0m\u001b[0m\n\u001b[0;32m   1880\u001b[0m         \u001b[0mindexer\u001b[0m \u001b[1;33m=\u001b[0m \u001b[0mself\u001b[0m\u001b[1;33m.\u001b[0m\u001b[0mget_indexer\u001b[0m\u001b[1;33m(\u001b[0m\u001b[1;33m[\u001b[0m\u001b[0mkey\u001b[0m\u001b[1;33m]\u001b[0m\u001b[1;33m,\u001b[0m \u001b[0mmethod\u001b[0m\u001b[1;33m=\u001b[0m\u001b[0mmethod\u001b[0m\u001b[1;33m,\u001b[0m \u001b[0mtolerance\u001b[0m\u001b[1;33m=\u001b[0m\u001b[0mtolerance\u001b[0m\u001b[1;33m)\u001b[0m\u001b[1;33m\u001b[0m\u001b[0m\n",
      "\u001b[1;32mpandas\\index.pyx\u001b[0m in \u001b[0;36mpandas.index.IndexEngine.get_loc (pandas\\index.c:4027)\u001b[1;34m()\u001b[0m\n",
      "\u001b[1;32mpandas\\index.pyx\u001b[0m in \u001b[0;36mpandas.index.IndexEngine.get_loc (pandas\\index.c:3891)\u001b[1;34m()\u001b[0m\n",
      "\u001b[1;32mpandas\\hashtable.pyx\u001b[0m in \u001b[0;36mpandas.hashtable.PyObjectHashTable.get_item (pandas\\hashtable.c:12408)\u001b[1;34m()\u001b[0m\n",
      "\u001b[1;32mpandas\\hashtable.pyx\u001b[0m in \u001b[0;36mpandas.hashtable.PyObjectHashTable.get_item (pandas\\hashtable.c:12359)\u001b[1;34m()\u001b[0m\n",
      "\u001b[1;31mKeyError\u001b[0m: '불량유형'"
     ]
    }
   ],
   "source": [
    "data['불량유형']"
   ]
  },
  {
   "cell_type": "markdown",
   "metadata": {
    "nbpresent": {
     "id": "833efcb3-bfcf-4412-9167-afc555a14c3d"
    }
   },
   "source": [
    "#### 2) seaborn"
   ]
  },
  {
   "cell_type": "code",
   "execution_count": 75,
   "metadata": {
    "collapsed": false,
    "nbpresent": {
     "id": "bf93aea0-316e-4f74-9f25-747635b26614"
    }
   },
   "outputs": [
    {
     "data": {
      "image/png": "[encoded data removed]",
      "text/plain": [
       "<matplotlib.figure.Figure at 0x17f85a5dcf8>"
      ]
     },
     "metadata": {},
     "output_type": "display_data"
    }
   ],
   "source": [
    "import seaborn as sns\n",
    "fig, ax = plt.subplots(figsize = (12, 8))  # 그래프 만듭니다. \n",
    "sns.set_context('notebook')  #seaborn 설정입니다. matplotlib에서도 연동되서 맘에 드시면 사용하세요. 그래프에 적용될 거에요\n",
    "sns.set_style('whitegrid')   #위와 마찬가지입니다. \n",
    "\n",
    "data_2305['cut_value'] = pd.cut(data_2305['Value'], bins = [0,50,100,150,200], labels = ['0-50','50-100','100-150','150-200'])\n",
    "data_2305['cut_size'] = pd.cut(data_2305['Size'], bins = [0, 0.1, 0.2, 0.3, 0.4, 0.5], \n",
    "                               labels = ['0-0.1','0.1-0.2','0.2-0.3','0.3-0.4','0.4-0.5'])\n",
    "\n",
    "data_heat = data_2305.groupby(['cut_value','cut_size'])['불량유형'].count().unstack()\n",
    "\n",
    "#heatmap 그리기\n",
    "sns.heatmap(data = data_heat, ax = ax, cmap = 'Blues', cbar = True, annot = True, fmt = '.0f')\n",
    "# data : data, ax : ax, cmap : Blues, cbar : 오른쪽에 colorbar on, annot : 숫자 출력(True), fmt : 숫자 형식(소수점 0째까지)\n",
    "\n",
    "plt.show()"
   ]
  }
 ],
 "metadata": {
  "anaconda-cloud": {},
  "kernelspec": {
   "display_name": "Python 3",
   "language": "python",
   "name": "python3"
  },
  "language_info": {
   "codemirror_mode": {
    "name": "ipython",
    "version": 3
   },
   "file_extension": ".py",
   "mimetype": "text/x-python",
   "name": "python",
   "nbconvert_exporter": "python",
   "pygments_lexer": "ipython3",
   "version": "3.5.2"
  },
  "nbpresent": {
   "slides": {
    "0130d4bf-21bd-4a26-883d-355993657290": {
     "id": "0130d4bf-21bd-4a26-883d-355993657290",
     "prev": "83dc6ef8-c401-4e7e-854d-34805aff692f",
     "regions": {
      "379dc312-e438-42d7-8488-dcc779cc7ff8": {
       "attrs": {
        "height": 0.8,
        "width": 0.8,
        "x": 0.1,
        "y": 0.1
       },
       "content": {
        "cell": "0dfaf3e9-9d67-45e0-a6ca-2165caba3725",
        "part": "whole"
       },
       "id": "379dc312-e438-42d7-8488-dcc779cc7ff8"
      }
     }
    },
    "25aec3fc-701e-426f-af2e-4e4028df2ec0": {
     "id": "25aec3fc-701e-426f-af2e-4e4028df2ec0",
     "prev": "0130d4bf-21bd-4a26-883d-355993657290",
     "regions": {
      "0057e98a-23df-437b-976f-cdadbfc56979": {
       "attrs": {
        "height": 0.8,
        "width": 0.8,
        "x": 0.1,
        "y": 0.1
       },
       "content": {
        "cell": "833efcb3-bfcf-4412-9167-afc555a14c3d",
        "part": "whole"
       },
       "id": "0057e98a-23df-437b-976f-cdadbfc56979"
      }
     }
    },
    "34329b02-bee0-4288-8dd6-387bd23af6a8": {
     "id": "34329b02-bee0-4288-8dd6-387bd23af6a8",
     "prev": "4a86f424-84e5-4d95-b1b5-046682b24b31",
     "regions": {
      "4834f412-be57-4d42-81af-3c1120006425": {
       "attrs": {
        "height": 0.8,
        "width": 0.8,
        "x": 0.1,
        "y": 0.1
       },
       "content": {
        "cell": "841fbc35-8da4-420a-b5b3-b80d48c1d4f4",
        "part": "whole"
       },
       "id": "4834f412-be57-4d42-81af-3c1120006425"
      }
     }
    },
    "4322d5c8-07a8-480f-a17c-84db325e87e8": {
     "id": "4322d5c8-07a8-480f-a17c-84db325e87e8",
     "prev": "5dc5275c-dcc8-4a0f-af64-8974120af87c",
     "regions": {
      "4103b164-a735-492d-b453-04fcf0204cef": {
       "attrs": {
        "height": 0.8,
        "width": 0.8,
        "x": 0.1,
        "y": 0.1
       },
       "content": {
        "cell": "4e1a43e2-4f55-4d5b-8971-404b3495841e",
        "part": "whole"
       },
       "id": "4103b164-a735-492d-b453-04fcf0204cef"
      }
     }
    },
    "4a86f424-84e5-4d95-b1b5-046682b24b31": {
     "id": "4a86f424-84e5-4d95-b1b5-046682b24b31",
     "prev": "cae7e78b-192b-4f7f-b938-c91c701ebf4b",
     "regions": {
      "030a4d6d-9df1-4f00-9959-6a0c7aba5f03": {
       "attrs": {
        "height": 0.8,
        "width": 0.8,
        "x": 0.1,
        "y": 0.1
       },
       "content": {
        "cell": "25697210-04c8-4063-a6ec-379277ad05fc",
        "part": "whole"
       },
       "id": "030a4d6d-9df1-4f00-9959-6a0c7aba5f03"
      }
     }
    },
    "5dc5275c-dcc8-4a0f-af64-8974120af87c": {
     "id": "5dc5275c-dcc8-4a0f-af64-8974120af87c",
     "prev": null,
     "regions": {
      "3eb94392-552d-45c6-bee0-2b41100b505b": {
       "attrs": {
        "height": 0.8,
        "width": 0.8,
        "x": 0.1,
        "y": 0.1
       },
       "content": {
        "cell": "1a969a16-5fe8-451b-be09-f28598a0b4b9",
        "part": "whole"
       },
       "id": "3eb94392-552d-45c6-bee0-2b41100b505b"
      }
     }
    },
    "83dc6ef8-c401-4e7e-854d-34805aff692f": {
     "id": "83dc6ef8-c401-4e7e-854d-34805aff692f",
     "prev": "a8c6da80-2789-44ca-8155-bb9e0101f238",
     "regions": {
      "010b79a2-ffaa-40b1-800f-bbc31fe8d783": {
       "attrs": {
        "height": 0.8,
        "width": 0.8,
        "x": 0.1,
        "y": 0.1
       },
       "content": {
        "cell": "58590a0b-bfa4-44d9-ba23-e4e6422717c7",
        "part": "whole"
       },
       "id": "010b79a2-ffaa-40b1-800f-bbc31fe8d783"
      }
     }
    },
    "a8c6da80-2789-44ca-8155-bb9e0101f238": {
     "id": "a8c6da80-2789-44ca-8155-bb9e0101f238",
     "prev": "34329b02-bee0-4288-8dd6-387bd23af6a8",
     "regions": {
      "034f47b5-31b8-4420-a6dc-36fea79d00b0": {
       "attrs": {
        "height": 0.8,
        "width": 0.8,
        "x": 0.1,
        "y": 0.1
       },
       "content": {
        "cell": "80abd633-b819-4b44-875c-2fc00b99109d",
        "part": "whole"
       },
       "id": "034f47b5-31b8-4420-a6dc-36fea79d00b0"
      }
     }
    },
    "cae7e78b-192b-4f7f-b938-c91c701ebf4b": {
     "id": "cae7e78b-192b-4f7f-b938-c91c701ebf4b",
     "prev": "4322d5c8-07a8-480f-a17c-84db325e87e8",
     "regions": {
      "04da409b-e6fb-41a6-a1e6-9f064915c917": {
       "attrs": {
        "height": 0.8,
        "width": 0.8,
        "x": 0.1,
        "y": 0.1
       },
       "content": {
        "cell": "f488d88a-894c-4fc4-9e05-892227e98f44",
        "part": "whole"
       },
       "id": "04da409b-e6fb-41a6-a1e6-9f064915c917"
      }
     }
    },
    "dbfcf440-3ab1-496d-84f3-96fa906c99c5": {
     "id": "dbfcf440-3ab1-496d-84f3-96fa906c99c5",
     "prev": "25aec3fc-701e-426f-af2e-4e4028df2ec0",
     "regions": {
      "b5eb7c01-6d2e-4a4d-81ef-11b5aefc9987": {
       "attrs": {
        "height": 0.8,
        "width": 0.8,
        "x": 0.1,
        "y": 0.1
       },
       "content": {
        "cell": "bf93aea0-316e-4f74-9f25-747635b26614",
        "part": "whole"
       },
       "id": "b5eb7c01-6d2e-4a4d-81ef-11b5aefc9987"
      }
     }
    }
   },
   "themes": {}
  }
 },
 "nbformat": 4,
 "nbformat_minor": 0
}
