{
 "cells": [
  {
   "cell_type": "markdown",
   "metadata": {},
   "source": [
    "# Day 8\n",
    "\n",
    "***\n",
    "###  학습 목표 \n",
    "\n",
    "#### 1) Matplotlib package 학습\n",
    "  - plot 내보내기\n",
    "      1. Jupyter\n",
    "      2. Spyder\n",
    "  \n",
    "  \n",
    "  - plot 종류\n",
    "      1. plot\n",
    "      2. \n",
    "      3. scatter\n",
    "      4. heatmap\n",
    "      \n",
    "  - plot 크기 설정\n",
    "      1. subplots\n",
    "      2. \n",
    "      \n",
    "  - 기타 설정 \n",
    "      1. title\n",
    "      2. xlabel/ylabel\n",
    "      3. xticks/yticks\n",
    "      4. xlim/ylim\n",
    "      5. legend\n",
    "      6. annotate"
   ]
  },
  {
   "cell_type": "code",
   "execution_count": 31,
   "metadata": {
    "collapsed": true
   },
   "outputs": [],
   "source": [
    "import matplotlib.pyplot as plt\n",
    "%matplotlib inline\n"
   ]
  },
  {
   "cell_type": "code",
   "execution_count": 53,
   "metadata": {
    "collapsed": false
   },
   "outputs": [
    {
     "data": {
      "text/plain": [
       "[<matplotlib.lines.Line2D at 0xb2949f0>]"
      ]
     },
     "execution_count": 53,
     "metadata": {},
     "output_type": "execute_result"
    },
    {
     "data": {
      "image/png": "[encoded data removed]",
      "text/plain": [
       "<matplotlib.figure.Figure at 0x9a8dfd0>"
      ]
     },
     "metadata": {},
     "output_type": "display_data"
    }
   ],
   "source": [
    "fig, axes = plt.subplots(3,3, figsize = (5,6))\n",
    "axes[0][1].plot([1,2], [2,3])"
   ]
  }
 ],
 "metadata": {
  "kernelspec": {
   "display_name": "Python 3",
   "language": "python",
   "name": "python3"
  },
  "language_info": {
   "codemirror_mode": {
    "name": "ipython",
    "version": 3
   },
   "file_extension": ".py",
   "mimetype": "text/x-python",
   "name": "python",
   "nbconvert_exporter": "python",
   "pygments_lexer": "ipython3",
   "version": "3.5.2"
  }
 },
 "nbformat": 4,
 "nbformat_minor": 0
}
