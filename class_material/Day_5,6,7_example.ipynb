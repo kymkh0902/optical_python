{
 "cells": [
  {
   "cell_type": "markdown",
   "metadata": {},
   "source": [
    "# Day 5 - 7 예제"
   ]
  },
  {
   "cell_type": "code",
   "execution_count": 1,
   "metadata": {
    "collapsed": false
   },
   "outputs": [],
   "source": [
    "# 예제1) Dataframe를 생성해봅시다.\n",
    "\n",
    "#1. pandas를 import합니다.\n",
    "import pandas as pd\n",
    "#2. 3*2(row*column) 형태의 dataframe 을 만들겠습니다.\n",
    "\n",
    "#3. column명은 grade, qty로 명명해주고 index는 따로 추가하지 않습니다. 내용은 각자 채워주세요'\n",
    "data_frame = pd.DataFrame(data = [['rc40', 1],['xt80',2]], columns = ['grade','qty'])"
   ]
  },
  {
   "cell_type": "code",
   "execution_count": 2,
   "metadata": {
    "collapsed": false
   },
   "outputs": [],
   "source": [
    "# 예제2) 자동검사기 파일을 불러옵니다.\n",
    "\n",
    "names = ['날짜','Lot','Frame수', '카메라 번호', '사용안함', 'INDEX', '불량유형','X','y', \n",
    "         'X-Size','Y-Size', '불량이미지','사용안함','사용안함','Value','흑점','조명밝기']\n",
    "\n",
    "#0. 현재 작업 폴더를 확인하고 optical_python 내 dataset이라는 폴더를 작업 폴더로 만들어주세요. \n",
    "import os\n",
    "os.chdir('../dataset')\n",
    "#1. dataset라는 폴더 내에 20160715DC02017.txt 파일을 read_csv 함수를 이용해서 불러와보세요. (변수 : data_1)\n",
    "\n",
    "#2. dataset라는 폴더 내에 20160715DC02017.xlsx 파일을 read_excel 함수를 이용해서 불러와보세요. (변수 : data)\n"
   ]
  },
  {
   "cell_type": "code",
   "execution_count": 3,
   "metadata": {
    "collapsed": true
   },
   "outputs": [],
   "source": [
    "# 예제3) 위에서 불러온 data라는 변수의 기본적인 내용 확인 과정입니다.\n",
    "\n",
    "#1. data의 상단 10줄을 head라는 함수를 사용해서 출력해보세요 \n",
    "\n",
    "#2. data의 기본 통계 수치를 describe 함수를 사용해서 출력해보세요 \n",
    "\n",
    "#3. data의 전체 row, 3번째 이후~ column을 iloc을 사용해서 출력해보세요. \n",
    "\n",
    "#4. data의 1번째 row 2번째 column의 값에 숫자 3을 대입해보세요. 값이 바뀌나요? "
   ]
  },
  {
   "cell_type": "code",
   "execution_count": 4,
   "metadata": {
    "collapsed": true
   },
   "outputs": [],
   "source": [
    "# 예제4) 행, 열 선택을 통한 원하는 데이터만 가져오기\n",
    "\n",
    "#1. 위에서 불러온 data 변수에서 '불량유형' 열만 선택해서 나타내봅니다.\n",
    "\n",
    "#2. '불량유형' 행의 값이 2305인 조건을 걸어보고, data 내 해당 조건을 만족하는 값들만 나타내보고 변수 data_2305에 저장합니다. \n",
    "data_2305['불량유형'].drop_duplicates()"
   ]
  },
  {
   "cell_type": "code",
   "execution_count": 5,
   "metadata": {
    "collapsed": false
   },
   "outputs": [
    {
     "data": {
      "text/plain": [
       "53.48668280871671"
      ]
     },
     "execution_count": 5,
     "metadata": {},
     "output_type": "execute_result"
    }
   ],
   "source": [
    "# 예제5) 데이터 가공 (drop, dropna, fillna, mean/std/min/max/corr, cut)\n",
    "\n",
    "#1. 위에서 불러온 검사기 data_2305에서 필요한 열만 남기고 지울 예정입니다. \n",
    "  # 열 이름(names)을 참고하셔서 '불량유형','X','y','X-Size','Y-Size','Value'를 제외한 열을 다 삭제하고 저장해주세요\n",
    "\n",
    "#2. data_2305에 na값들을 넣어놨습니다. 아래 코드를 실행해서 값을 확인하고 다 지워보고(dropna) 원하시는 값으로 채워보세요 (fillna)\n",
    "\n",
    "data_2305[data_2305.isnull().any(axis=1)] # null 값이 있는 행을 나타내줍니다. \n",
    "\n",
    "#3. data_2305의 mean/std/min/max/corr을 확인해보세요 \n",
    "\n",
    "#4. data_2305의 'Value' 열을 값의 범위 별로 나눈 후에 새로운 'cut'이라는 열에 저장하겠습니다. \n",
    "  # max로 최대값을 확인하신 후에 0부터 최대값까지 원하시는 만큼 쪼개보세요. 매칭할 label은 '0~30', '30~60'와 같은 범위로 나타내주세요.\n",
    "    \n"
   ]
  },
  {
   "cell_type": "code",
   "execution_count": 7,
   "metadata": {
    "collapsed": true
   },
   "outputs": [],
   "source": [
    "# 예제6) 데이터 가공(apply, groupby)\n",
    "\n",
    "#1. data_2305의 '불량유형' 열에 apply를 사용해서 숫자 60000보다 큰 값은 '약' 으로, 작은 값은 '강' 값을 반환하여 '강/약' 열에 저장합니다. \n",
    "\n",
    "#2. data_2305에 groupby 함수를 사용합니다. group을 묶을 행은 ['강/약, 'cut']이고, 적용 대상 열은 아무거나 고른 후에 count 함수를 써보세요.."
   ]
  },
  {
   "cell_type": "code",
   "execution_count": 8,
   "metadata": {
    "collapsed": true
   },
   "outputs": [],
   "source": [
    "# 에제7) 데이터 합치기(merge)\n",
    "\n",
    "#1. day_5_예제.xlsx 파일의 Sheet2 에서 A,B열(row)을 불러옵니다.(변수 : prod_1)\n",
    "\n",
    "#2. day_5_예제.xlsx 파일의 Sheet2 에서 D,E열(column)을 불러오고 6,7번 행(row)을 불러오지 않습니다. (변수 : prod_2)\n",
    "\n",
    "#3. prod_1, prod_2를 '연신' 열(column)에 대해서 merge합니다. (inner, outer, left, right) \n",
    "\n",
    "#4. 3의 결과를 보고 어떤 식으로 작동하는 지 확인합니다. "
   ]
  },
  {
   "cell_type": "code",
   "execution_count": 14,
   "metadata": {
    "collapsed": false,
    "scrolled": true
   },
   "outputs": [],
   "source": [
    "# 예제8) 데이터 합치기(concat)\n",
    "\n",
    "#1. day_5_예제.xlsx 파일의 Sheet3에서 A,B / D, E/ G, H/ J, K 열(column)을 각각 불러옵니다. \n",
    "   # 변수 : coat_1, coat_2, coat_3, coat_4\n",
    "\n",
    "    \n",
    "#2. coat_1 과 coat_2를 concat을 사용해서 합쳐보세요. 어떤 방향으로 합치는게 보기 좋나요? \n",
    "\n",
    "\n",
    "#3. for 문을 이용해서 coat_1부터 4까지 합쳐줍니다. \n",
    "   # 데이터를 다른 변수(바구니)에 담아야 loop를 돌릴 수 있습니다. \n",
    "   # 그리고 concat을 해서 어디에 저장해야 될 지 생각해보세요\n"
   ]
  },
  {
   "cell_type": "code",
   "execution_count": null,
   "metadata": {
    "collapsed": true
   },
   "outputs": [],
   "source": [
    "# 예제9) 유용한 데이터 가공(melt) \n",
    "\n",
    "#1. day_5_예제.xlsx 파일의 Sheet4 데이터를 가져옵니다. (변수 : curl)\n",
    "\n",
    "#2. melt를 사용해서 외부컬, 내부컬 행을 하나의 열(column)으로 합쳐줍니다. 합쳤을 때 변수, 값의 열 이름은 각자 지정해주세요"
   ]
  }
 ],
 "metadata": {
  "kernelspec": {
   "display_name": "Python 3",
   "language": "python",
   "name": "python3"
  },
  "language_info": {
   "codemirror_mode": {
    "name": "ipython",
    "version": 3
   },
   "file_extension": ".py",
   "mimetype": "text/x-python",
   "name": "python",
   "nbconvert_exporter": "python",
   "pygments_lexer": "ipython3",
   "version": "3.5.2"
  }
 },
 "nbformat": 4,
 "nbformat_minor": 0
}
