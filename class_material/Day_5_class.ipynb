{
 "cells": [
  {
   "cell_type": "markdown",
   "metadata": {},
   "source": [
    "# Day 5\n",
    "***\n",
    "###  학습 목표 \n",
    "\n",
    "#### 1) Pandas package 학습 \n",
    "  - Pandas 데이터 구조      \n",
    "    1. DataFrame\n",
    "    2. Series\n",
    "  \n",
    "  \n",
    "  - Pandas 데이터 불러오기\n",
    "    1. read_csv\n",
    "    2. read_excel\n",
    "    3. read_sql_query\n",
    "  \n",
    "  \n",
    "  - Pandas 데이터 내용 확인\n",
    "    1. head\n",
    "    2. describe\n",
    "    3. iloc \n",
    "    \n",
    "    \n",
    "  - Pandas 데이터 가공\n",
    "    1. Groupby\n",
    "    2. apply\n",
    "    3. merge\n",
    "    4. concat  \n",
    "    5. cut\n",
    "    6. drop\n",
    "    7. dropna \n",
    "    8. fillna \n",
    "    9. mean/std/min/max/corr \n",
    "    \n",
    "    \n",
    "  - Pandas 데이터 내보내기\n",
    "    1. to_excel\n",
    "      \n",
    "      \n",
    "(Pandas API documentation : http://pandas.pydata.org/pandas-docs/stable/index.html)\n",
    "     \n",
    "\n"
   ]
  },
  {
   "cell_type": "markdown",
   "metadata": {},
   "source": [
    "***\n",
    "### Pandas 학습\n",
    "\n",
    "- Pandas 데이터 구조 \n",
    "\n",
    "    1. DataFrame : 행, 열으로 이루어진 excel 데이터 형식이라고 생각하시면 됩니다.\n",
    "    ```python\n",
    "    import pandas as pd\n",
    "    data_frame = pd.DataFrame(data = [[1,2], [2,3]], columns = ['A','B'], index = ['a','b'])\n",
    "    ```\n",
    "    2. Series : 행 또는 열로 이루어진 데이터 형식으로 series가 모여서 dataframe이 됩니다.\n",
    "    ```python\n",
    "    import pandas as pd\n",
    "    data_series = pd.Series(data = [1,2], name = 'a')\n",
    "    ```"
   ]
  },
  {
   "cell_type": "code",
   "execution_count": 12,
   "metadata": {
    "collapsed": true
   },
   "outputs": [],
   "source": [
    "# 예제1) Dataframe를 생성해봅시다.\n",
    "\n",
    "#1. pandas를 import합니다.\n",
    "\n",
    "#2. 3*2(row*column) 형태의 dataframe 을 만들겠습니다.\n",
    "\n",
    "#3. column명은 grade, qty로 명명해주고 index는 따로 추가하지 않습니다. 내용은 각자 채워주세요"
   ]
  },
  {
   "cell_type": "markdown",
   "metadata": {},
   "source": [
    "- Pandas 데이터 불러오기\n",
    "    \n",
    "    1. read_csv : csv, xls 형식의 파일을 불러올 때 사용하는 함수입니다. \n",
    "    ```python \n",
    "    ```\n",
    "    2. read_excel : \n",
    "    ```python\n",
    "    ```\n",
    "    \n",
    "    3. read_sql_query : \n",
    "    ```python\n",
    "    ```"
   ]
  },
  {
   "cell_type": "code",
   "execution_count": 1,
   "metadata": {
    "collapsed": false
   },
   "outputs": [
    {
     "ename": "ImportError",
     "evalue": "No module named 'pyodbc'",
     "output_type": "error",
     "traceback": [
      "\u001b[0;31m---------------------------------------------------------------------------\u001b[0m",
      "\u001b[0;31mImportError\u001b[0m                               Traceback (most recent call last)",
      "\u001b[0;32m<ipython-input-1-dbc27c5f2947>\u001b[0m in \u001b[0;36m<module>\u001b[0;34m()\u001b[0m\n\u001b[0;32m----> 1\u001b[0;31m \u001b[1;32mimport\u001b[0m \u001b[0mpyodbc\u001b[0m\u001b[1;33m\u001b[0m\u001b[0m\n\u001b[0m",
      "\u001b[0;31mImportError\u001b[0m: No module named 'pyodbc'"
     ]
    }
   ],
   "source": [
    "import pyodbc"
   ]
  },
  {
   "cell_type": "code",
   "execution_count": null,
   "metadata": {
    "collapsed": true
   },
   "outputs": [],
   "source": []
  }
 ],
 "metadata": {
  "anaconda-cloud": {},
  "kernelspec": {
   "display_name": "Python [default]",
   "language": "python",
   "name": "python3"
  }
 },
 "nbformat": 4,
 "nbformat_minor": 1
}
