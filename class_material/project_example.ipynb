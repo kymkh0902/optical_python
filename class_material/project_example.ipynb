{
 "cells": [
  {
   "cell_type": "markdown",
   "metadata": {},
   "source": [
    "# 참고. 개인 project 구상 방법\n",
    "***\n",
    "- **project 구상안** \n",
    "    1. 목표 설정 : 각자 현업에서 반복적으로 하시는 업무나 외에 기타 하시고 싶은 업무로 설정하시면 됩니다.  \n",
    "    \n",
    "    2. 단계 구상 : 해당 업무의 처리 과정을 최대한 상세하게 unit 단위로 쪼개서 나열해줍니다. (A~Z) \n",
    "    \n",
    "    3. 코드 구상 : 2단계에서 나열한 **unit 과정**에서 사용되는 package, 변수, 함수, 제어문 등을 나열해봅니다.\n",
    "    \n",
    "    4. 코드 작성 : 2,3단계를 활용하여 **unit 과정** 별 코드를 작성하고 각각 실행시켜 정상적으로 작동하는지 확인합니다.\n",
    "    \n",
    "    5. 코드 합치기 : **unit 과정** 별로 만든 코드를 전부 합쳐서 실행시킨 후 정상적으로 작동하는지 확인합니다.\n",
    "\n",
    "\n",
    "- **project 예제**\n",
    "\n",
    "    1. 투입실적 정리 \n",
    "        - 목표 : LGD 구미/파주로부터 매일 공유되는 투입실적의 검사Lot에 코팅, 연신Lot을 자동으로 매칭해서 정리한다.\n",
    "        - 단계 별 구상        \n",
    "            1. 엑셀 데이터를 python으로 불러온다.\n",
    "                - package : pandas \n",
    "                - 변수 : input_data  \n",
    "                - 함수 : pandas(read_csv, read_excel) \n",
    "            2. (10자리 Lot일 경우) 15자리로 변환해준다.\n",
    "                - 변수 : input_data['Lot No.']\n",
    "                - 함수 : int, apply lambda \n",
    "            3. python에서 sql 서버에 접속한다.\n",
    "                - package : pyodbc\n",
    "                - 변수 : db1 \n",
    "                - 함수 : pyodbc(connect)\n",
    "            4. 검사Lot에 매칭되는 연신, 코팅Lot을 불러와 매칭시킨다. \n",
    "                - 변수 : input_data['Lot No.']\n",
    "                - 함수 : Lot추적(추후 공유)\n",
    "                - 제어문 : for문\n",
    "            5. 연신, 코팅Lot이 추가된 데이터를 엑셀로 내보낸다.             \n",
    "                - 변수 : input_data\n",
    "                - 함수 : pandas(pd.to_excel)\n",
    "                               "
   ]
  },
  {
   "cell_type": "code",
   "execution_count": null,
   "metadata": {
    "collapsed": true
   },
   "outputs": [],
   "source": []
  }
 ],
 "metadata": {
  "kernelspec": {
   "display_name": "Python [default]",
   "language": "python",
   "name": "python3"
  },
  "language_info": {
   "codemirror_mode": {
    "name": "ipython",
    "version": 3
   },
   "file_extension": ".py",
   "mimetype": "text/x-python",
   "name": "python",
   "nbconvert_exporter": "python",
   "pygments_lexer": "ipython3",
   "version": "3.5.2"
  }
 },
 "nbformat": 4,
 "nbformat_minor": 1
}
