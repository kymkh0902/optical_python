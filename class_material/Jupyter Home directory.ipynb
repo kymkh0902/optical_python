{
 "cells": [
  {
   "cell_type": "markdown",
   "metadata": {},
   "source": [
    "# 참고. Jupyter Home 설정하기\n",
    "***\n",
    "\n",
    "- **Jupyter Home 설정** \n",
    "    1. jupyter_notebook_config.py 이름의 파일을 찾아서 메모장으로 엽니다.  \n",
    "    2. directory를 검색하면 아래와 같이 ***#c.NotebookApp.notebook_dir = ''*** 라는 문구를 찾으실 수 있을겁니다.\n",
    "    <img src=\"../pictures/home_directory/home-(1).PNG\"> <br></br>\n",
    "    3. 해당 문구를 고쳐줍니다. #을 제거하고, ''에 Github 폴더가 있는 경로를 입력해주세요 (아마도 ..Client//#.Secure Folder/Github/) \n",
    "\n",
    "    <img src=\"../pictures/home_directory/home-(2).PNG\"> <br></br>\n",
    "\n",
    "    4. 완료되었습니다. Jupyter를 다시 껐다 키시면 Home 경로가 Github 폴더로 설정되어 있는 것을 확인하실 수 있습니다. "
   ]
  },
  {
   "cell_type": "code",
   "execution_count": null,
   "metadata": {
    "collapsed": true
   },
   "outputs": [],
   "source": []
  }
 ],
 "metadata": {
  "anaconda-cloud": {},
  "kernelspec": {
   "display_name": "Python [default]",
   "language": "python",
   "name": "python3"
  },
  "language_info": {
   "codemirror_mode": {
    "name": "ipython",
    "version": 3
   },
   "file_extension": ".py",
   "mimetype": "text/x-python",
   "name": "python",
   "nbconvert_exporter": "python",
   "pygments_lexer": "ipython3",
   "version": "3.5.2"
  }
 },
 "nbformat": 4,
 "nbformat_minor": 1
}
