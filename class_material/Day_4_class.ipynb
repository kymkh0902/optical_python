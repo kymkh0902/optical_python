{
 "cells": [
  {
   "cell_type": "markdown",
   "metadata": {},
   "source": [
    "# Day 4\n",
    "***\n",
    "###  학습 목표 \n",
    "\n",
    "#### 기초 문법 복습(1~3일차)\n",
    "\n",
    "  - print : 출력 함수. 변수에 입력이 제대로 되고 있는지, 코드가 제대로 동작하고 있는지 확인을 위함. \n",
    "  - 변수 : 문자, 숫자, 데이터 구조 등의 입력을 받아 원하는 모습으로 데이터를 변형할 수 있게 해준다.  \n",
    "  - 주석 : 코드가 길어질 경우 변수, 함수 등의 동작이 한 눈에 알기가 어려워 주석을 달아 설명을 덧붙여준다. \n",
    "  - 연산자 : 숫자, 문자 등을 사칙연산을 통해 원하는대로 가공한다.  \n",
    "  - Boolean : 특정 조건에 대한 True, False를 확인할 때 사용한다. True/False는 특정 조건을 만족할 때 함수를 실행시키는 제어문(if, while) 등 에 사용되고, 이런 방식으로 전체 데이터에서 특정 조건을 만족하는 데이터만 가져올 수 있다.\n",
    "  - Import : Package를 불러오는 방식\n",
    "  - OS package : 운영체제 기능을 다룰 수 있게 해주는 package\n",
    "  - Function : 변수, 연산, 함수들로 이루어진 코드를 하나의 함수로 지정하여 재사용할 수 있게 해준다.  \n",
    "  - 제어문\n",
    "      + if : 특정 조건을 만족할 때만 ~를 실행시키게 한다. 데이터를 다룰 땐 주로 2가지로 나눠지는 경우에 많이 사용합니다.(짝수/홀수, 0인지 아닌지) \n",
    "      ```python\n",
    "      grades = {'nbpc':['RC40 HC','RC40 CLR'], 'mobile':[]}\n",
    "      for key in grades.keys():\n",
    "          if len(grades[key]) != 0: #데이터가 있는 것과 없는 것을 구분해서 있는 것만 출력합니다.\n",
    "             print(grades[key])\n",
    "      \n",
    "      ```\n",
    "      + while : 패스\n",
    "      + for : 제어문 중에 가장 중요합니다. 많은 데이터를 다룰 때 데이터의 개수만큼 실행하는 경우가 많습니다. 예를 들면 Lot가 100개 있고 해당 Lot의 Grade를 찾는다고 했을 때 1개씩 찾는 걸 100번 for문을 통해 반복한다고 생각하시면 됩니다. 주로 for문을 많이 사용하게 될 것이고 이런로직을 유념하셔서 생각했을 때 어떤 로직으로 1번 할 수 있는 일은 무한번 가능하다고 생각하시면 됩니다. \n",
    "      \n",
    "      \n",
    "  - 데이터 구조\n",
    "      + 내장 : list, tuple, dictionary 등 \n",
    "      + 외장 : array, dataframe 등 \n",
    "      \n",
    "      \n",
    "  - 내장 함수\n",
    "      + lambda : 주로 데이터를 다룰 때 거의 동일한 형식으로만 사용하게 됩니다. 해당 형식을 외워서 특정 구문만 바꿔주면 됩니다. \n",
    "      복잡한 코드를 간편하게 해준다는 점에서 처음엔 좀 생소할 지 모르지만 매우 중요합니다. \n",
    "      + apply : lambda랑 같이 쓴다는 점만 아시면 됩니다. \n",
    "      + len : 주로 데이터의 개수로 전체에 대해 for문을 돌리려고 할 때 사용하고(range(len(data)), print와 마찬가지로 데이터 변형할 때 함수 또는 변수가 잘 돌아가고 있는지 확인할 때 사용합니다. \n",
    "      + int/float/str : 주로 날짜 관련해서 다룰 때 많이 사용합니다. (문자로도 쓸 수 있고, 숫자로도 쓸 수 있으니까요) \n",
    "      + max/min : 데이터 분석할 때 범위를 확인할 때 많이 사용합니다.\n",
    "      + range : for문과 짝이라고 생각하시면 됩니다. 데이터 전체 혹은 일부에 대해 함수를 적용할 때 많이 사용합니다. \n",
    "      + type : 주로 에러가 났을 때 코드 중간에 int여야하는데 str이거나 이런 경우가 있습니다. 이 때, 코드를 한 줄 한 줄 입력해보면서 변수에 입력 형태가 맞는지 확인할 때 사용합니다.  \n",
    "      + enumerate : for문 2번 쓰기 귀찮을 때 사용합니다.(선택)\n",
    "      + zip : 2개 데이터 집합을 한 번에 매칭시켜서 작업을 할 때 사용합니다. (Grade, 생산량의 데이터가 따로 있고 이를 매칭해서 자동검사기 맵을 그린다고 생각해보세요)\n",
    "      "
   ]
  },
  {
   "cell_type": "code",
   "execution_count": null,
   "metadata": {
    "collapsed": true
   },
   "outputs": [],
   "source": []
  }
 ],
 "metadata": {
  "anaconda-cloud": {},
  "kernelspec": {
   "display_name": "Python 3",
   "language": "python",
   "name": "python3"
  },
  "language_info": {
   "codemirror_mode": {
    "name": "ipython",
    "version": 3
   },
   "file_extension": ".py",
   "mimetype": "text/x-python",
   "name": "python",
   "nbconvert_exporter": "python",
   "pygments_lexer": "ipython3",
   "version": "3.5.2"
  }
 },
 "nbformat": 4,
 "nbformat_minor": 1
}
