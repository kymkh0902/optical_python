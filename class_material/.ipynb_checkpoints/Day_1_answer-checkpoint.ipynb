{
 "cells": [
  {
   "cell_type": "code",
   "execution_count": 1,
   "metadata": {
    "collapsed": false
   },
   "outputs": [
    {
     "name": "stdout",
     "output_type": "stream",
     "text": [
      "Hello World\n"
     ]
    }
   ],
   "source": [
    "# 예제2) Print 출력\n",
    "\n",
    " #1 Hello World를 출력해보세요\n",
    "print('Hello World')"
   ]
  },
  {
   "cell_type": "code",
   "execution_count": 2,
   "metadata": {
    "collapsed": false
   },
   "outputs": [
    {
     "name": "stdout",
     "output_type": "stream",
     "text": [
      "100\n",
      "RC40 HC\n"
     ]
    }
   ],
   "source": [
    "# 예제3,4) 변수 할당, 주석 달기\n",
    "\n",
    "#1 n_polarizer라는 변수에 숫자 100을 할당하고 print 해보세요\n",
    "n_polarizer = 100    # n_polarizer는 편광판 갯수를 나타냄\n",
    "print(n_polarizer)\n",
    "#2 polarizer_grade에 원하는 grade명을 할당하고 print 해보세요 \n",
    "\n",
    "polarizer_grade = 'RC40 HC' # Polarizer_grade는 Grade명을 나타냄 \n",
    "print(polarizer_grade)"
   ]
  },
  {
   "cell_type": "code",
   "execution_count": 5,
   "metadata": {
    "collapsed": false
   },
   "outputs": [
    {
     "name": "stdout",
     "output_type": "stream",
     "text": [
      "150\n",
      "50\n",
      "2.0\n",
      "0\n",
      "False\n",
      "True\n",
      "False\n",
      "True\n",
      "True\n",
      "False\n"
     ]
    }
   ],
   "source": [
    "# 예제5) 연산자 활용\n",
    "\n",
    "#1 n_polarizer2라는 변수에 50을 할당합니다.\n",
    "n_polarizer2 = 50\n",
    "\n",
    "#2 n_polarizer와 n_polarizer2 사이에 연산, 크기 비교를 한 후 print 해보세요 (위에 9개 기호를 모두 사용합니다.)\n",
    "print(n_polarizer + n_polarizer2)\n",
    "print(n_polarizer - n_polarizer2)\n",
    "print(n_polarizer/n_polarizer2)\n",
    "print(n_polarizer%n_polarizer2)\n",
    "print(n_polarizer<n_polarizer2)\n",
    "print(n_polarizer>n_polarizer2)\n",
    "print(n_polarizer<=n_polarizer2)\n",
    "print(n_polarizer>=n_polarizer2)\n",
    "\n",
    "# 예제6) Boolean 활용 \n",
    "\n",
    "#1 n_polarizer1와 n_polarizer2는 같다. 라고 입력해보세요. 뭐라고 나오나요? \n",
    "print(n_polarizer == n_polarizer)\n",
    "#2 n_polarizer1와 n_polarizer2는 다르다. 라고 입력해보세요. 뭐라고 나오나요? \n",
    "print(n_polarizer != n_polarizer)"
   ]
  },
  {
   "cell_type": "code",
   "execution_count": 4,
   "metadata": {
    "collapsed": false
   },
   "outputs": [
    {
     "name": "stdout",
     "output_type": "stream",
     "text": [
      "RC40 HC Grade가 100개 만큼 있습니다.\n"
     ]
    }
   ],
   "source": [
    "# 예제6) 문장 내 변수 출력하기 \n",
    "\n",
    "#format와 n_polarizer, polarizer_grade 2개 변수를 사용하여 \"polarizer_grade Grade가 n_polarizer 개 만큼 있습니다.\" 를 출력해보세요.\n",
    "print(\"{} Grade가 {}개 만큼 있습니다.\".format(polarizer_grade, n_polarizer))"
   ]
  }
 ],
 "metadata": {
  "anaconda-cloud": {},
  "kernelspec": {
   "display_name": "Python [default]",
   "language": "python",
   "name": "python3"
  },
  "language_info": {
   "codemirror_mode": {
    "name": "ipython",
    "version": 3
   },
   "file_extension": ".py",
   "mimetype": "text/x-python",
   "name": "python",
   "nbconvert_exporter": "python",
   "pygments_lexer": "ipython3",
   "version": "3.5.2"
  }
 },
 "nbformat": 4,
 "nbformat_minor": 1
}
