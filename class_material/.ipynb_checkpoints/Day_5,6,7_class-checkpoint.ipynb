{
 "cells": [
  {
   "cell_type": "markdown",
   "metadata": {
    "nbpresent": {
     "id": "5da43dae-4c10-4d77-93cc-4c20bcf468d1"
    }
   },
   "source": [
    "# Day 5 - 7\n",
    "***\n",
    "###  학습 목표 \n",
    "\n",
    "#### 1) Pandas package 학습 \n",
    "  - Pandas 데이터 구조      \n",
    "    1. DataFrame\n",
    "    2. Series\n",
    "  \n",
    "  \n",
    "  - Pandas 데이터 불러오기\n",
    "    1. read_csv\n",
    "    2. read_excel\n",
    "    3. read_sql_query\n",
    "  \n",
    "  \n",
    "  - Pandas 데이터 내용 확인\n",
    "    1. head\n",
    "    2. describe\n",
    "    3. iloc \n",
    "    \n",
    "    \n",
    "  - Pandas 데이터 가공\n",
    "    1. groupby\n",
    "    2. apply\n",
    "    3. merge\n",
    "    4. concat  \n",
    "    5. cut\n",
    "    6. drop\n",
    "    7. dropna \n",
    "    8. fillna \n",
    "    9. mean/std/min/max/corr \n",
    "    \n",
    "    \n",
    "  - Pandas 데이터 내보내기\n",
    "    1. to_excel\n",
    "      \n",
    "      \n",
    "  - Pandas 문자 다루기(정규식)\n",
    "    1. str.contains\n",
    "    2. str.extract\n",
    "    3. str.split\n",
    "      \n",
    "(Pandas API documentation : http://pandas.pydata.org/pandas-docs/stable/index.html)\n",
    "     \n",
    "\n"
   ]
  },
  {
   "cell_type": "markdown",
   "metadata": {
    "nbpresent": {
     "id": "95f04221-bffc-4dcd-839b-3c79e63768f2"
    }
   },
   "source": [
    "***\n",
    "### Pandas 학습\n",
    "\n",
    "- **Pandas 데이터 구조**\n",
    "\n",
    "    1. DataFrame : 행, 열으로 이루어진 excel 데이터 형식이라고 생각하시면 됩니다.\n",
    "    ```python\n",
    "    import pandas as pd\n",
    "    data_frame = pd.DataFrame(data = [[1,2], [2,3]], columns = ['A','B'], index = ['a','b'])\n",
    "    ```\n",
    "    2. Series : 행 또는 열로 이루어진 데이터 형식으로 series가 모여서 dataframe이 됩니다.\n",
    "    ```python\n",
    "    import pandas as pd\n",
    "    data_series = pd.Series(data = [1,2], name = 'a')\n",
    "    ```"
   ]
  },
  {
   "cell_type": "markdown",
   "metadata": {
    "nbpresent": {
     "id": "6e183b77-0e9f-4b49-8b34-d267ef96e4bc"
    }
   },
   "source": [
    "- **Pandas 데이터 불러오기**\n",
    "    \n",
    "    1. read_csv : txt, csv, xls 형식의 파일을 불러올 때 사용하는 함수입니다. \n",
    "    ```python \n",
    "    names = ['날짜','Lot','Frame수'...]                    # Column명을 names이라는 변수에 저장한다.\n",
    "    data = pd.read_csv('20160715DC02017.txt', sep = '\\t',names = names)  # read_csv 함수를 이용해 20160715DC02017.txt 파일을 읽어 data 변수에 저장한다.  \n",
    "    ```\n",
    "    2. read_excel : xlsx 형식의 파일을 불러올 때 사용하는 함수입니다. \n",
    "    ```python\n",
    "    names = ['날짜','Lot','Frame수'...]                                 # Column명을 names이라는 변수에 저장한다.\n",
    "    data = pd.read_excel('20160715DC02017.xlsx', sheetname = 'Sheet1')  # read_excel 함수를 이용해 20160715DC02017.xlsx 파일을 읽어 data 변수에 저장한다.\n",
    "    ```\n",
    "    3. read_sql_query : 데이터베이스에서 Query문을 통해 데이터를 가져올 때 사용하는 함수입니다.\n",
    "    ```python\n",
    "    # db1 데이터베이스에서 Lot가 20160715DC02017인 정보를 모두 가져와서 data라는 변수에 저장한다. \n",
    "    data = pd.read_sql_query(\"SELECT * FROM tb_iem120 WHERE unique_lot_no = '20160715DC02017'\", db1)\n",
    "    ```"
   ]
  },
  {
   "cell_type": "markdown",
   "metadata": {
    "nbpresent": {
     "id": "e6e2f7c6-f26e-49df-81a2-50fbcd14698b"
    }
   },
   "source": [
    "- **Pandas 데이터 내용 확인**\n",
    "    1. head : 데이터 가장 상단의 몇 줄만 확인할 때 사용합니다. (주로 데이터가 잘 불러졌는 지 확인할 때 사용.) \n",
    "    ```python\n",
    "    data.head(5)     # data row 5개 줄을 확인합니다. \n",
    "    ```\n",
    "    \n",
    "    2. describe : 데이터의 기본적인 통계 수치를 확인할 때 사용합니다. (max, min, mean, std 등)\n",
    "    \n",
    "    ```python\n",
    "    data.describe()  \n",
    "    ```\n",
    "    \n",
    "    3. iloc : 데이터의 행, 열을 지정하여 불러오거나 특정 범위만큼 선택할 때 사용합니다.\n",
    "    \n",
    "    ```python\n",
    "    data.iloc[1,1]   # data의 2행 2열의 값을 확인합니다. \n",
    "    data.iloc[1:, 1] # data의 2~행 2열의 값을 확인합니다.\n",
    "    ```\n",
    "    \n",
    "    4. columns, index : column과 index로 지정된 값을 확인합니다.\n",
    "    ```python\n",
    "    data.columns  # data의 column을 확인합니다.\n",
    "    data.index    # data의 index를 확인합니다. \n",
    "    ```"
   ]
  },
  {
   "cell_type": "markdown",
   "metadata": {
    "nbpresent": {
     "id": "771f652e-a406-456a-9f5a-b3ab13c53c23"
    }
   },
   "source": [
    "- **Pandas 데이터 선택**\n",
    "\n",
    "    1. 기본 내용 :     \n",
    "    \n",
    "        - 기본적으로 행/열 선택 시 [ ] (**Series**), [[ ]] (**DataFrame**) 방식으로 선택할 수 있습니다. 물론 Series는 1개 행/열만 해당합니다.  \n",
    "    \n",
    "        - 1개 행/열 선택 시에는 data[행이름/열이름] (**Series**) 혹은 data[[행이름/열이름]] (**DataFrame**) 형식으로 선택할 수 있습니다.  \n",
    "    \n",
    "        - 다수 행/열 선택 시에는 data[['열이름1, 열이름2, ...']] 의 형식으로 선택할 수 있습니다. (**DataFrame**)\n",
    "    \n",
    "        - 특정 조건을 가진 데이터를 선택하실 때는 원하는 열에 조건을 걸어 boolean으로 만들어 준 후 data내에서 True값만 반환합니다. \n",
    "        ```python\n",
    "        data[data['col1'] > 5] # col1 열 값 중 5보다 큰 값의 index에 해당되는 data를 가져옵니다. \n",
    "        data[(data['col1'] > 5) & (data['col1'] < 10)]  # col1 열 값 중 5보다 크고 10보다 작은 값의 index에 해당되는 data를 가져옵니다.\n",
    "        ```            \n",
    "        \n",
    "    2. 행 선택 : 아래와 같은 방법으로 행을 선택해서 가져올 수 있습니다.(DataFrame, Series 둘 중에 아무거나 쓰셔도 됩니다.)\n",
    "    ```python\n",
    "    data['col1']           # col1 열만 가져옵니다. \n",
    "    data[data['col1'] >5]  # col1 열 값 중 5보다 큰 값의 index에 해당되는 data를 가져옵니다. \n",
    "    ```\n",
    "    \n",
    "    3. 열 선택 : 아래와 같은 방법으로 열을 선택해서 가져올 수 있습니다.(자주 안 씁니다. 주로 iloc만 아시면 되요)\n",
    "    ```python\n",
    "    data.iloc[0]           # 0번째 index의 값을 가져옵니다. \n",
    "    data.loc[0]            # 0이라는 index의 값을 가져옵니다.\n",
    "    data.T[0]              # 0이라는 index의 값을 가져옵니다.\n",
    "    ```\n",
    "    \n",
    "    4. 행/열 변환 : 행, 열의 배열을 뒤집어서 나타내줍니다. (엑셀에 붙여넣기에 존재하는 기능이죠.) \n",
    "    ```python\n",
    "    data.T                 # data의 행, 열의 배열을 뒤집어서 나타내줍니다. \n",
    "    ```"
   ]
  },
  {
   "cell_type": "markdown",
   "metadata": {
    "nbpresent": {
     "id": "e3127f80-25c5-453d-bf5c-2b826a37538b"
    }
   },
   "source": [
    "- **Pandas 데이터 가공**\n",
    "    \n",
    "    1. drop : 데이터를 삭제합니다. 삭제하는 방향에 따라 다르게 적용할 수 있습니다. (열, 행 방향)\n",
    "    ```python\n",
    "    data.drop('col1', axis = 1, inplace = True)         # data의 col1 열을 1(행 방향으로) 삭제하고 변수에 저장합니다.  \n",
    "    data = data.drop('col1', axis = 1, inplace = False) # 위와 같은 내용입니다.\n",
    "    ```\n",
    "    2. dropna : na값의 데이터를 삭제합니다. na에는 NaN, None 등의 값(데이터 없음)들이 포함됩니다. \n",
    "    ```python\n",
    "    data = pd.DataFrame(data = [[None, 1], [2, 0], [1, 2], [3, 4]], columns = ['num1','num2'])  # 2*4 형태의 data를 만듭니다. \n",
    "    data.dropna()   # 설정을 default 값으로 한 후에 실행합니다. \n",
    "    data.dropna(axis = 0, how = 'any', subset = ['num1'])  # 행 방향으로, num1행에 대해서 모든(any)na에 대해 drop합니다. \n",
    "    ```  \n",
    "    3. fillna : na값의 데이터를 원하는 값으로 채워줍니다. \n",
    "    ```python \n",
    "    data = pd.DataFrame(data = [[None, 1], [2, 0], [1, 2], [3, 4]], columns = ['num1','num2'])  # 2*4 형태의 data를 만듭니다. \n",
    "    data.fillna(0, inplace = True)  # na값을 0이라는 숫자로 채우고 적용하고 변수에 저장합니다.  \n",
    "    data = data.fillna(0)           # 위와 같은 내용입니다. \n",
    "    ```\n",
    "    \n",
    "    4. cut : Series의 숫자 data를 원하는 범위만큼 잘라서 구분해줍니다. 그리고 해당 범위에 label을 붙여줍니다. \n",
    "    ```python\n",
    "    data = pd.DataFrame(data = [i for i in range(0,20)], columns = ['num1'])\n",
    "    # 값을 0, 5, 10, 20 으로 구분하고 그룹화합니다. 그리고 그룹에 순서대로 매칭되는 label을 붙여줍니다.  \n",
    "    pd.cut(data['num1'], bins = [0, 5, 10, 20], labels = ['0~5','5~10','10~20'], include_lowest = True)\n",
    "    ```\n",
    "    \n",
    "    5. mean/std/min/max/corr : 주요 기초 통계 값들을 불러올 때 사용합니다. DataFrame, Series 모두에 사용해도 무방하며 숫자로 이루어진 행만 출력될 것입니다. \n",
    "    ```python\n",
    "    data = pd.DataFrame(data = [['a',1, 3],['b',2, 4],['c',3, 6]], columns = ['alp','num1','num2'])\n",
    "    data.mean()  # 평균 값을 가져옵니다.\n",
    "    data.std()   # 표준편차 값을 가져옵니다.\n",
    "    data.min()   # 최대값을 가져옵니다.\n",
    "    data.max()   # 최소값을 가져옵니다.\n",
    "    data.corr()  # 상관관계 나타냅니다. \n",
    "    ```\n",
    "   \n",
    "    6. apply : 한 행 또는 열에 대해서 함수를 적용시켜 값을 변환합니다. lambda와 함께 사용 시 제어문, 함수를 동시에 사용하여 apply 내에 복잡한 값 변환을 할 수 있습니다. Series 형태의 데이터만 apply가 적용 가능합니다.\n",
    "    ```python\n",
    "    data['col1'].apply(lambda x: x+1)  # col1 행에 대해 함수를 적용해서 내용을 바꿔줍니다.(x → x+1)\n",
    "    ```\n",
    "    \n",
    "    7. groupby : 엑셀의 pivot의 행 레이블에 들어가는 값이 groupby 내에 들어가고 값 레이블에 들어가는 값이 이후 [[ ]] (dataframe) 안에 들어가게 됩니다. 그 다음에 행하려는 함수를 입력해줍니다.\n",
    "    ```python\n",
    "    data.groupby(['col1','col2'])[['col3', 'col4']].sum()  # data를 col1, col2로 묶고 col3, col4에 대해 sum()함수를 적용합니다.\n",
    "    ```\n",
    "        \n",
    "    8. merge : 하나 이상의 공통된 열을 가진 다른 데이터를 공통된 열을 기준으로 매칭시켜줍니다. 매칭하는 방법에 따라 inner, outer, left, right 로 나뉩니다.\n",
    "    ```python\n",
    "    # data_1, data2 데이터를 col1이라는 공통열에 대해 outer 방법으로 merge 합니다.\n",
    "    pd.merge(data_1, data_2, on = ['col1'], how = 'outer')\n",
    "    ```\n",
    "    \n",
    "    9. concat : DataFrame 또는 Series를 합칠 때 사용합니다. 합치는 방향에 따라 다르게 적용할 수 있습니다. (행, 열 방향) \n",
    "    ```python\n",
    "    data_1 = pd.DataFrame(data = [1,2])\n",
    "    data_2 = pd_DataFrame(data = [2,3])\n",
    "    data_concat_0 = pd.concat([data_1, data_2], axis = 0)  # 아래로 쌓습니다.(행 개수 증가.)\n",
    "    data_concat_1 = pd.concat([data_1, data_2], axis = 1)  # 옆으로 쌓습니다.(열 개수 증가.)\n",
    "    ```\n",
    "    10. melt : DataFrame 내 특정 열(id)의 다른 열들의 값(variable)을 하나의 열로 합치고, 변수와 값의 이름을 붙여줍니다.  \n",
    "    ```python\n",
    "    # data 데이터의 col1을 id로 갖고 col2, col3을 value로 갖습니다.\n",
    "    # value의 열 값을 한 군데 id에 맞게 합치고, 합친 변수(var) 이름을 'VARIABLE', \n",
    "    # 합친 값(value) 이름을 'VALUE'라고 합니다.\n",
    "    pd.melt(data, id_vars = ['col1'], value_vars = ['col2','col3'], \n",
    "    var_name = ['VARIABLE'], value_name = ['VALUE'])\n",
    "    ```"
   ]
  },
  {
   "cell_type": "markdown",
   "metadata": {},
   "source": [
    "- **Pandas 데이터 내보내기**\n",
    "    1. to_excel : DataFrame을 excel 파일로 내보냅니다. \n",
    "    ```python\n",
    "    data.to_excel('output.xlsx', index = False)                 # data를 output.xlsx 파일로 index로 포함하지 않고 내보냅니다. \n",
    "    \n",
    "    writer = pd.ExcelWriter('output.xlsx')                      # output.xlsx를 만들고 writer라는 변수에 넣습니다. \n",
    "    data.to_excel(writer, sheet_name = 'Sheet1', index = False) # data를 writer(output.xlsx)로 내보내고 sheet_name 은 Sheet1, index는 포함하지 않습니다. \n",
    "    data2.to_excel(wrtier, sheet_name = 'Sheet2', index = False)\n",
    "    ```\n",
    "    "
   ]
  },
  {
   "cell_type": "markdown",
   "metadata": {},
   "source": [
    "- **Pandas 정규식으로 문자 다루기**\n",
    "    1. str.contains : Series의 문자열에서 특정 문자에 대한 포함 유무를 boolean으로 반환합니다. . \n",
    "    ```python\n",
    "    data = pd.DataFrame(['A', 'B', 'C', 'Aaba', 'Baca', 'CABA', 'dog', 'cat'], columns = ['col1'])\n",
    "    data['col1'].str.contains('A')  # col1 열의 값에 대해 A의 문자의 유무를 boolean 값으로 반환합니다.(True/False)\n",
    "    ```\n",
    "    \n",
    "    2. str.extract : Series의 문자열에서 특정 문자를 포함하는 값을 추출해서 반환합니다. \n",
    "    ```python\n",
    "    data = pd.DataFrame(['A', 'B', 'C', 'Aaba', 'Baca', 'CABA', 'dog', 'cat'], columns = ['col1'])\n",
    "    data['col1'].str.extract('(A)')  # col1 열의 값에 대해 A 문자를 포함할 경우 해당 값만 불러옵니다.(True/False)\n",
    "    ```\n",
    "    3. str.split : Series의 문자열에서 특정 문자를 찾아 앞, 뒤로 나눕니다.\n",
    "    ```python\n",
    "    data = pd.DataFrame(['a_b_c', 'c_d_e', 'f_g_h'], columns = ['col1']) \n",
    "    data['col1'].str.split('_')  # col1 열의 값에 대해 '_'를 찾아서 앞, 뒤로 나누어 줍니다. (반환 형식 : list) \n",
    "    data['col1'].str.split('_')[0]  # split으로 나눈 문자 중 1번째 해당하는 값만 불러옴.\n",
    "    data['col1'].apply(lambda x: x.split('_')[0]) # 위와 같은 표현입니다. \n",
    "    ```\n",
    "    4. str.strip : Series의 문자열에서 문자열 외부 공백을 없애줍니다. \n",
    "    ```python\n",
    "    data = pd.DataFrame(['  abc', 'cd e ', ' fg h'], columns = ['col1']) \n",
    "    data['col1'].str.strip() # col1 열의 값에 대해 앞 뒤 공백을 찾아서 제거해줍니다. \n",
    "    data['col1'].apply(lambda x: x.strip()) # 위와 같은 표현입니다.\n",
    "    ```"
   ]
  },
  {
   "cell_type": "markdown",
   "metadata": {},
   "source": [
    "- **번외** (정규식 기본 문법)\n",
    "\n",
    "    정규식을 사용해서 원하는 문자열을 추출하거나 필터하기 위해선 정규식 문법을 아셔야 합니다. (str.extract, str.contains에 쓰임.)\n",
    "    \n",
    "    아래에 가장 기본적인 문법만 소개해드립니다. 복잡한 표현은 연습해보시면서 익혀주세요. \n",
    "    \n",
    "    ※ 내용 더 알고 싶으신 분들은 해당 링크 참조하세요 (https://wikidocs.net/4308)\n",
    "\n",
    "\n",
    "\n",
    "|구분|정규식 기호| 의미                  | 예제  |대상 값 : abcc123  ABC   |\n",
    "|:---:| :---:|:---| :-- |\n",
    "|특정 문자|아무 입력 값| 입력한 값   | 정규식 : 'abc' |   매칭 값 : 'abc'\n",
    "|특정 문자|[ ] | [ ]에 속한 범위 내 문자 중 1개|  정규식 : '[abc]' | 매칭 값 : 'a','b','c','c'\n",
    "|문자 그룹| .  | 모든 문자             | 정규식 : '.' | 매칭 값 : 'a','b','c','c','1','2','3','' ','A','B','C'\n",
    "|문자 그룹| \\d | 숫자| 정규식 : '\\d'| 매칭 값 : '1','2','3'\n",
    "|문자 그룹| \\D | 숫자 아닌 것들 | 정규식 : '\\D' | 매칭 값 : 'a','b','c','c',' ','A','B','C\n",
    "|문자 그룹| \\s | whitespace(\\t, \\n, \\t 등| 정규식 : '\\s' | 매칭 값 : ' '\n",
    "|문자 그룹| \\S | whitespace 아닌 것들| 정규식 : '\\S' | 매칭 값 : 'a','b','c','c','1','2','3','A','B','C'\n",
    "|반복| +  | 반복 (최소 1번 이상)  | 정규식 : 'c+' | 매칭 값 : 'cc'\n",
    "|반복| *  | 반복 (0번 ~ 무한대)   | 정규식 : '\\d*' | 매칭 값 : '','','','','123','','','','','' \n",
    "|반복|{m, n} | 반복 (m 이상 n 이하)| 정규식 : '\\d{1,3}' | 매칭 값 : '123'\n",
    "|반복| ? | 있거나 없거나 (0, 1) | 정규식 : 'a?bc+' | 매칭 값 : 'abcc'"
   ]
  }
 ],
 "metadata": {
  "anaconda-cloud": {},
  "kernelspec": {
   "display_name": "Python 3",
   "language": "python",
   "name": "python3"
  },
  "language_info": {
   "codemirror_mode": {
    "name": "ipython",
    "version": 3
   },
   "file_extension": ".py",
   "mimetype": "text/x-python",
   "name": "python",
   "nbconvert_exporter": "python",
   "pygments_lexer": "ipython3",
   "version": "3.5.2"
  },
  "nbpresent": {
   "slides": {
    "3e5b09a4-e059-4f97-a407-f4e264b4482e": {
     "id": "3e5b09a4-e059-4f97-a407-f4e264b4482e",
     "prev": "74a8e47b-923b-4b9a-959d-d7e5a19945b7",
     "regions": {
      "bc03c1ce-b2fb-4122-b5fe-d217f65fb770": {
       "attrs": {
        "height": 0.8,
        "width": 0.8,
        "x": 0.1,
        "y": 0.1
       },
       "content": {
        "cell": "95f04221-bffc-4dcd-839b-3c79e63768f2",
        "part": "whole"
       },
       "id": "bc03c1ce-b2fb-4122-b5fe-d217f65fb770"
      }
     }
    },
    "487de121-7d79-499a-a169-189bba1a19ef": {
     "id": "487de121-7d79-499a-a169-189bba1a19ef",
     "prev": "d6da010e-329e-4ab5-8d49-283b29ca41cb",
     "regions": {
      "2089718c-f87d-4dd9-a347-4c24aa9da544": {
       "attrs": {
        "height": 0.8,
        "width": 0.8,
        "x": 0.1,
        "y": 0.1
       },
       "content": {
        "cell": "d199653f-3ef1-43d0-aec9-da4c55f383d3",
        "part": "whole"
       },
       "id": "2089718c-f87d-4dd9-a347-4c24aa9da544"
      }
     }
    },
    "4f775b6f-b408-49f3-ab27-de570e328ea3": {
     "id": "4f775b6f-b408-49f3-ab27-de570e328ea3",
     "prev": "e9aefc96-ae2d-4983-a50a-5a25f8e987f1",
     "regions": {
      "61362c37-7957-443b-b9f7-24d08f77303f": {
       "attrs": {
        "height": 0.8,
        "width": 0.8,
        "x": 0.1,
        "y": 0.1
       },
       "content": {
        "cell": "2676003a-1518-475e-9de6-cfa16aa787f2",
        "part": "whole"
       },
       "id": "61362c37-7957-443b-b9f7-24d08f77303f"
      }
     }
    },
    "74a8e47b-923b-4b9a-959d-d7e5a19945b7": {
     "id": "74a8e47b-923b-4b9a-959d-d7e5a19945b7",
     "prev": "dc1439d6-88c7-4d71-8eda-e9cf8648a5ad",
     "regions": {
      "16d707a1-218c-43fa-a4cf-81e9b7ebadfd": {
       "attrs": {
        "height": 0.8,
        "width": 0.45,
        "x": 0.5,
        "y": 0.1
       },
       "id": "16d707a1-218c-43fa-a4cf-81e9b7ebadfd"
      },
      "809e66ea-32df-4af5-95da-c9b2cc154161": {
       "attrs": {
        "height": 0.8,
        "width": 0.45,
        "x": 0.05,
        "y": 0.1
       },
       "id": "809e66ea-32df-4af5-95da-c9b2cc154161"
      }
     }
    },
    "9d122bba-bd3d-460f-8559-a315e13c4dcb": {
     "id": "9d122bba-bd3d-460f-8559-a315e13c4dcb",
     "prev": "3e5b09a4-e059-4f97-a407-f4e264b4482e",
     "regions": {
      "534990d6-0e5f-41b2-a014-8d65561bd71d": {
       "attrs": {
        "height": 0.8,
        "width": 0.8,
        "x": 0.1,
        "y": 0.1
       },
       "content": {
        "cell": "e73d9f6e-5dbf-4905-96ec-89df9dd9e1d3",
        "part": "whole"
       },
       "id": "534990d6-0e5f-41b2-a014-8d65561bd71d"
      }
     }
    },
    "a27c7c97-0345-4a5e-9c86-6aa0d3c35574": {
     "id": "a27c7c97-0345-4a5e-9c86-6aa0d3c35574",
     "prev": "4f775b6f-b408-49f3-ab27-de570e328ea3",
     "regions": {
      "81b4cfc2-3982-47bd-8e65-6bbb3fd8a9e2": {
       "attrs": {
        "height": 0.8,
        "width": 0.8,
        "x": 0.1,
        "y": 0.1
       },
       "content": {
        "cell": "e3127f80-25c5-453d-bf5c-2b826a37538b",
        "part": "whole"
       },
       "id": "81b4cfc2-3982-47bd-8e65-6bbb3fd8a9e2"
      }
     }
    },
    "d1f562cd-3808-455e-99c0-c6ebb35c3a30": {
     "id": "d1f562cd-3808-455e-99c0-c6ebb35c3a30",
     "prev": "a27c7c97-0345-4a5e-9c86-6aa0d3c35574",
     "regions": {
      "6ab7c891-fd5e-4af3-b292-669034d5fb2b": {
       "attrs": {
        "height": 0.8,
        "width": 0.8,
        "x": 0.1,
        "y": 0.1
       },
       "content": {
        "cell": "ddc3d55f-2e02-4a30-bacd-95c91a7a784b",
        "part": "whole"
       },
       "id": "6ab7c891-fd5e-4af3-b292-669034d5fb2b"
      }
     }
    },
    "d6da010e-329e-4ab5-8d49-283b29ca41cb": {
     "id": "d6da010e-329e-4ab5-8d49-283b29ca41cb",
     "prev": "9d122bba-bd3d-460f-8559-a315e13c4dcb",
     "regions": {
      "7e49b059-0054-493b-aec5-41cdd9efbc2c": {
       "attrs": {
        "height": 0.8,
        "width": 0.8,
        "x": 0.1,
        "y": 0.1
       },
       "content": {
        "cell": "6e183b77-0e9f-4b49-8b34-d267ef96e4bc",
        "part": "whole"
       },
       "id": "7e49b059-0054-493b-aec5-41cdd9efbc2c"
      }
     }
    },
    "dc1439d6-88c7-4d71-8eda-e9cf8648a5ad": {
     "id": "dc1439d6-88c7-4d71-8eda-e9cf8648a5ad",
     "prev": null,
     "regions": {}
    },
    "e9aefc96-ae2d-4983-a50a-5a25f8e987f1": {
     "id": "e9aefc96-ae2d-4983-a50a-5a25f8e987f1",
     "prev": "fef28986-915e-4e6d-afdc-791ec37c9095",
     "regions": {
      "64423e83-77bd-47b4-85b2-9a9debbb91f6": {
       "attrs": {
        "height": 0.8,
        "width": 0.8,
        "x": 0.1,
        "y": 0.1
       },
       "content": {
        "cell": "771f652e-a406-456a-9f5a-b3ab13c53c23",
        "part": "whole"
       },
       "id": "64423e83-77bd-47b4-85b2-9a9debbb91f6"
      }
     }
    },
    "fa3163f8-ef49-413e-aad6-c3c8e438f0ae": {
     "id": "fa3163f8-ef49-413e-aad6-c3c8e438f0ae",
     "prev": "487de121-7d79-499a-a169-189bba1a19ef",
     "regions": {
      "2505702f-eade-4c1a-a606-c427b59b1658": {
       "attrs": {
        "height": 0.8,
        "width": 0.8,
        "x": 0.1,
        "y": 0.1
       },
       "content": {
        "cell": "e6e2f7c6-f26e-49df-81a2-50fbcd14698b",
        "part": "whole"
       },
       "id": "2505702f-eade-4c1a-a606-c427b59b1658"
      }
     }
    },
    "fef28986-915e-4e6d-afdc-791ec37c9095": {
     "id": "fef28986-915e-4e6d-afdc-791ec37c9095",
     "prev": "fa3163f8-ef49-413e-aad6-c3c8e438f0ae",
     "regions": {
      "60329eac-6087-4ade-822a-05a01f054bd1": {
       "attrs": {
        "height": 0.8,
        "width": 0.8,
        "x": 0.1,
        "y": 0.1
       },
       "content": {
        "cell": "66788a5f-9531-47b8-8de2-9f9bcf22d0e3",
        "part": "whole"
       },
       "id": "60329eac-6087-4ade-822a-05a01f054bd1"
      }
     }
    }
   },
   "themes": {}
  }
 },
 "nbformat": 4,
 "nbformat_minor": 1
}
