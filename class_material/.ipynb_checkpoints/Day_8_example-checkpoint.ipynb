{
 "cells": [
  {
   "cell_type": "markdown",
   "metadata": {},
   "source": [
    "# Day 8 예제"
   ]
  },
  {
   "cell_type": "code",
   "execution_count": 2,
   "metadata": {
    "collapsed": true
   },
   "outputs": [],
   "source": [
    "# 예제1) import 및 그래프 출력 설정\n",
    "\n",
    "#1. matplotlib package에서 pyplot을 plt라는 이름으로 import합니다. \n",
    "\n",
    "#2. jupyter에서 그래프를 출력하도록 설정하세요  "
   ]
  },
  {
   "cell_type": "code",
   "execution_count": 3,
   "metadata": {
    "collapsed": true
   },
   "outputs": [],
   "source": [
    "# 예제2) 그래프를 그릴 pandas 데이터 가져오기\n",
    "\n",
    "names = ['날짜','Lot','Frame수', '카메라 번호', '사용안함', 'INDEX', '불량유형','X','y', \n",
    "         'X-Size','Y-Size', '불량이미지','사용안함','사용안함','Value','흑점','조명밝기']\n",
    "\n",
    "#1. os 를 import 한 후에 dataset를 작업 폴더로 지정합니다. 20160715DC02017.xlsx 파일을 불러옵니다. (변수 : data)\n",
    "\n",
    "#2. na값을 drop하고 '강/약' column을 만듭니다. (불량 유형을 60000 기준으로 작으면 강, 크면 약, lambda 함수 쓰세요)\n",
    "\n",
    "#3. Size라는 열을 만들어줍니다. (X-Size 와 Y-Size의 평균 값입니다.)\n",
    "\n",
    "#4. data에서 크로스2 휘점에 해당되는 값들만 불러와서 data_cross2라는 변수에 넣습니다. (불량 유형 : 257, 65793, 사용 함수 : isin)\n",
    "\n",
    "data['불량유형'].isin([257,65793])"
   ]
  },
  {
   "cell_type": "code",
   "execution_count": 5,
   "metadata": {
    "collapsed": true
   },
   "outputs": [],
   "source": [
    "# 예제3) 산점도 그래프 그리기. (사용할 데이터는 계속 data_cross2입니다.)\n",
    "\n",
    "#1. subplots 함수로 원하는 크기의 그래프를 하나 만들어보세요. (변수 : fig, ax) 그리고 출력해보세요 뭐가 나오나요?\n",
    "\n",
    "#2. scatter plot을 그려보겠습니다. (x : Value, y : Size) 크기, 색깔 등을 설정해보세요\n",
    "\n",
    "#3. x축, y축 설정을 변경해보겠습니다. 원하시는 그래프를 생각하시고 하나씩 설정을 변경해보세요. \n",
    "\n",
    "#4. 본인이 더 고쳤으면 좋겠다고 생각하는 설정을 말씀해주세요. (모든 설정이 변경 가능합니다.)"
   ]
  },
  {
   "cell_type": "code",
   "execution_count": 6,
   "metadata": {
    "collapsed": true
   },
   "outputs": [],
   "source": [
    "# 예제4) Heatmap 그리기. (seaborn 활용.)"
   ]
  }
 ],
 "metadata": {
  "anaconda-cloud": {},
  "kernelspec": {
   "display_name": "Python 3",
   "language": "python",
   "name": "python3"
  },
  "language_info": {
   "codemirror_mode": {
    "name": "ipython",
    "version": 3
   },
   "file_extension": ".py",
   "mimetype": "text/x-python",
   "name": "python",
   "nbconvert_exporter": "python",
   "pygments_lexer": "ipython3",
   "version": "3.5.2"
  }
 },
 "nbformat": 4,
 "nbformat_minor": 1
}
