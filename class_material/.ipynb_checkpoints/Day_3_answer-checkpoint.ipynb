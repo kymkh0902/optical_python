{
 "cells": [
  {
   "cell_type": "markdown",
   "metadata": {},
   "source": [
    "# Day 3 예제 답"
   ]
  },
  {
   "cell_type": "code",
   "execution_count": null,
   "metadata": {
    "collapsed": false
   },
   "outputs": [],
   "source": [
    "# 예제1) list를 만들어봅시다.\n",
    "\n",
    "#1. 3개의 grade를 가진 grades라는 이름의 list를 생성합니다. \n",
    "grade = ['RC40 HC','RC40 CLR','RC40 AGSR2']\n",
    "\n",
    "#2. grades(list)에 1개 grade를 추가합니다. \n",
    "grade.append('XT80 CLR')\n",
    "\n",
    "#3. grades(list) 내의 값 중 1, 2번째 값만 print합니다. \n",
    "print(grade[:2])"
   ]
  },
  {
   "cell_type": "code",
   "execution_count": null,
   "metadata": {
    "collapsed": false
   },
   "outputs": [],
   "source": [
    "# 예제 2) dict를 만들어봅시다.\n",
    "\n",
    "#1. 3개의 grade(key)와 그에 해당되는 재고(value)를 가진 stock이라는 dict를 생성합니다.\n",
    "stock = {'RC40 HC':10, 'RC40 CLR':20, 'RC40 AGSR2':30}\n",
    "#2. stock(dict)에 1개 grade, 그에 해당되는 재고를 추가합니다.\n",
    "stock.update({'XT80 CLR':40})\n",
    "#3. stock(dict) 내의 값 중 원하는 grade의 재고를 print해봅니다.\n",
    "stock['RC40 HC']"
   ]
  },
  {
   "cell_type": "code",
   "execution_count": null,
   "metadata": {
    "collapsed": false
   },
   "outputs": [],
   "source": [
    "# 예제3) lambda\n",
    "\n",
    "#1. lambda를 사용해서 grade와 재고를(stock) 입력해주면 \"xx grade는 재고가 00만큼 있습니다.\" 라는 trace라는 함수를 만들어보세요\n",
    "trace = lambda grade, stock : '{}는 재고가 {}만큼 있습니다.'.format(grade, stock)\n",
    "#2. grade, 수량을 넣고 함수를 실행시켜보세요 \n",
    "trace('RC40 HC', 100)"
   ]
  },
  {
   "cell_type": "code",
   "execution_count": null,
   "metadata": {
    "collapsed": false
   },
   "outputs": [],
   "source": [
    "# 예제4) len, max, min의 활용\n",
    "\n",
    "#1. key로 grade, value로 생산량을 갖는 stock이라는 이름의 dict를 만들어보세요. (key, value : 3개)\n",
    "stock = {'RC40 HC':10, 'RC40 CLR':20, 'RC40 AGSR2':30}\n",
    "#2. stock(dict)의 data 개수를 세어보세요. \n",
    "len(stock)\n",
    "#3. stock 내에 첫 번째 grade의 글자 수를 세어보세요 (list와 keys라는 함수를 쓰세요)\n",
    "len(list(stock.keys())[1])\n",
    "#4. stock 내 가장 재고가 많은/적은 grade는 무엇인가요?\n",
    "max(stock)"
   ]
  },
  {
   "cell_type": "code",
   "execution_count": null,
   "metadata": {
    "collapsed": false
   },
   "outputs": [],
   "source": [
    "# 예제5) type 변경\n",
    "\n",
    "date, prod_cd, prod_num = 20170511, 'CC01', '005'  \n",
    "\n",
    "#1. 위 내용은 20170511 날짜에 CC01에서 생산된 005번째 Lot의 내용입니다. 세 변수를 합쳐서 Lot로 만들어보세요 \n",
    "Lot = str(date) + prod_cd + prod_num\n",
    "\n",
    "#2. Lot 전체 내용에서 생산 날짜만 가져옵니다. 그리고 형식을 '%Y-%m-%d'의 형식으로 출력해봅니다. ('2017-05-11')\n",
    "print('{}-{}-{}'.format(Lot[:4], Lot[4:6], Lot[6:8]))"
   ]
  },
  {
   "cell_type": "code",
   "execution_count": null,
   "metadata": {
    "collapsed": false
   },
   "outputs": [],
   "source": [
    "# 예제6) \n",
    "\n",
    "#1. data라는 빈 dict를 만들어줍니다.\n",
    "data = {}\n",
    "#2. keys에 list형식으로 grade를 3개 입력해줍니다.d\n",
    "keys = ['RC40 HC','RC40 CLR','RC40 AGSR2']\n",
    "#3. values에 list형식으로 재고를 3개 입력해줍니다. \n",
    "values = [10, 20, 30]\n",
    "#4. zip을 사용해서 key, value에 대해 for문을 쓰고, data(빈 dict)에 keys, values로 추가합니다.(update)\n",
    "for i, j in zip(keys, values):\n",
    "    data.update({i:j})\n",
    "\n",
    "print(data)"
   ]
  }
 ],
 "metadata": {
  "anaconda-cloud": {},
  "kernelspec": {
   "display_name": "Python [default]",
   "language": "python",
   "name": "python3"
  },
  "language_info": {
   "codemirror_mode": {
    "name": "ipython",
    "version": 3
   },
   "file_extension": ".py",
   "mimetype": "text/x-python",
   "name": "python",
   "nbconvert_exporter": "python",
   "pygments_lexer": "ipython3",
   "version": "3.5.2"
  }
 },
 "nbformat": 4,
 "nbformat_minor": 1
}
