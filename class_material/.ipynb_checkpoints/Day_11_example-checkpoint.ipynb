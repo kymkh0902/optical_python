{
 "cells": [
  {
   "cell_type": "code",
   "execution_count": null,
   "metadata": {
    "collapsed": false
   },
   "outputs": [],
   "source": [
    "# aoi, mes, qms 모두 import\n",
    "import aoi\n",
    "import mes\n",
    "import qms"
   ]
  },
  {
   "cell_type": "code",
   "execution_count": null,
   "metadata": {
    "collapsed": true
   },
   "outputs": [],
   "source": [
    "# 예제1) 자동검사기 데이터 불러와서 수율 계산하기 \n",
    "\n",
    "# 대상 : SF40 ASG5\n",
    "\n",
    "# 모델 정보 : \n",
    "  # 슬리팅 1(43인치) : 폭(1125), 장변(956.90), 단변(541.95), 흡수축(0)\n",
    "  # 슬리팅 2(55인치) : 폭(750), 장변(1229.20), 단변(695.5), 흡수축(0)\n",
    "\n",
    "# 기간 : 3~5월 (3/1 ~ 5/31)\n",
    "\n",
    "# 불량 정보 : 전 불량, 마킹 별 수율 + 전체 수율\n",
    "\n",
    "# 출력 : xlsx 파일"
   ]
  },
  {
   "cell_type": "code",
   "execution_count": null,
   "metadata": {
    "collapsed": true
   },
   "outputs": [],
   "source": [
    "# 예제2) Cpk Trend 구하기 \n",
    "\n",
    "# 대상 : RC40 HC \n",
    "\n",
    "# 기간 : 17년 월 별 Cpk Trend\n",
    "\n",
    "# 물성 : USL, LSL 있는 모든 물성 값\n",
    "\n",
    "# 출력 : xlsx 파일"
   ]
  }
 ],
 "metadata": {
  "kernelspec": {
   "display_name": "Python 3",
   "language": "python",
   "name": "python3"
  },
  "language_info": {
   "codemirror_mode": {
    "name": "ipython",
    "version": 3
   },
   "file_extension": ".py",
   "mimetype": "text/x-python",
   "name": "python",
   "nbconvert_exporter": "python",
   "pygments_lexer": "ipython3",
   "version": "3.5.2"
  }
 },
 "nbformat": 4,
 "nbformat_minor": 1
}
