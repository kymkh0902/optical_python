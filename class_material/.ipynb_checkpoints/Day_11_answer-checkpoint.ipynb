{
 "cells": [
  {
   "cell_type": "code",
   "execution_count": null,
   "metadata": {
    "collapsed": true
   },
   "outputs": [],
   "source": [
    "# aoi, mes, qms, pandas 모두 import\n",
    "import aoi\n",
    "import mes\n",
    "import qms\n",
    "import pandas as pd"
   ]
  },
  {
   "cell_type": "code",
   "execution_count": null,
   "metadata": {
    "collapsed": true
   },
   "outputs": [],
   "source": [
    "# 예제1) 자동검사기 데이터 불러와서 재단 모델 별로 불량율 계산, 비교하기\n",
    "\n",
    "# 대상 : SF40 ASG5\n",
    "\n",
    "# 모델 정보 1: \n",
    "  # 슬리팅 1(43인치) : 폭(1125), 장변(956.90), 단변(541.95), 흡수축(0)\n",
    "  # 슬리팅 2(55인치) : 폭(750), 장변(1229.20), 단변(695.5), 흡수축(0)\n",
    "# 모델 정보 2:\n",
    "  # 슬리팅 1(43인치) : 폭(990), 장변(956.90), 단변(541.95), 흡수축(90)\n",
    "  # 슬리팅 1(43인치) : 폭(990), 장변(956.90), 단변(541.95), 흡수축(90)\n",
    "\n",
    "# 기간 : 3~5월 (3/1 ~ 5/31)\n",
    "\n",
    "# 불량 정보 : 전 불량, 마킹 별 수율 + 전체 수율\n",
    "\n",
    "# 출력 : xlsx 파일"
   ]
  },
  {
   "cell_type": "code",
   "execution_count": null,
   "metadata": {
    "collapsed": true
   },
   "outputs": [],
   "source": [
    "\"\"\"1개 예제 학습\"\"\"\n",
    "lot = '20170301DC01001'\n",
    "slitting_width = 1125\n",
    "inch_x1 = 956.90\n",
    "inch_y1 = 541.95\n",
    "axis1 = 0\n",
    "inch_x2 = 1229.20\n",
    "inch_y2 = 695.50\n",
    "axis2 = 0 \n",
    "\n",
    "width, length = aoi.read_lot_info(lot)\n",
    "data = aoi.read_data(lot, True, True)\n",
    "slit1, slit2 = aoi.preprocessing.slitting(data, slitting_width)\n",
    "\n",
    "slit1_ratio = aoi.output.ratio(slit1, slitting_width, length, inch_x1, inch_y1, axis1)\n",
    "slit2_ratio = aoi.output.ratio(slit2, slitting_width, length, inch_x2, inch_y2, axis2)\n",
    "\n",
    "print(slit1_ratio, slit2_ratio)"
   ]
  },
  {
   "cell_type": "code",
   "execution_count": null,
   "metadata": {
    "collapsed": true
   },
   "outputs": [],
   "source": [
    "\"\"\"200개 예제 학습\"\"\"\n",
    "#데이터 셋 준비\n",
    "lot_list = mes.read_lot(20170301, 20170531, 'SF40ASG')\n",
    "lot_list = lot_list[lot_list['코팅'].str.contains(r'DC')]\n",
    "\n",
    "model1 = [1125, 956.90, 541.95, 0, 1229.20, 695.5, 0]\n",
    "model2 = [990, 956.90, 541.95, 90, 956.90, 541.95, 0]\n",
    "models = [model1, model2]\n",
    "\n",
    "result = pd.DataFrame([])\n",
    "\n",
    "#반복문\n",
    "for lot in lot_list['코팅']:\n",
    "    for model in models:          \n",
    "        \"\"\"1개 예제\"\"\"\n",
    "        lot = lot\n",
    "        slitting_width = model[0]\n",
    "        inch_x1 = model[1]\n",
    "        inch_y1 = model[2]\n",
    "        axis1 = model[3]\n",
    "        inch_x2 = model[4]\n",
    "        inch_y2 = model[5]\n",
    "        axis2 = model[6]\n",
    "        \n",
    "        width, length = aoi.read_lot_info(lot)\n",
    "        data = aoi.read_data(lot, True, True)\n",
    "        slit1, slit2 = aoi.preprocessing.slitting(data, slitting_width)\n",
    "\n",
    "        slit1_ratio = aoi.output.ratio(slit1, slitting_width, length, inch_x1, inch_y2, axis1)\n",
    "        slit2_ratio = aoi.output.ratio(slit2, slitting_width, length, inch_x2, inch_y2, axis2)\n",
    "        \n",
    "        ratio = pd.DataFrame([lot, slit1_ratio, slit2_ratio], index = ['코팅','슬리팅1','슬리팅2']).T\n",
    "        result = pd.concat([result, ratio])      "
   ]
  },
  {
   "cell_type": "code",
   "execution_count": null,
   "metadata": {
    "collapsed": true
   },
   "outputs": [],
   "source": [
    "result['total'] = result['슬리팅1'] + result['슬리팅2']\n",
    "model1 = result.iloc[0::2]\n",
    "model2 = result.iloc[1::2]"
   ]
  },
  {
   "cell_type": "code",
   "execution_count": null,
   "metadata": {
    "collapsed": true
   },
   "outputs": [],
   "source": [
    "model2['total'] - model1['total']"
   ]
  }
 ],
 "metadata": {
  "anaconda-cloud": {},
  "kernelspec": {
   "display_name": "Python [default]",
   "language": "python",
   "name": "python3"
  },
  "language_info": {
   "codemirror_mode": {
    "name": "ipython",
    "version": 3
   },
   "file_extension": ".py",
   "mimetype": "text/x-python",
   "name": "python",
   "nbconvert_exporter": "python",
   "pygments_lexer": "ipython3",
   "version": "3.5.2"
  }
 },
 "nbformat": 4,
 "nbformat_minor": 1
}
