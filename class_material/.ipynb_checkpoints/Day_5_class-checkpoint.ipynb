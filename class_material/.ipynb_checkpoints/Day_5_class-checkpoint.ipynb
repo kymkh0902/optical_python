{
 "cells": [
  {
   "cell_type": "markdown",
   "metadata": {},
   "source": [
    "# Day 5\n",
    "***\n",
    "###  학습 목표 \n",
    "\n",
    "#### 1) Pandas package 학습 \n",
    "  - Pandas 데이터 구조      \n",
    "    1. DataFrame\n",
    "    2. Series\n",
    "  \n",
    "  \n",
    "  - Pandas 데이터 불러오기\n",
    "    1. read_csv\n",
    "    2. read_excel\n",
    "    3. read_sql_query\n",
    "  \n",
    "  \n",
    "  - Pandas 데이터 내용 확인\n",
    "    1. head\n",
    "    2. describe\n",
    "    3. iloc \n",
    "    \n",
    "    \n",
    "  - Pandas 데이터 가공\n",
    "    1. groupby\n",
    "    2. apply\n",
    "    3. merge\n",
    "    4. concat  \n",
    "    5. cut\n",
    "    6. drop\n",
    "    7. dropna \n",
    "    8. fillna \n",
    "    9. mean/std/min/max/corr \n",
    "    \n",
    "    \n",
    "  - Pandas 데이터 내보내기\n",
    "    1. to_excel\n",
    "      \n",
    "      \n",
    "(Pandas API documentation : http://pandas.pydata.org/pandas-docs/stable/index.html)\n",
    "     \n",
    "\n"
   ]
  },
  {
   "cell_type": "markdown",
   "metadata": {},
   "source": [
    "***\n",
    "### Pandas 학습\n",
    "\n",
    "- Pandas 데이터 구조 \n",
    "\n",
    "    1. DataFrame : 행, 열으로 이루어진 excel 데이터 형식이라고 생각하시면 됩니다.\n",
    "    ```python\n",
    "    import pandas as pd\n",
    "    data_frame = pd.DataFrame(data = [[1,2], [2,3]], columns = ['A','B'], index = ['a','b'])\n",
    "    ```\n",
    "    2. Series : 행 또는 열로 이루어진 데이터 형식으로 series가 모여서 dataframe이 됩니다.\n",
    "    ```python\n",
    "    import pandas as pd\n",
    "    data_series = pd.Series(data = [1,2], name = 'a')\n",
    "    ```"
   ]
  },
  {
   "cell_type": "code",
   "execution_count": 12,
   "metadata": {
    "collapsed": true
   },
   "outputs": [],
   "source": [
    "# 예제1) Dataframe를 생성해봅시다.\n",
    "\n",
    "#1. pandas를 import합니다.\n",
    "\n",
    "#2. 3*2(row*column) 형태의 dataframe 을 만들겠습니다.\n",
    "\n",
    "#3. column명은 grade, qty로 명명해주고 index는 따로 추가하지 않습니다. 내용은 각자 채워주세요"
   ]
  },
  {
   "cell_type": "markdown",
   "metadata": {},
   "source": [
    "- Pandas 데이터 불러오기\n",
    "    \n",
    "    1. read_csv : txt, csv, xls 형식의 파일을 불러올 때 사용하는 함수입니다. \n",
    "    ```python \n",
    "    names = ['날짜','Lot','Frame수'...]                    # Column명을 names이라는 변수에 저장한다.\n",
    "    data = pd.read_csv('20160715DC02017.txt', sep = '\\t')  # read_csv 함수를 이용해 20160715DC02017.txt 파일을 읽어 data 변수에 저장한다.  \n",
    "    ```\n",
    "    2. read_excel : xlsx 형식의 파일을 불러올 때 사용하는 함수입니다. \n",
    "    ```python\n",
    "    names = ['날짜','Lot','Frame수'...]                                 # Column명을 names이라는 변수에 저장한다.\n",
    "    data = pd.read_excel('20160715DC02017.xlsx', sheetname = 'Sheet1')  # read_excel 함수를 이용해 20160715DC02017.xlsx 파일을 읽어 data 변수에 저장한다.\n",
    "    ```\n",
    "    3. read_sql_query : 데이터베이스에서 Query문을 통해 데이터를 가져올 때 사용하는 함수입니다.\n",
    "    ```python\n",
    "    # db1 데이터베이스에서 Lot가 20160715DC02017인 정보를 모두 가져와서 data라는 변수에 저장한다. \n",
    "    data = pd.read_sql_query(\"SELECT * FROM tb_iem120 WHERE unique_lot_no = '20160715DC02017'\", db1)\n",
    "    ```"
   ]
  },
  {
   "cell_type": "code",
   "execution_count": null,
   "metadata": {
    "collapsed": true
   },
   "outputs": [],
   "source": [
    "# 예제2) 자동검사기 파일을 불러옵니다.\n",
    "\n",
    "names = ['날짜','Lot','Frame수', '카메라 번호', '사용안함', 'INDEX', '불량유형(10진수)','X','y', \n",
    "         'X-Size','Y-Size', '불량이미지','사용안함','사용안함','Value','흑점','조명밝기']\n",
    "\n",
    "#0. 현재 작업 폴더를 확인하고 optical_python 내 files라는 폴더를 작업 폴더로 만들어주세요. \n",
    "\n",
    "#1. files라는 폴더 내에 20160715DC02017.txt 파일을 read_csv 함수를 이용해서 불러와보세요. (변수 : data)\n",
    "\n",
    "#2. files라는 폴더 내에 20160715DC02017.xlsx 파일을 read_excel 함수를 이용해서 불러와보세요. (변수 : data_2)"
   ]
  },
  {
   "cell_type": "code",
   "execution_count": 2,
   "metadata": {
    "collapsed": true
   },
   "outputs": [],
   "source": [
    "import pandas as pd"
   ]
  },
  {
   "cell_type": "code",
   "execution_count": 15,
   "metadata": {
    "collapsed": false
   },
   "outputs": [],
   "source": [
    "names = ['날짜','Lot','Frame수', '카메라 번호', '사용안함', 'INDEX', '불량유형(10진수)','X','y', \n",
    "         'X-Size','Y-Size', '불량이미지','사용안함','사용안함','Value','흑점','조명밝기']\n",
    "\n",
    "data = pd.read_csv('20160715DC02017.txt', sep = '\\t', names = names)"
   ]
  },
  {
   "cell_type": "code",
   "execution_count": 26,
   "metadata": {
    "collapsed": true
   },
   "outputs": [],
   "source": [
    "data_1 = pd.read_excel('20160715DC02017.xlsx', header = None, names = names)"
   ]
  },
  {
   "cell_type": "markdown",
   "metadata": {},
   "source": [
    "- Pandas 데이터 내용 확인\n",
    "    1. head : 데이터 가장 상단의 몇 줄만 확인할 때 사용합니다. (주로 데이터가 잘 불러졌는 지 확인할 때 사용.) \n",
    "    ```python\n",
    "    data.head(5)     # data row 5개 줄을 확인합니다. \n",
    "    ```\n",
    "    \n",
    "    2. describe : 데이터의 기본적인 통계 수치를 확인할 때 사용합니다. (max, min, mean, std 등)\n",
    "    \n",
    "    ```python\n",
    "    data.describe()  \n",
    "    ```\n",
    "    \n",
    "    3. iloc : 데이터의 행, 열을 지정하여 불러오거나 특정 범위만큼 선택할 때 사용합니다.\n",
    "    \n",
    "    ```python\n",
    "    data.iloc[1,1]   # data의 1열 1행의 값을 확인합니다. \n",
    "    data.iloc[1:, 1] # data의 1~열 1행의 값을 확인합니다.\n",
    "    ```"
   ]
  },
  {
   "cell_type": "code",
   "execution_count": 17,
   "metadata": {
    "collapsed": true
   },
   "outputs": [],
   "source": [
    "# 예제3) 위에서 불러온 data라는 변수의 기본적인 내용 확인 과정입니다.\n",
    "\n",
    "#1. data의 상단 10줄을 head라는 함수를 사용해서 출력해보세요 \n",
    "\n",
    "#2. data의 기본 통계 수치를 describe 함수를 사용해서 출력해보세요 \n",
    "\n",
    "#3. data의 전체 열, 3~행을 iloc을 사용해서 출력해보세요. \n",
    "\n",
    "#4. data의 1열 1행의 값에 숫자 3을 대입해보세요. 값이 바뀌나요? "
   ]
  },
  {
   "cell_type": "markdown",
   "metadata": {},
   "source": [
    "- Pandas 데이터 가공\n",
    "\n",
    "    1. groupby\n",
    "    \n",
    "    2. apply\n",
    "    \n",
    "    3. merge\n",
    "    \n",
    "    4. concat \n",
    "    \n",
    "    5. cut\n",
    "    \n",
    "    6. drop\n",
    "    \n",
    "    7. dropna \n",
    "    \n",
    "    8. fillna \n",
    "    \n",
    "    9. mean/std/min/max/corr "
   ]
  },
  {
   "cell_type": "code",
   "execution_count": 44,
   "metadata": {
    "collapsed": true
   },
   "outputs": [],
   "source": [
    "prod_info = pd.read_excel('day_5_예제.xlsx')"
   ]
  },
  {
   "cell_type": "code",
   "execution_count": 45,
   "metadata": {
    "collapsed": false
   },
   "outputs": [
    {
     "data": {
      "text/plain": [
       "생산공정  Lot            \n",
       "라미    20170512CL01001    256\n",
       "      20170512CL01002    873\n",
       "      20170512CL01003    217\n",
       "연신    20170512CE01001    830\n",
       "      20170512CE01002    215\n",
       "      20170512CE01003    989\n",
       "코팅    20170512CC02001    398\n",
       "      20170512CC02002    291\n",
       "      20170512CC02003    870\n",
       "Name: 생산량, dtype: int64"
      ]
     },
     "execution_count": 45,
     "metadata": {},
     "output_type": "execute_result"
    }
   ],
   "source": [
    "prod_info.groupby(['생산공정','Lot'])['생산량'].sum()"
   ]
  },
  {
   "cell_type": "code",
   "execution_count": null,
   "metadata": {
    "collapsed": true
   },
   "outputs": [],
   "source": []
  }
 ],
 "metadata": {
  "anaconda-cloud": {},
  "kernelspec": {
   "display_name": "Python [default]",
   "language": "python",
   "name": "python3"
  },
  "language_info": {
   "codemirror_mode": {
    "name": "ipython",
    "version": 3
   },
   "file_extension": ".py",
   "mimetype": "text/x-python",
   "name": "python",
   "nbconvert_exporter": "python",
   "pygments_lexer": "ipython3",
   "version": "3.5.2"
  }
 },
 "nbformat": 4,
 "nbformat_minor": 1
}
