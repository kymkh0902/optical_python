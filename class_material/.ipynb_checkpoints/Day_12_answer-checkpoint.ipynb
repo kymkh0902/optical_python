{
 "cells": [
  {
   "cell_type": "code",
   "execution_count": null,
   "metadata": {
    "collapsed": true
   },
   "outputs": [],
   "source": [
    "# qms, mes, pandas 모두 import.\n",
    "import qms\n",
    "import mes"
   ]
  },
  {
   "cell_type": "code",
   "execution_count": null,
   "metadata": {
    "collapsed": true
   },
   "outputs": [],
   "source": [
    "# 예제2) Cpk Trend 구하기 \n",
    "\n",
    "# 대상 : RC40 HC \n",
    "\n",
    "# 기간 : 17년 월 별 Cpk Trend\n",
    "\n",
    "# 물성 : USL, LSL 있는 모든 물성 값\n",
    "\n",
    "# 출력 : xlsx 파일"
   ]
  },
  {
   "cell_type": "code",
   "execution_count": null,
   "metadata": {
    "collapsed": true
   },
   "outputs": [],
   "source": [
    "\"\"\"1개 예제 학습\"\"\"\n",
    "data = qms.lqms.read_data('CC','RC40HC','20170101','20170131', 'Glass 점착력')\n",
    "Cpk = qms.Cpk(data)"
   ]
  },
  {
   "cell_type": "code",
   "execution_count": null,
   "metadata": {
    "collapsed": true
   },
   "outputs": [],
   "source": [
    "\"\"\"월 별 모든 물성 확인\"\"\"\n",
    "result = []\n",
    "\n",
    "months = [i for i in range(1,6)]\n",
    "for month in months:\n",
    "    data = qms.lqms.read_data('CC','RC40HC','20170{}01'.format(month), '20170{}31'.format(month))\n",
    "    data = data.dropna(subset = ['LSL','USL'])\n",
    "    properties = data['물성'].drop_duplicates()\n",
    "    for item in properties:\n",
    "        try:\n",
    "            Cpk = qms.Cpk(data[data['물성'] == item])\n",
    "            result.append([month, item, Cpk])\n",
    "        except:\n",
    "            continue        "
   ]
  }
 ],
 "metadata": {
  "kernelspec": {
   "display_name": "Python 3",
   "language": "python",
   "name": "python3"
  },
  "language_info": {
   "codemirror_mode": {
    "name": "ipython",
    "version": 3
   },
   "file_extension": ".py",
   "mimetype": "text/x-python",
   "name": "python",
   "nbconvert_exporter": "python",
   "pygments_lexer": "ipython3",
   "version": "3.5.2"
  }
 },
 "nbformat": 4,
 "nbformat_minor": 0
}
