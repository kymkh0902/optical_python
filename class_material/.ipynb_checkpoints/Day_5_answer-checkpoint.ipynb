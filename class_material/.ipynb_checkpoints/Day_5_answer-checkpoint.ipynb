{
 "cells": [
  {
   "cell_type": "code",
   "execution_count": null,
   "metadata": {
    "collapsed": false
   },
   "outputs": [],
   "source": [
    "# 예제1) Dataframe를 생성해봅시다.\n",
    "\n",
    "#1. pandas를 import합니다.\n",
    "import pandas as pd\n",
    "#2. 3*2(row*column) 형태의 dataframe 을 만들겠습니다.\n",
    "data = pd.DataFrame(data = [['RC',30],['XT',40],['ZT',50]], columns = ['grade','qty'])\n",
    "#3. column명은 grade, qty로 명명해주고 index는 따로 추가하지 않습니다. 내용은 각자 채워주세요"
   ]
  },
  {
   "cell_type": "code",
   "execution_count": null,
   "metadata": {
    "collapsed": false
   },
   "outputs": [],
   "source": [
    "# 예제2) 자동검사기 파일을 불러옵니다.\n",
    "\n",
    "names = ['날짜','Lot','Frame수', '카메라 번호', '사용안함', 'INDEX', '불량유형','X','y', \n",
    "         'X-Size','Y-Size', '불량이미지','사용안함','사용안함','Value','흑점','조명밝기']\n",
    "\n",
    "#0. 현재 작업 폴더를 확인하고 optical_python 내 files라는 폴더를 작업 폴더로 만들어주세요. \n",
    "import os\n",
    "os.getcwd()\n",
    "os.chdir('../dataset')\n",
    "\n",
    "#1. files라는 폴더 내에 20160715DC02017.txt 파일을 read_csv 함수를 이용해서 불러와보세요. (변수 : data_1)\n",
    "data_1 = pd.read_csv('20160715DC02017.txt', sep = '\\t', names = names)\n",
    "\n",
    "#2. files라는 폴더 내에 20160715DC02017.xlsx 파일을 read_excel 함수를 이용해서 불러와보세요. (변수 : data)\n",
    "data = pd.read_excel('20160715DC02017.xlsx', header = None, names = names)"
   ]
  },
  {
   "cell_type": "code",
   "execution_count": null,
   "metadata": {
    "collapsed": false
   },
   "outputs": [],
   "source": [
    "# 예제3) 위에서 불러온 data라는 변수의 기본적인 내용 확인 과정입니다.\n",
    "\n",
    "#1. data의 상단 10줄을 head라는 함수를 사용해서 출력해보세요 \n",
    "data.head()\n",
    "\n",
    "#2. data의 기본 통계 수치를 describe 함수를 사용해서 출력해보세요 \n",
    "data.describe()\n",
    "#3. data의 전체 열, 3~행을 iloc을 사용해서 출력해보세요. \n",
    "data.iloc[:, 3:]\n",
    "\n",
    "#4. data의 1열 1행의 값에 숫자 3을 대입해보세요. 값이 바뀌나요? \n",
    "data.iloc[0,0] = 3 "
   ]
  },
  {
   "cell_type": "code",
   "execution_count": null,
   "metadata": {
    "collapsed": true
   },
   "outputs": [],
   "source": [
    "# 예제4) 행, 열 선택을 통한 원하는 데이터만 가져오기\n",
    "\n",
    "#1. 위에서 불러온 data 변수에서 '불량유형' 행만 선택해서 나타내봅니다.\n",
    "data['불량유형']\n",
    "#2. '불량유형' 행의 값이 2305인 조건을 걸어보고, data 내 해당 조건을 만족하는 값들만 나타내보고 변수 data_2305에 저장합니다. \n",
    "data_2305 = data[data['불량유형'] == 2305"
   ]
  },
  {
   "cell_type": "code",
   "execution_count": null,
   "metadata": {
    "collapsed": true
   },
   "outputs": [],
   "source": [
    "names = ['날짜','Lot','Frame수', '카메라 번호', '사용안함', 'INDEX', '불량유형','X','y', \n",
    "         'X-Size','Y-Size', '불량이미지','사용안함','사용안함','Value','흑점','조명밝기']\n",
    "\n",
    "# 예제5) 데이터 가공\n",
    "\n",
    "#1. 위에서 불러온 검사기 data_2305에서 필요한 행만 남기고 지울 예정입니다. \n",
    "  # 행 이름(names)을 참고하셔서 '불량유형','X','y','X-Size','Y-Size','Value'를 제외한 행을 다 삭제해주세요 \n",
    "data_2305 = data_2305.drop(['날짜','Lot','Frame수','카메라 번호','사용안함','INDEX','불량이미지','흑점','조명밝기'], axis = 1)    \n",
    "    \n",
    "#2. data_2305에 na값들을 넣어놨습니다. 아래 코드를 실행해서 값을 확인하고 다 지워보고(dropna) 원하시는 값으로 채워보세요 (fillna)\n",
    "\n",
    "data_2305[data_2305.isnull().any(axis=1)] # null 값이 있는 열을 나타내줍니다. \n",
    "\n",
    "data_2305.fillna(value = 0, inplace = True)\n",
    "\n",
    "#3. data_2305의 mean/std/min/max/corr을 확인해보세요 \n",
    "data_2305.mean()\n",
    "data_2305.std()\n",
    "data_2305.min()\n",
    "data_2305.max()\n",
    "data_2305.corr()\n",
    "\n",
    "#4. data_2305의 'Value' 행을 값의 범위 별로 나눈 후에 새로운 'cut'이라는 행에 저장하겠습니다. \n",
    "  # max로 최대값을 확인하신 후에 0부터 최대값까지 원하시는 만큼 쪼개보세요. 매칭할 label은 '0~30', '30~60'와 같은 범위로 나타내주세요.\n",
    "data_2305['cut'] = pd.cut(data_2305['Value'], bins = [0, 40, 80, 120, 160, 200],\n",
    "                          labels = ['0~40','40~80','80~120','120~160','160~200'])"
   ]
  }
 ],
 "metadata": {
  "anaconda-cloud": {},
  "kernelspec": {
   "display_name": "Python [default]",
   "language": "python",
   "name": "python3"
  },
  "language_info": {
   "codemirror_mode": {
    "name": "ipython",
    "version": 3
   },
   "file_extension": ".py",
   "mimetype": "text/x-python",
   "name": "python",
   "nbconvert_exporter": "python",
   "pygments_lexer": "ipython3",
   "version": "3.5.2"
  }
 },
 "nbformat": 4,
 "nbformat_minor": 1
}
