{
 "cells": [
  {
   "cell_type": "code",
   "execution_count": 10,
   "metadata": {
    "collapsed": false
   },
   "outputs": [],
   "source": [
    "# 예제1) Dataframe를 생성해봅시다.\n",
    "\n",
    "#1. pandas를 import합니다.\n",
    "import pandas as pd\n",
    "#2. 3*2(row*column) 형태의 dataframe 을 만들겠습니다.\n",
    "data = pd.DataFrame(data = [['RC',30],['XT',40],['ZT',50]], columns = ['grade','qty'])\n",
    "#3. column명은 grade, qty로 명명해주고 index는 따로 추가하지 않습니다. 내용은 각자 채워주세요"
   ]
  },
  {
   "cell_type": "code",
   "execution_count": 14,
   "metadata": {
    "collapsed": false
   },
   "outputs": [],
   "source": [
    "# 예제2) 자동검사기 파일을 불러옵니다.\n",
    "\n",
    "names = ['날짜','Lot','Frame수', '카메라 번호', '사용안함', 'INDEX', '불량유형(10진수)','X','y', \n",
    "         'X-Size','Y-Size', '불량이미지','사용안함','사용안함','Value','흑점','조명밝기']\n",
    "\n",
    "#0. 현재 작업 폴더를 확인하고 optical_python 내 files라는 폴더를 작업 폴더로 만들어주세요. \n",
    "import os\n",
    "os.getcwd()\n",
    "os.chdir('../files')\n",
    "\n",
    "#1. files라는 폴더 내에 20160715DC02017.txt 파일을 read_csv 함수를 이용해서 불러와보세요. (변수 : data)\n",
    "data = pd.read_csv('20160715DC02017.txt', sep = '\\t', names = names)\n",
    "\n",
    "#2. files라는 폴더 내에 20160715DC02017.xlsx 파일을 read_excel 함수를 이용해서 불러와보세요. (변수 : data_2)\n",
    "data_1 = pd.read_excel('20160715DC02017.xlsx', header = None, names = names)"
   ]
  },
  {
   "cell_type": "code",
   "execution_count": null,
   "metadata": {
    "collapsed": true
   },
   "outputs": [],
   "source": [
    "# 예제3) 위에서 불러온 data라는 변수의 기본적인 내용 확인 과정입니다.\n",
    "\n",
    "#1. data의 상단 10줄을 head라는 함수를 사용해서 출력해보세요 \n",
    "data.head()\n",
    "\n",
    "#2. data의 기본 통계 수치를 describe 함수를 사용해서 출력해보세요 \n",
    "data.describe()\n",
    "#3. data의 전체 열, 3~행을 iloc을 사용해서 출력해보세요. \n",
    "data.iloc[:, 3:]\n",
    "\n",
    "#4. data의 1열 1행의 값에 숫자 3을 대입해보세요. 값이 바뀌나요? \n",
    "data.iloc[0,0] = 3 "
   ]
  }
 ],
 "metadata": {
  "anaconda-cloud": {},
  "kernelspec": {
   "display_name": "Python [default]",
   "language": "python",
   "name": "python3"
  },
  "language_info": {
   "codemirror_mode": {
    "name": "ipython",
    "version": 3
   },
   "file_extension": ".py",
   "mimetype": "text/x-python",
   "name": "python",
   "nbconvert_exporter": "python",
   "pygments_lexer": "ipython3",
   "version": "3.5.2"
  }
 },
 "nbformat": 4,
 "nbformat_minor": 1
}
