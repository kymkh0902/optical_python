{
 "cells": [
  {
   "cell_type": "markdown",
   "metadata": {},
   "source": [
    "# Day 2 예제 답"
   ]
  },
  {
   "cell_type": "code",
   "execution_count": 6,
   "metadata": {
    "collapsed": false
   },
   "outputs": [
    {
     "data": {
      "text/plain": [
       "'C:\\\\Users\\\\Whi Kwon\\\\Documents\\\\GitHub\\\\optical_python\\\\Class'"
      ]
     },
     "execution_count": 6,
     "metadata": {},
     "output_type": "execute_result"
    }
   ],
   "source": [
    "# 예제1) os package에서 getcwd라는 함수를 import해보자. \n",
    "from os import getcwd\n",
    "# 예제2) import한 getcwd를 실행시켜보자\n",
    "getcwd()"
   ]
  },
  {
   "cell_type": "code",
   "execution_count": 9,
   "metadata": {
    "collapsed": false
   },
   "outputs": [],
   "source": [
    "# 예제3) OS package 전체를 import한 후에 현재 작업 폴더를 Secure Folder\\Github\\optical_python 으로 설정해보세요\n",
    "import os\n",
    "os.chdir('C:\\\\Users\\\\Whi Kwon\\\\Documents\\\\GitHub\\\\optical_python\\\\Class')\n",
    "# 예제4) 현재 작업 폴더에 'class_material' 이라는 폴더를 만들어보세요\n",
    "os.makedirs('class_material')"
   ]
  },
  {
   "cell_type": "code",
   "execution_count": 11,
   "metadata": {
    "collapsed": false
   },
   "outputs": [
    {
     "data": {
      "text/plain": [
       "3"
      ]
     },
     "execution_count": 11,
     "metadata": {},
     "output_type": "execute_result"
    }
   ],
   "source": [
    "# 예제5) 변수 a,b를 갖는 Add라는 이름을 갖는 함수를 만듭니다. 함수 내에 a와 b를 더해서 c에 저장합니다. 그리고 c 값을 return 해줍니다.\n",
    "\n",
    "# 위에서 완성한 Add라는 함수에 1, 2 값을 넣어서 결과를 봅시다. \n",
    "\n",
    "def Add(a,b):\n",
    "    c = a+b\n",
    "    return(c)\n",
    "\n",
    "Add(1,2)"
   ]
  },
  {
   "cell_type": "code",
   "execution_count": 15,
   "metadata": {
    "collapsed": false
   },
   "outputs": [
    {
     "name": "stdout",
     "output_type": "stream",
     "text": [
      "10 18\n"
     ]
    }
   ],
   "source": [
    "# 예제6) if문을 학습해봅니다. \n",
    "\n",
    "#1. n_polarizer_1, n_polarizer_2에 각각 10, 20을 대입합니다.\n",
    "n_polarizer_1, n_polarizer_2 = 10, 20\n",
    "#2. 위 두 변수의 값을 비교해서 같지 않을 경우 n_polarizer_2에서 2를 빼줍니다. \n",
    "if n_polarizer_1 != n_polarizer_2:\n",
    "    n_polarizer_2 = n_polarizer_2 - 2\n",
    "#3. 두 값을 출력해봅니다. \n",
    "    print(n_polarizer_1, n_polarizer_2)"
   ]
  },
  {
   "cell_type": "code",
   "execution_count": 16,
   "metadata": {
    "collapsed": false
   },
   "outputs": [
    {
     "name": "stdout",
     "output_type": "stream",
     "text": [
      "0\n",
      "2\n",
      "4\n",
      "6\n",
      "8\n"
     ]
    }
   ],
   "source": [
    "# 예제7) for문, if문을 학습해봅니다.\n",
    "\n",
    "#1 0~9까지의 숫자 중에서 (range함수 사용하세요)\n",
    "for num in range(0,9):\n",
    "#2 2의 배수 (2로 나눠서 0)인 값만\n",
    "    if num%2 == 0:\n",
    "#3 출력합니다. \n",
    "        print(num)"
   ]
  }
 ],
 "metadata": {
  "anaconda-cloud": {},
  "kernelspec": {
   "display_name": "Python 3",
   "language": "python",
   "name": "python3"
  },
  "language_info": {
   "codemirror_mode": {
    "name": "ipython",
    "version": 3
   },
   "file_extension": ".py",
   "mimetype": "text/x-python",
   "name": "python",
   "nbconvert_exporter": "python",
   "pygments_lexer": "ipython3",
   "version": "3.5.2"
  }
 },
 "nbformat": 4,
 "nbformat_minor": 1
}
