{
 "cells": [
  {
   "cell_type": "markdown",
   "metadata": {},
   "source": [
    "# Day 9\n",
    "\n",
    "***\n",
    "###  학습 목표 \n",
    "\n",
    "#### 1) 추가 패키지 Cloud 내 설치\n",
    "1. 그래프 패키지 : seaborn, plotly\n",
    "2. notebook 업그레이드 : nbformat, notebook\n",
    "3. 데이터베이스 연결 : pyodbc\n",
    "\n",
    "#### 2) 모듈 활용 방법\n",
    "1. aoi \n",
    "2. qms \n",
    "3. mes "
   ]
  },
  {
   "cell_type": "markdown",
   "metadata": {},
   "source": [
    "***\n",
    "### 패키지 추가 설치\n",
    "  1. seaborn : 통계 그래프 \n",
    "  2. plotly : Interactive 그래프\n",
    "  3. pyodbc : 데이터베이스 연결 \n",
    "  4. nbformat : jupyter upgrade\n",
    "  5. notebook : jupyter upgrade\n",
    " \n",
    " \n",
    "  files 내 설치하려고 하는 파일을 C:\\ 경로에 옮겨주고 cmd 창을 켜서 cd C:\\ 를 입력해서 작업 폴더를 변경합니다.  \n",
    "  - whl 파일 설치 방법 : pip install [설치 파일명]\\\n",
    "   <img src=\"../pictures/install.PNG\"> <br></br>\n",
    "  - gz(zip)파일 설치 방법 : 압축을 푼 후에 cd [폴더명], 경로를 변경한 후 python setup.py install \n",
    "   <img src=\"../pictures/install(2).PNG\"> <br></br>\n",
    " "
   ]
  },
  {
   "cell_type": "markdown",
   "metadata": {},
   "source": [
    "***\n",
    "### 모듈 활용 방법 \n",
    "\n",
    "#### 1) aoi  \n",
    " - 내용 : 자동검사기 데이터 받아서 분석, 시각화에 활용할 수 있는 모듈\n",
    " - class \n",
    " \n",
    "     1) preprocessing : 데이터 전처리 진행\n",
    "     \n",
    "     2) output : 데이터 분석, 결과값 출력 \n",
    "     \n",
    "     3) plot : seaborn, matplotlib를 이용한 그래프 출력 \n",
    "     \n",
    "     4) i_plot : plotly를 이용한 그래프 출력\n",
    "     \n",
    "     \n",
    "- function \n",
    "\n",
    "    1) 공통\n",
    "        - read_data : 데이터 불러오기 (DAS)\n",
    "\n",
    "        - read_lot_info : lot 정보 불러오기(폭, 길이)\n",
    "\n",
    "        - chip_qty : 재단 시 칩 개수 불러오기\n",
    "\n",
    "        - division : 원단을 chip으로 잘랐을 때 chip 번호 추가하기 \n",
    "    \n",
    "    2) preprocessing \n",
    "        - base : 데이터 중 원하는 불량번호만 불러오기 \n",
    "        \n",
    "        - slitting : 슬리팅 진행 시 데이터 2개로 분할하기\n",
    "        \n",
    "    3) output\n",
    "        - ratio : 원단 불량율 계산하기\n",
    "        \n",
    "        - couting : size, valaue 조건에 맞는 마킹 수 계산하기\n",
    "        \n",
    "        - markinginfo : 재단 시 칩 번호 별 마킹 종류, value, size 확인하기\n",
    "        \n",
    "    4) plot\n",
    "        - scatter : 자동검사기 맵 출력\n",
    "        \n",
    "        - heatmap : 불량 size, value 조건 별 마킹 수량 heatmap 출력\n",
    "        \n",
    "    5) i_plot    \n",
    "        - scatter : 자동검사기 맵 출력 "
   ]
  },
  {
   "cell_type": "markdown",
   "metadata": {},
   "source": [
    "#### 2) qms  \n",
    " - 내용 : qms 데이터를 불러와서 분석할 수 있는 모듈\n",
    " - class \n",
    " \n",
    "     "
   ]
  }
 ],
 "metadata": {
  "anaconda-cloud": {},
  "kernelspec": {
   "display_name": "Python [default]",
   "language": "python",
   "name": "python3"
  },
  "language_info": {
   "codemirror_mode": {
    "name": "ipython",
    "version": 3
   },
   "file_extension": ".py",
   "mimetype": "text/x-python",
   "name": "python",
   "nbconvert_exporter": "python",
   "pygments_lexer": "ipython3",
   "version": "3.5.2"
  }
 },
 "nbformat": 4,
 "nbformat_minor": 1
}
