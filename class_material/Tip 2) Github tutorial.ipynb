{
 "cells": [
  {
   "cell_type": "markdown",
   "metadata": {},
   "source": [
    "# 참고. Github 튜토리얼\n",
    "***"
   ]
  },
  {
   "cell_type": "markdown",
   "metadata": {},
   "source": [
    "### Github 기초 문법\n",
    "\n",
    "저도 강의 시작하면서 Github를 사용하기 시작해서 제가 쓴 것들이 100% 맞다고 보장은 못합니다. 하시다가 에러가 나거나 안 되는 부분이 있으시면 \n",
    "피드백 주시면 업데이트 하겠습니다.\n",
    "\n",
    "참조 사이트 : (https://rogerdudler.github.io/git-guide/index.ko.html), (http://learnbranch.urigit.com/)\n",
    "\n",
    "\n",
    "1. **Git 로컬 저장소 구조** : 아래와 같이 3개의 구조로 이루어져 있으며 1) 실제 작업 폴더, 2) 준비 영역, 3) 최종 확정본을 나타냅니다.\n",
    "\n",
    " <img src=\"../pictures/Git_tutorial/Git-(1).PNG\"> <br></br>\n",
    " \n",
    "2. **git add <파일 이름> 혹은 .** : git의 기본 작업 흐름(위 사진)에서 첫 단계에 해당됩니다. 준비 영역에 파일을 add 해줍니다.\n",
    "3. **git commit -m \"확정본에 대한 설명\" ** : 실제로 변경된 내용을 확정하기 위해서 commit을 사용합니다. \n",
    "4. **git push origin <branch 이름>** : commit이 끝난 파일은 HEAD에 머물고 있습니다. 변경 내용을 원격 서버에 올려주기 위해서는 push를 해주어야 합니다.\n",
    "5. **git pull origin master/branch 이름** : 로컬 저장소에 원격 서버 내용을 업데이트하기 위해서는 pull을 해야합니다. \n",
    "\n",
    "*※ 기본적인 순서는 add → commit → push → pull 순서입니다. (내 폴더의 변경 내용을 원격 서버에 올리고, 원격 서버와 다른 점을 업데이트합니다.)*\n",
    "\n",
    "*항상 개인적으로 만드신 파일은 원격 서버 개인 branch에 push해주시고 폴더의 다른 내용들은 원격 서버(master) 내용과 같도록 pull해주세요.*\n"
   ]
  },
  {
   "cell_type": "markdown",
   "metadata": {},
   "source": [
    "***\n",
    "### Github의 목적\n",
    "\n",
    "Github의 가장 중요한 것 중 하나인 pull request를 아래에 소개해드립니다. \n",
    "\n",
    "앞으로 master 폴더는 수업 중, 수업 이후에 계속해서 다들 만들어 놓은 코드들을 보관하는 역할을 할 것입니다. 근데 개개인의 프로그래밍 실력도 \n",
    "다르고 혼자서 만드는 능력도 한계가 있기 때문에 아이디어가 있다면 내용을 공유하면서 같이 만드는 환경이 필요합니다. \n",
    "\n",
    "이를 가능하게 해줄 수 있는 게 **pull request** 입니다. \n",
    "\n",
    "아래 그림의 New pull request를 클릭하시면 아래처럼 master와 branch의 내용을 비교할 수 있습니다. 그리고 다른 부분에 대해서 올려달라고 요청을 할 수 있는 것이죠. master는 기본적으로 모두 공유하고 있을 내용이기 때문에 **본인이 프로젝트를 추가하고 싶다.** 하면 **pull request** 해주시면 모두가 보고 공유하면서 다 같이 코드를 짜고 업로드를 할 수 있습니다. \n",
    "\n",
    "이는 장기적으로 매우 중요합니다. 개개인의 코드 실력을 위해서도 필요하고 조직의 발전을 위해서도 매우 중요한 사항이라고 생각합니다.\n",
    "\n",
    "아이디어가 있으시면 많이 많이 공유해주세요.  \n",
    "\n",
    "\n",
    "- pull request (1)\n",
    "\n",
    " <img src=\"../pictures/Git_tutorial/Git-(2).PNG\"> <br></br>\n",
    "\n",
    "\n",
    "- pull request (2)\n",
    "\n",
    " <img src=\"../pictures/Git_tutorial/Git-(3).PNG\"> <br></br>\n"
   ]
  },
  {
   "cell_type": "code",
   "execution_count": null,
   "metadata": {
    "collapsed": true
   },
   "outputs": [],
   "source": []
  }
 ],
 "metadata": {
  "anaconda-cloud": {},
  "kernelspec": {
   "display_name": "Python [default]",
   "language": "python",
   "name": "python3"
  },
  "language_info": {
   "codemirror_mode": {
    "name": "ipython",
    "version": 3
   },
   "file_extension": ".py",
   "mimetype": "text/x-python",
   "name": "python",
   "nbconvert_exporter": "python",
   "pygments_lexer": "ipython3",
   "version": "3.5.2"
  }
 },
 "nbformat": 4,
 "nbformat_minor": 1
}
