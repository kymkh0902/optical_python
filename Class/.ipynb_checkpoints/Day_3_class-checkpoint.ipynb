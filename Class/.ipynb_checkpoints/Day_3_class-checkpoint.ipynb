{
 "cells": [
  {
   "cell_type": "markdown",
   "metadata": {},
   "source": [
    "# Day 3\n",
    "***\n",
    "###  학습 목표 \n",
    "\n",
    "#### 1) 기초 문법 학습\n",
    "\n",
    "  - 데이터 구조\n",
    "      + 내장 : list, tuple, dictionary 등\n",
    "      + 외장 : array, dataframe 등 \n",
    "      \n",
    "      \n",
    "  - 내장 함수\n",
    "      + lambda\n",
    "      + apply\n",
    "      + len\n",
    "      + int/float\n",
    "      + str\n",
    "      + max\n",
    "      + min \n",
    "      + range\n",
    "      + type\n",
    "      + enumerate\n",
    "      + zip\n",
    "      "
   ]
  },
  {
   "cell_type": "markdown",
   "metadata": {},
   "source": [
    "***\n",
    "### 기초 문법\n",
    "\n",
    "- **데이터 구조** \n",
    "    1. 내장 : 파이썬은 list, tuple, dictionary 등의 데이터 구조를 갖습니다. 데이터를 담는 용기의 종류가 여러가지 있구나 라고 생각하세요.\n",
    "        - list : [] 안에 데이터를 입력합니다. 변수를 선언한 후에 추가 데이터를 입력하실 경우 append함수를 사용해줍니다. 데이터 범위 설정의 경우 data[a:b]의 형식으로 선택합니다.\n",
    "        ```python\n",
    "        num = [1,2,3,4]\n",
    "        num.append(5)\n",
    "        num[1:4]\n",
    "        ```\n",
    "        - dict : {} 안에 데이터를 입력합니다. 안에 들어가는 데이터는 key, value의 쌍으로 이루어지며 key:value의 형태로 입력됩니다.\n",
    "        추가 데이터를 입력하실 경우 update함수를 사용해줍니다. 데이터 범위 설정의 경우 data['key']의 형식으로 선택합니다. \n",
    "        ```python\n",
    "        num = {'one' : 1, 'two' : 2, 'three' : 3}\n",
    "        num.update({'four' : 4})\n",
    "        num['one']\n",
    "        ```\n",
    "    2. 외장 : Package들 중에 필요성에 따라 데이터 구조를 추가적으로 지원하는 형식들이 있습니다. numpy의 array, pandas의 dataframe 이 대표적인 예입니다. (이 후 pandas 학습 시에 학습 예정입니다.)    "
   ]
  },
  {
   "cell_type": "code",
   "execution_count": 23,
   "metadata": {
    "collapsed": true
   },
   "outputs": [],
   "source": [
    "# 예제1) list를 만들어봅시다.\n",
    "\n",
    "#1. 3개의 grade를 가진 grades라는 이름의 list를 생성합니다. \n",
    "\n",
    "#2. grades(list)에 1개 grade를 추가합니다. \n",
    "\n",
    "#3. grades(list) 내의 값 중 1, 2번째 값만 print합니다. "
   ]
  },
  {
   "cell_type": "code",
   "execution_count": 24,
   "metadata": {
    "collapsed": true
   },
   "outputs": [],
   "source": [
    "# 예제 2) dict를 만들어봅시다.\n",
    "\n",
    "#1. 3개의 grade(key)와 그에 해당되는 재고(value)를 가진 stock이라는 dict를 생성합니다.\n",
    "\n",
    "#2. stock(dict)에 1개 grade, 그에 해당되는 재고를 추가합니다.\n",
    "\n",
    "#3. stock(dict) 내의 값 중 원하는 grade의 재고를 print해봅니다."
   ]
  },
  {
   "cell_type": "markdown",
   "metadata": {},
   "source": [
    "- **내장 함수**\n",
    "\n",
    "    1. lambda : 함수를 축약해서 사용 한다고 보면 됩니다. def ~ 를 입력하지 않아도 간편하게 함수 역할을 할 수 있습니다.\n",
    "    ```python\n",
    "    sum = lambda a, b : a + b\n",
    "    sum(1,3)\n",
    "    ```    \n",
    "    2. apply : 함수, 데이터를 받으며 데이터를 함수에 맞게 가공해서 새로운 데이터로 변환합니다. (예제는 이 후에)\n",
    "    3. len : 데이터 구조 안에 있는 데이터의 수를 반환해줍니다. (단일 문자의 경우 단위 문자 개수를 반환합니다.)\n",
    "    ```python\n",
    "    alp = ['a','b','c']\n",
    "    len(alp)\n",
    "    len(alp[0])\n",
    "    ```\n",
    "    4. int/float : 정수형/소수형으로 데이터를 변환합니다. 숫자 모양을 띈 문자('1', '2')도 해당 데이터 형태로 변환됩니다. \n",
    "    ```python\n",
    "    one = '1'\n",
    "    int(one)\n",
    "    float(one)\n",
    "    ```\n",
    "    5. str : 문자형으로 데이터를 변환합니다. \n",
    "    ```python\n",
    "    one = 1\n",
    "    str(one)\n",
    "    ```\n",
    "    6. max/min : 데이터 내 최대/최소값을 반환합니다.\n",
    "    ```python\n",
    "    num = [1, 2, 3]\n",
    "    max(num)\n",
    "    min(num)\n",
    "    ```\n",
    "    7. range : 숫자 a ~ b(설정 필요)까지의 범위의 데이터를 가집니다.\n",
    "    ```python\n",
    "    [i for i in range(0,10)]\n",
    "    [i for i in range(10)]\n",
    "    ```\n",
    "    8. type : 데이터 type을 반환합니다.\n",
    "    ```python\n",
    "    a = 1\n",
    "    b = '1'\n",
    "    type(a), type(b)\n",
    "    ```\n",
    "    9. enumerate : list, tuple 등의 데이터를 열거할 때(iteration) 데이터 번호를 매겨주는 역할을 해줍니다.  \n",
    "    ```python\n",
    "    a = [1,2,3,4]\n",
    "    for i, j in enumerate(a):\n",
    "            print(i, j)\n",
    "    ```\n",
    "    10. zip : 2개 이상의 데이터 구조를 묶어줍니다. 구조들을 열거할 때 사용합니다.\n",
    "    ```python\n",
    "    a = [1,2,3,4]\n",
    "    b = range(len(a))\n",
    "    for i, j in zip(a,b):\n",
    "            print(i,j)\n",
    "    ```"
   ]
  },
  {
   "cell_type": "code",
   "execution_count": null,
   "metadata": {
    "collapsed": true
   },
   "outputs": [],
   "source": []
  }
 ],
 "metadata": {
  "kernelspec": {
   "display_name": "Python 3",
   "language": "python",
   "name": "python3"
  },
  "language_info": {
   "codemirror_mode": {
    "name": "ipython",
    "version": 3
   },
   "file_extension": ".py",
   "mimetype": "text/x-python",
   "name": "python",
   "nbconvert_exporter": "python",
   "pygments_lexer": "ipython3",
   "version": "3.5.2"
  }
 },
 "nbformat": 4,
 "nbformat_minor": 0
}
