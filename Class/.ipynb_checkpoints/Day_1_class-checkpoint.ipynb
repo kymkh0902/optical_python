{
 "cells": [
  {
   "cell_type": "markdown",
   "metadata": {},
   "source": [
    "# Day 1\n",
    "\n",
    "###  학습 목표 \n",
    "  1) 프로그래밍(Python)에 대한 기본적인 이해, Jupyter 사용 방법 학습\n",
    "\n",
    "  2) Github를 통한 공유 체계 확립\n",
    "\n",
    "  3) 기초 문법 학습"
   ]
  },
  {
   "cell_type": "markdown",
   "metadata": {},
   "source": [
    "### 문법 외\n",
    "\n",
    "- Python 확장자의 경우 .py / .ipynb 두가지로 저장 가능하며 Spyder에서는 .py를 사용, \n",
    "Jupyter에서 .ipynb 사용함. \n",
    "  \n",
    "  \n",
    "- 기본적으로 script에 입력 후 원할 때 실행, console에 입력과 동시에 실행 방법이 있다. \n",
    "Jupyter에서는 단축키는 Shift + Enter로 Cell 단위로 실행한다.\n",
    "\n",
    "\n",
    "- 위와 같이 긴 설명이나 워드 작업이 필요할 시에는 Markdown을 사용한다. 메뉴에서 **- Cell - Cell Type - Markdown** 으로 변경해주자\n"
   ]
  },
  {
   "cell_type": "code",
   "execution_count": 1,
   "metadata": {
    "collapsed": true
   },
   "outputs": [],
   "source": [
    "# 예제1) Script 생성"
   ]
  },
  {
   "cell_type": "markdown",
   "metadata": {},
   "source": [
    "### 문법 \n",
    "\n",
    "\n",
    "* **print** : 값을 출력할 때 사용한다. 문자의 경우 따옴표(' 또는 \")로 감싸줘야 하며, 숫자는 감싸주지 않아도 된다. \n",
    "\n",
    "```python\n",
    "   print(contents)  \n",
    "```"
   ]
  },
  {
   "cell_type": "code",
   "execution_count": 2,
   "metadata": {
    "collapsed": true
   },
   "outputs": [],
   "source": [
    "# 예제2) Print 출력\n",
    "\n",
    " #1 Hello World를 출력해보세요"
   ]
  },
  {
   "cell_type": "markdown",
   "metadata": {},
   "source": [
    "* **변수** : 특정한 값을 저장하기 위해 사용함. 변수에 들어가는 값으로는 크게 ***숫자***와 ***문자***로 이루어져 있다. \n",
    "\n",
    "\n",
    "* **'='** 기호로 변수에 값을 지정할 수 있으며 입력하는 값은 오른쪽에 위치, 입력 받는 변수의 이름은 왼쪽에 위치한다.\n",
    "  문자 입력 시에는 따옴표(\" 또는 ')로 내용을 감싸줘야합니다.\n",
    "  \n",
    "  ```python\n",
    "  fruit_name = 'apple'\n",
    "  fruit_quantity = 1000\n",
    "  ```"
   ]
  },
  {
   "cell_type": "code",
   "execution_count": 3,
   "metadata": {
    "collapsed": true
   },
   "outputs": [],
   "source": [
    "# 예제3) 변수 할당\n",
    "\n",
    "#1 n_polarizer라는 변수에 숫자 100을 할당하고 print 해보세요\n",
    "    \n",
    "#2 polarizer_grade에 원하는 grade명을 할당하고 print 해보세요 "
   ]
  },
  {
   "cell_type": "markdown",
   "metadata": {},
   "source": [
    "- **주석** : Cell 내에 문법적으로 실행되지 않으며 내용을 설명해주는 주석을 달고 싶을 땐 **#**와 함께 입력해주면 된다.\n",
    "\n",
    "  ```python \n",
    "\n",
    "  fruit_name = 'apple' # 과일 이름은 사과다.\n",
    "  ```"
   ]
  },
  {
   "cell_type": "code",
   "execution_count": 4,
   "metadata": {
    "collapsed": true
   },
   "outputs": [],
   "source": [
    "# 예제4) 주석 달기 \n",
    "\n",
    "#1 예제3의 n_polarizer, polarizer_grade 두개 변수에 해당 내용을 설명해주는 주석을 달아보세요"
   ]
  },
  {
   "cell_type": "markdown",
   "metadata": {},
   "source": [
    "- **연산자** : 부등호 및 사칙연산 기호로 이루어져 있으며 (+, -, /, *, %, <, >, <=, >=) 숫자 연산, 크기 비교 시에 사용한다.  "
   ]
  },
  {
   "cell_type": "code",
   "execution_count": 5,
   "metadata": {
    "collapsed": true
   },
   "outputs": [],
   "source": [
    "# 예제5) 연산자 활용\n",
    "\n",
    "#1 n_polarizer2라는 변수에 50을 할당합니다.\n",
    "\n",
    "#2 n_polarizer와 n_polarizer2 사이에 연산, 크기 비교를 한 후 print 해보세요 (위에 9개 기호를 모두 사용합니다.)"
   ]
  },
  {
   "cell_type": "markdown",
   "metadata": {},
   "source": [
    "- **문장 내 변수 print로 출력하기** : format을 사용하여 문장 내에 변수의 값을 집어넣어 한 번에 출력할 수 있다.\n",
    "\n",
    "```python\n",
    "polarizer_grade = 'RC40 CLR'\n",
    "print('이슈 Grade는 {}입니다.'.format(polarizier_grade))\n",
    "```"
   ]
  },
  {
   "cell_type": "code",
   "execution_count": 6,
   "metadata": {
    "collapsed": true
   },
   "outputs": [],
   "source": [
    "# 예제6 \n",
    "\n",
    "#format와 n_polarizer, polarizer_grade 2개 변수를 사용하여 \"polarizer_grade Grade가 n_polarizer 개 만큼 있습니다.\" 를 출력해보세요."
   ]
  }
 ],
 "metadata": {
  "anaconda-cloud": {},
  "kernelspec": {
   "display_name": "Python [default]",
   "language": "python",
   "name": "python3"
  },
  "language_info": {
   "codemirror_mode": {
    "name": "ipython",
    "version": 3
   },
   "file_extension": ".py",
   "mimetype": "text/x-python",
   "name": "python",
   "nbconvert_exporter": "python",
   "pygments_lexer": "ipython3",
   "version": "3.5.2"
  }
 },
 "nbformat": 4,
 "nbformat_minor": 1
}
