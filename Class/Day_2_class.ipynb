{
 "cells": [
  {
   "cell_type": "markdown",
   "metadata": {},
   "source": [
    "# Day 2\n",
    "\n",
    "###  학습 목표 \n",
    "\n",
    "#### 1) 기초 문법 학습\n",
    "  - Import"
   ]
  },
  {
   "cell_type": "markdown",
   "metadata": {},
   "source": [
    "### 기초 문법\n",
    "\n",
    "- **Import** : Python의 내장 문법을 사용하여 사용하기 편리하게 많은 개발자들이 package를 구축해 놓았습니다. 이를 불러올 때 import를 사용합니다.  \n",
    "\n",
    "     아래와 같이 두 가지 방식으로 import가 가능합니다. 첫 번째 줄은 os라는 package 전체를 불러오는 것, 두 번째 줄은 os라는 package에서 특정 module 혹은 function을 불러오는 방식입니다.\n",
    "\n",
    "    _package_ : 가장 큰 단위, 여러 개의 python script를 포함하는 폴더를 의미한다고 보자.\n",
    "\n",
    "    _module_ : package를 이루는 단위. 각각 1개의 python script로 이루어져 있다. \n",
    "\n",
    "    _function_ : 복잡한 코딩이 필요한 경우 이를 묶어서 하나의 함수로 명명한 후에 쉽게 반복적으로 사용할 수 있도록 한다. \n",
    "\n",
    "```python\n",
    "import os \n",
    "from os import chdir\n",
    "```"
   ]
  },
  {
   "cell_type": "code",
   "execution_count": 8,
   "metadata": {
    "collapsed": true
   },
   "outputs": [],
   "source": [
    "# 예제1) os package에서 getcwd라는 함수를 import해보자. \n",
    "\n",
    "# 예제2) import한 getcwd를 실행시켜보자"
   ]
  },
  {
   "cell_type": "markdown",
   "metadata": {},
   "source": [
    "- OS package : 다양한 운영체제 기능을 다룰 수 있게 해준다. 주요 기능은 아래와 같다.\n",
    "    + chdir : 현재 작업 폴더를 설정한다.\n",
    "    + mkdir : 폴더를 생성한다.\n",
    "    + listdir : 현재 폴더의 파일 명을 list 형식으로 가져온다. \n",
    "    + rename : 파일의 이름을 변경해준다."
   ]
  },
  {
   "cell_type": "code",
   "execution_count": 13,
   "metadata": {
    "collapsed": false
   },
   "outputs": [],
   "source": [
    "# 예제3) OS package 전체를 import한 후에 현재 작업 폴더를 Secure Folder\\Github\\optical_python 으로 설정해보세요"
   ]
  }
 ],
 "metadata": {
  "kernelspec": {
   "display_name": "Python 3",
   "language": "python",
   "name": "python3"
  },
  "language_info": {
   "codemirror_mode": {
    "name": "ipython",
    "version": 3
   },
   "file_extension": ".py",
   "mimetype": "text/x-python",
   "name": "python",
   "nbconvert_exporter": "python",
   "pygments_lexer": "ipython3",
   "version": "3.5.2"
  }
 },
 "nbformat": 4,
 "nbformat_minor": 0
}
