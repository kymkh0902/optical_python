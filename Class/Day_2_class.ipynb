{
 "cells": [
  {
   "cell_type": "markdown",
   "metadata": {},
   "source": [
    "# Day 2\n",
    "***\n",
    "###  학습 목표 \n",
    "\n",
    "#### 1) 기초 문법 학습\n",
    "  - Import\n",
    "  - OS package \n",
    "  - Function\n",
    "  - 제어문\n",
    "      + if\n",
    "      + while\n",
    "      + for\n",
    "   "
   ]
  },
  {
   "cell_type": "markdown",
   "metadata": {},
   "source": [
    "***\n",
    "### 기초 문법\n",
    "\n",
    "- **Import** : Python의 내장 문법을 사용하여 사용하기 편리하게 많은 개발자들이 package를 구축해 놓았습니다. 이를 불러올 때 import를 사용합니다.  \n",
    "\n",
    "     아래와 같이 두 가지 방식으로 import가 가능합니다. 첫 번째 줄은 os라는 package 전체를 불러오는 것, 두 번째 줄은 os라는 package에서 특정 module 혹은 function을 불러오는 방식입니다.\n",
    "     \n",
    "   1. _package_ : 가장 큰 단위, 여러 개의 python script(.py)를 포함하는 폴더를 의미한다고 보세요.\n",
    "\n",
    "   2. _module_ : package를 이루는 단위. 각각 1개의 python script(.py)로 이루어져 있다. \n",
    "\n",
    "   3. _function_ : 복잡한 코딩이 필요한 경우 이를 묶어서 하나의 함수로 명명한 후에 쉽게 반복적으로 사용할 수 있도록 한다. \n",
    "\n",
    "```python\n",
    "import os               # os라는 package를 불러온다(import)\n",
    "from os import chdir    # os라는 package에서(from) chdir이라는 함수를 불러온다(import)\n",
    "```"
   ]
  },
  {
   "cell_type": "code",
   "execution_count": 1,
   "metadata": {
    "collapsed": false
   },
   "outputs": [
    {
     "data": {
      "text/plain": [
       "'C:\\\\Users\\\\LG\\\\Documents\\\\GitHub\\\\optical_python\\\\Class'"
      ]
     },
     "execution_count": 1,
     "metadata": {},
     "output_type": "execute_result"
    }
   ],
   "source": [
    "# 예제1) os package에서 getcwd라는 함수를 import해보자. \n",
    "# 예제2) import한 getcwd를 실행시켜보자.\n",
    "from os import getcwd\n",
    "getcwd()"
   ]
  },
  {
   "cell_type": "markdown",
   "metadata": {},
   "source": [
    "- **OS package** : 다양한 운영체제 기능을 다룰 수 있게 해준다. 주요 기능은 아래와 같다.\n",
    "    + chdir : 현재 작업 폴더를 설정한다.\n",
    "    + mkdir : 폴더를 생성한다.\n",
    "    + listdir : 현재 폴더의 파일 명을 list 형식으로 가져온다. \n",
    "    + rename : 파일의 이름을 변경해준다."
   ]
  },
  {
   "cell_type": "code",
   "execution_count": 12,
   "metadata": {
    "collapsed": false
   },
   "outputs": [],
   "source": [
    "# 예제3) OS package 전체를 import한 후에 현재 작업 폴더를 D:/#.Secure Work Folder/Github/optical_python 으로 설정해보세요\n",
    "# 예제4) 현재 작업 폴더에 'class_material' 이라는 폴더를 만들어보세요\n",
    "\n",
    "path = '/#.Secure Work Folder'"
   ]
  },
  {
   "cell_type": "markdown",
   "metadata": {},
   "source": [
    "- **Function** : 복잡한 코딩을 하나의 함수(function)으로 명명해주어 매번 복잡한 코딩하지 않고 재사용할 수 있도록 해줍니다.\n",
    "```python\n",
    "def func_name(variable1, variable2...):         # func_name:함수명, variable1:변수1, variable2:변수2\n",
    "    result = write_code(variable1, variable2...)  # result에 write_code를 대입한다. \n",
    "    return result                                 # result값을 반환한다.\n",
    "```"
   ]
  },
  {
   "cell_type": "code",
   "execution_count": 16,
   "metadata": {
    "collapsed": true
   },
   "outputs": [],
   "source": [
    "# 예제5) 변수 a,b를 갖는 Add라는 이름을 갖는 함수를 만듭니다. 함수 내에 a와 b를 더해서 c에 저장합니다. 그리고 c 값을 return 해줍니다.\n",
    "\n",
    "# 위에서 완성한 Add라는 함수에 1, 2 값을 넣어서 결과를 봅시다. "
   ]
  },
  {
   "cell_type": "markdown",
   "metadata": {},
   "source": [
    "- **제어문** : if, while, for문이 존재하며 세 제어문을 활용하여 필요한 모든 로직을 구상할 수 있다. (a : 변수, b : 조건, c : 실행) \n",
    "  - if : 만약 ~ a가 b하면 c를 한다 \n",
    "  - while : a가 b할 때까지 c를 한다\n",
    "  - for : ~a에 대해 ~c를 한다.\n",
    "  \n",
    "    1. 예제 1(if) :\n",
    "```python\n",
    "variable = 5                      # 변수의 값에 5를 대입한다.\n",
    "if variable < 10:                 # 변수가 10보다 작다면 (조건)\n",
    "            variable = variable + 1      # 변수에 1을 더해라 \n",
    "else:                             # 변수가 10보다 작지 않으면 (조건)\n",
    "            print(variable)              # 변수를 출력한다.\n",
    "```\n",
    "\n",
    "    2. 예제 2(While) : \n",
    "```python\n",
    "variable = 5                      # 변수의 값에 5를 대입한다. \n",
    "while variable < 10:              # 변수가 10보다 작을 동안(조건) \n",
    "            variable = variable + 1      # 변수에 1을 더해라\n",
    "            print(variable)              # 변수를 출력한다. \n",
    "```\n",
    "\n",
    "    3. 예제 3(for) :\n",
    "```python\n",
    "for variable in range(0, 10):    # 0~10 사이의 범위 안의 값(variable)을\n",
    "            print(variable)             # 출력한다. \n",
    "```"
   ]
  },
  {
   "cell_type": "code",
   "execution_count": 17,
   "metadata": {
    "collapsed": true
   },
   "outputs": [],
   "source": [
    "# 예제6) if문을 학습해봅니다. \n",
    "\n",
    "#1. n_polarizer_1, n_polarizer_2에 각각 10, 20을 대입합니다.\n",
    "\n",
    "#2. 위 두 변수의 값을 비교해서 같지 않을 경우 n_polarizer_2에서 2를 빼줍니다. \n",
    "\n",
    "#3. 두 값을 출력해봅니다. "
   ]
  },
  {
   "cell_type": "code",
   "execution_count": 18,
   "metadata": {
    "collapsed": true
   },
   "outputs": [],
   "source": [
    "# 예제7) for문, if문을 학습해봅니다.\n",
    "\n",
    "#1 0~9까지의 숫자 중에서 (range함수 사용하세요)\n",
    "\n",
    "#2 2의 배수 (2로 나눠서 0)인 값만\n",
    "\n",
    "#3 출력합니다. "
   ]
  }
 ],
 "metadata": {
  "anaconda-cloud": {},
  "kernelspec": {
   "display_name": "Python 3",
   "language": "python",
   "name": "python3"
  },
  "language_info": {
   "codemirror_mode": {
    "name": "ipython",
    "version": 3
   },
   "file_extension": ".py",
   "mimetype": "text/x-python",
   "name": "python",
   "nbconvert_exporter": "python",
   "pygments_lexer": "ipython3",
   "version": "3.5.2"
  }
 },
 "nbformat": 4,
 "nbformat_minor": 0
}
