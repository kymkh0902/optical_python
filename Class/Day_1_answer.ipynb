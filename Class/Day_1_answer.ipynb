{
 "cells": [
  {
   "cell_type": "code",
   "execution_count": 1,
   "metadata": {
    "collapsed": false
   },
   "outputs": [
    {
     "name": "stdout",
     "output_type": "stream",
     "text": [
      "Hello World\n"
     ]
    }
   ],
   "source": [
    "# 예제2 정답)\n",
    "\n",
    "print('Hello World')"
   ]
  },
  {
   "cell_type": "code",
   "execution_count": 2,
   "metadata": {
    "collapsed": false
   },
   "outputs": [
    {
     "name": "stdout",
     "output_type": "stream",
     "text": [
      "100\n",
      "RC40 HC\n"
     ]
    }
   ],
   "source": [
    "# 예제3,4 정답)\n",
    "n_polarizer = 100    # n_polarizer는 편광판 갯수를 나타냄\n",
    "print(n_polarizer)\n",
    "\n",
    "polarizer_grade = 'RC40 HC' # Polarizer_grade는 Grade명을 나타냄 \n",
    "print(polarizer_grade)"
   ]
  },
  {
   "cell_type": "code",
   "execution_count": 3,
   "metadata": {
    "collapsed": false
   },
   "outputs": [
    {
     "name": "stdout",
     "output_type": "stream",
     "text": [
      "150\n",
      "50\n",
      "2.0\n",
      "0\n",
      "False\n",
      "True\n",
      "False\n",
      "True\n"
     ]
    }
   ],
   "source": [
    "# 예제5 정답)\n",
    "n_polarizer2 = 50\n",
    "\n",
    "print(n_polarizer + n_polarizer2)\n",
    "print(n_polarizer - n_polarizer2)\n",
    "print(n_polarizer/n_polarizer2)\n",
    "print(n_polarizer%n_polarizer2)\n",
    "print(n_polarizer<n_polarizer2)\n",
    "print(n_polarizer>n_polarizer2)\n",
    "print(n_polarizer<=n_polarizer2)\n",
    "print(n_polarizer>=n_polarizer2)"
   ]
  },
  {
   "cell_type": "code",
   "execution_count": 4,
   "metadata": {
    "collapsed": false
   },
   "outputs": [
    {
     "name": "stdout",
     "output_type": "stream",
     "text": [
      "RC40 HC Grade가 100개 만큼 있습니다.\n"
     ]
    }
   ],
   "source": [
    "# 예제6 정답)\n",
    "print(\"{} Grade가 {}개 만큼 있습니다.\".format(polarizer_grade, n_polarizer))"
   ]
  },
  {
   "cell_type": "code",
   "execution_count": null,
   "metadata": {
    "collapsed": true
   },
   "outputs": [],
   "source": []
  }
 ],
 "metadata": {
  "kernelspec": {
   "display_name": "Python [default]",
   "language": "python",
   "name": "python3"
  },
  "language_info": {
   "codemirror_mode": {
    "name": "ipython",
    "version": 3
   },
   "file_extension": ".py",
   "mimetype": "text/x-python",
   "name": "python",
   "nbconvert_exporter": "python",
   "pygments_lexer": "ipython3",
   "version": "3.5.2"
  }
 },
 "nbformat": 4,
 "nbformat_minor": 1
}
