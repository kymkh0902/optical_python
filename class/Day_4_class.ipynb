{
 "cells": [
  {
   "cell_type": "markdown",
   "metadata": {},
   "source": [
    "# Day 4\n",
    "***\n",
    "###  학습 목표 \n",
    "\n",
    "#### 2) Python - SQL 서버 연결\n",
    "  - Oracle 설치\n",
    "  - pyodbc package 설치\n",
    "  - DAS : 검사기 데이터\n",
    "  - MES, GOS : Lot 별 생산 정보"
   ]
  },
  {
   "cell_type": "markdown",
   "metadata": {},
   "source": [
    "***\n",
    "### Python - SQL 서버 연결\n",
    "1. **Oracle 설치**\n",
    "    - Oracle 사이트에 접속해서 Licence accept에 동의하고 win32_11gR2_client.zip을 다운 받습니다. 다운로드 누르시면 로그인하라고 나올텐데 \n",
    "    (ID : kymkh0902@hanmail.net, PWD : Rnjsgnl1) 입력해주세요. 비밀번호 대소문자 구분입니다.\n",
    "    \n",
    "    <img src=\"../pictures/database/oracle_install-(1).PNG\"> <br></br>\n",
    "    \n",
    "    - win32_11gR2_client.zip을 cloud 내 C:\\ 경로에 압축을 풀어줍니다. 폴더 내 Setup.exe를 실행시켜 설치를 진행합니다.\n",
    "    - 설치 유형을 관리자로 선택한 후에 다음 누르셔서 설치 쭉 진행하시면 됩니다. 추가 변경 필요 사항 없습니다. \n",
    "    \n",
    "    <img src=\"../pictures/database/oracle_install-(2).PNG\"> <br></br>\n",
    "            \n",
    "2. **pyodbc package 설치**\n",
    "    - files라는 폴더에 pyodbc-4.0.16-cp35-cp35m-win32.whl 이름의 파일을 넣어놨습니다. 해당 파일을 Cloud 내 C:\\ 경로로 옮겨줍니다.     \n",
    "    - command 창을 띄우고(Windows + R, cmd 입력) 경로를 C:\\로 옮겨줍니다. 아래와 같이 pip install pyodbc-4.0.16-cp35-cp35m-win32.whl을 입력하면 설치가 pyodbc package 설치가 완료됩니다.\n",
    "    \n",
    "    <img src=\"../pictures/database/pyodbc_command.PNG\"> <br></br>\n",
    "\n",
    "3. **ODBC접속**\n",
    "    - ODBC는 SQL 이라는 저장소를 모아서 연결할 수 있도록 해주는 tool입니다. 아래 그림의 아이콘을 실행시켜줍니다. \n",
    "        \n",
    "    <img src=\"../pictures/database/odbc-(0).PNG\"> <br></br>\n",
    "   \n",
    "4. **DAS 연결**\n",
    "    - SQL 서버를 ODBC에 등록해봅니다. DAS에 사용되는 SQL 서버는 MSSQL입니다. 아래 그림의 순서대로 진행하시면 됩니다.\n",
    "    \n",
    "    <img src=\"../pictures/database/odbc-(1).PNG\">\n",
    "    <img src=\"../pictures/database/odbc-(2).PNG\">\n",
    "    <img src=\"../pictures/database/odbc-(3).PNG\">\n",
    "    <img src=\"../pictures/database/odbc-(4).PNG\">\n",
    "    <img src=\"../pictures/database/odbc-(5).PNG\"> <br></br>\n",
    "    \n",
    "5. **MES, GOS 연결**\n",
    "    - MES, GOS 서버를 ODBC에 등록해봅니다. 사용되는 SQL 서버는 Oracle Client입니다. 아래 그림의 순서대로 진행하시면 됩니다.\n",
    "    \n",
    "    <img src=\"../pictures/database/odbc-(6).PNG\">\n",
    "            \n",
    "        - **MES**\n",
    "        \n",
    "            <img src=\"../pictures/database/odbc-(7).PNG\">\n",
    "             \n",
    "        - **GOS**\n",
    "\n",
    "            <img src=\"../pictures/database/odbc-(8).PNG\">\n"
   ]
  },
  {
   "cell_type": "markdown",
   "metadata": {},
   "source": [
    "### 설치가 끝났으면 이제 pyodbc package와 python에서 SQL에 접근할 수 있는지 접속해봅시다."
   ]
  },
  {
   "cell_type": "code",
   "execution_count": null,
   "metadata": {
    "collapsed": false
   },
   "outputs": [],
   "source": [
    "# pyodbc package import하기\n",
    "import pyodbc \n",
    "# 접속 확인을 위해 pandas도 import해줍시다.\n",
    "import pandas as pd"
   ]
  },
  {
   "cell_type": "code",
   "execution_count": null,
   "metadata": {
    "collapsed": false
   },
   "outputs": [],
   "source": [
    "# pyodbc를 통해 SQL서버 접속하기 \n",
    "\n",
    "# DAS 접속\n",
    "db1 = pyodbc.connect(\n",
    "    r'DRIVER={SQL Server};'\n",
    "    r'SERVER=165.244.114.87;'\n",
    "    r'DATABASE=LGCOPTMP;'\n",
    "    r'UID=sa;'\n",
    "    r'PWD=@admin123'\n",
    "    )\n",
    "\n",
    "# MES 접속\n",
    "db2 = pyodbc.connect(\n",
    "    r'DRIVER={Oracle in OraClient11g_home1};'\n",
    "    r'DBQ=iepcs;'\n",
    "    r'UID=iepcs_view;'\n",
    "    r'PWD=viewdb7388;'   \n",
    "    )\n",
    "\n",
    "# GOS 접속\n",
    "db3 = pyodbc.connect(\n",
    "    r'DRIVER={Oracle in OraClient11g_home1};'\n",
    "    r'DBQ=iegosp;'\n",
    "    r'UID=iegos_view;'\n",
    "    r'PWD=viewdb7388;'               \n",
    "    )\n"
   ]
  },
  {
   "cell_type": "code",
   "execution_count": null,
   "metadata": {
    "collapsed": true
   },
   "outputs": [],
   "source": [
    "# DAS 연결 확인 : 20170512CC01001 검사기 Data 불러오기 \n",
    "data = pd.read_sql_query(\"SELECT a.REMARK , b.UNIQUE_LOT_NO, CAMERA_NO, MAX_SIZE, MIN_SIZE, V_VLAUE, \\\n",
    "                         DEFECT_TYPE_CODE, FAULT_XPOS, FAULT_YPOS  from LAS_DATA a, LAS_MASTER b WITH (NOLOCK) \\ \n",
    "                         where a.IDN = b.IDN and UNIQUE_LOT_NO = '20170512CC01001'\", db1)\n",
    "\n",
    "# MES 연결 확인 : 20170425CS03601 연신, 코팅 Lot 불러오기\n",
    "data = pd.read_sql_query(\"SELECT F_ONE_LOT_TRACE_T(ar_warhs_create_no, '_E%', '%%') as 연신, \\\n",
    "                         F_ONE_LOT_TRACE_T(ar_warhs_create_no, '_C%', '%%') as 코팅, unique_lot_no 검사 \\\n",
    "                         FROM tb_iem120 WHERE unique_lot_no = '20170425CS03601'\", db2)\n",
    "\n",
    "# GOS 연결 확인 : 20170425CS03601 코팅Lot 불러오기\n",
    "data = pd.read_sql_query(\"SELECT F_FIND_CC_LOT(global_create_no) 코팅, unique_lot_no 검사 FROM tb_iem120 \\\n",
    "                         WHERE prod_date = '20170425' AND prod_wc_cd = 'CS03' AND prod_seq_no = '601'\", db3)"
   ]
  }
 ],
 "metadata": {
  "kernelspec": {
   "display_name": "Python 3",
   "language": "python",
   "name": "python3"
  },
  "language_info": {
   "codemirror_mode": {
    "name": "ipython",
    "version": 3
   },
   "file_extension": ".py",
   "mimetype": "text/x-python",
   "name": "python",
   "nbconvert_exporter": "python",
   "pygments_lexer": "ipython3",
   "version": "3.5.2"
  }
 },
 "nbformat": 4,
 "nbformat_minor": 0
}
